{
  "nbformat": 4,
  "nbformat_minor": 0,
  "metadata": {
    "colab": {
      "provenance": []
    },
    "kernelspec": {
      "name": "python3",
      "display_name": "Python 3"
    },
    "language_info": {
      "name": "python"
    }
  },
  "cells": [
    {
      "cell_type": "markdown",
      "source": [
        "## Installing Dependencies"
      ],
      "metadata": {
        "id": "oo92A1oMNVNh"
      }
    },
    {
      "cell_type": "code",
      "execution_count": 1,
      "metadata": {
        "colab": {
          "base_uri": "https://localhost:8080/"
        },
        "id": "mLcKlLFyNLUw",
        "outputId": "592588d3-6412-41a7-dd10-5e2fc26ee0f5"
      },
      "outputs": [
        {
          "output_type": "stream",
          "name": "stdout",
          "text": [
            "Looking in indexes: https://pypi.org/simple, https://us-python.pkg.dev/colab-wheels/public/simple/\n",
            "Collecting SpeechRecognition\n",
            "  Downloading SpeechRecognition-3.8.1-py2.py3-none-any.whl (32.8 MB)\n",
            "\u001b[K     |████████████████████████████████| 32.8 MB 1.2 MB/s \n",
            "\u001b[?25hRequirement already satisfied: numpy in /usr/local/lib/python3.7/dist-packages (1.21.6)\n",
            "Collecting gTTs\n",
            "  Downloading gTTS-2.2.4-py3-none-any.whl (26 kB)\n",
            "Collecting sklearn\n",
            "  Downloading sklearn-0.0.tar.gz (1.1 kB)\n",
            "Requirement already satisfied: requests in /usr/local/lib/python3.7/dist-packages (from gTTs) (2.23.0)\n",
            "Requirement already satisfied: click in /usr/local/lib/python3.7/dist-packages (from gTTs) (7.1.2)\n",
            "Requirement already satisfied: six in /usr/local/lib/python3.7/dist-packages (from gTTs) (1.15.0)\n",
            "Requirement already satisfied: scikit-learn in /usr/local/lib/python3.7/dist-packages (from sklearn) (1.0.2)\n",
            "Requirement already satisfied: idna<3,>=2.5 in /usr/local/lib/python3.7/dist-packages (from requests->gTTs) (2.10)\n",
            "Requirement already satisfied: chardet<4,>=3.0.2 in /usr/local/lib/python3.7/dist-packages (from requests->gTTs) (3.0.4)\n",
            "Requirement already satisfied: certifi>=2017.4.17 in /usr/local/lib/python3.7/dist-packages (from requests->gTTs) (2022.6.15)\n",
            "Requirement already satisfied: urllib3!=1.25.0,!=1.25.1,<1.26,>=1.21.1 in /usr/local/lib/python3.7/dist-packages (from requests->gTTs) (1.24.3)\n",
            "Requirement already satisfied: scipy>=1.1.0 in /usr/local/lib/python3.7/dist-packages (from scikit-learn->sklearn) (1.7.3)\n",
            "Requirement already satisfied: joblib>=0.11 in /usr/local/lib/python3.7/dist-packages (from scikit-learn->sklearn) (1.1.0)\n",
            "Requirement already satisfied: threadpoolctl>=2.0.0 in /usr/local/lib/python3.7/dist-packages (from scikit-learn->sklearn) (3.1.0)\n",
            "Building wheels for collected packages: sklearn\n",
            "  Building wheel for sklearn (setup.py) ... \u001b[?25l\u001b[?25hdone\n",
            "  Created wheel for sklearn: filename=sklearn-0.0-py2.py3-none-any.whl size=1310 sha256=72e5ab89a6998137a794f684847d564b185fab69ee4a4d0163aafa33a17e30b3\n",
            "  Stored in directory: /root/.cache/pip/wheels/46/ef/c3/157e41f5ee1372d1be90b09f74f82b10e391eaacca8f22d33e\n",
            "Successfully built sklearn\n",
            "Installing collected packages: SpeechRecognition, sklearn, gTTs\n",
            "Successfully installed SpeechRecognition-3.8.1 gTTs-2.2.4 sklearn-0.0\n",
            "Reading package lists... Done\n",
            "Building dependency tree       \n",
            "Reading state information... Done\n",
            "The following package was automatically installed and is no longer required:\n",
            "  libnvidia-common-460\n",
            "Use 'apt autoremove' to remove it.\n",
            "The following additional packages will be installed:\n",
            "  libaudio2 libout123-0 libportaudio2\n",
            "Suggested packages:\n",
            "  nas alsa-utils jackd oss-compat oss4-base pulseaudio\n",
            "The following NEW packages will be installed:\n",
            "  libaudio2 libout123-0 libportaudio2 mpg123\n",
            "0 upgraded, 4 newly installed, 0 to remove and 20 not upgraded.\n",
            "Need to get 269 kB of archives.\n",
            "After this operation, 922 kB of additional disk space will be used.\n",
            "Get:1 http://archive.ubuntu.com/ubuntu bionic/main amd64 libaudio2 amd64 1.9.4-6 [50.3 kB]\n",
            "Get:2 http://archive.ubuntu.com/ubuntu bionic/main amd64 libout123-0 amd64 1.25.10-1 [23.9 kB]\n",
            "Get:3 http://archive.ubuntu.com/ubuntu bionic/universe amd64 libportaudio2 amd64 19.6.0-1 [64.6 kB]\n",
            "Get:4 http://archive.ubuntu.com/ubuntu bionic/universe amd64 mpg123 amd64 1.25.10-1 [130 kB]\n",
            "Fetched 269 kB in 1s (472 kB/s)\n",
            "Selecting previously unselected package libaudio2:amd64.\n",
            "(Reading database ... 159447 files and directories currently installed.)\n",
            "Preparing to unpack .../libaudio2_1.9.4-6_amd64.deb ...\n",
            "Unpacking libaudio2:amd64 (1.9.4-6) ...\n",
            "Selecting previously unselected package libout123-0:amd64.\n",
            "Preparing to unpack .../libout123-0_1.25.10-1_amd64.deb ...\n",
            "Unpacking libout123-0:amd64 (1.25.10-1) ...\n",
            "Selecting previously unselected package libportaudio2:amd64.\n",
            "Preparing to unpack .../libportaudio2_19.6.0-1_amd64.deb ...\n",
            "Unpacking libportaudio2:amd64 (19.6.0-1) ...\n",
            "Selecting previously unselected package mpg123.\n",
            "Preparing to unpack .../mpg123_1.25.10-1_amd64.deb ...\n",
            "Unpacking mpg123 (1.25.10-1) ...\n",
            "Setting up libout123-0:amd64 (1.25.10-1) ...\n",
            "Setting up libportaudio2:amd64 (19.6.0-1) ...\n",
            "Setting up libaudio2:amd64 (1.9.4-6) ...\n",
            "Setting up mpg123 (1.25.10-1) ...\n",
            "update-alternatives: using /usr/bin/mpg123.bin to provide /usr/bin/mpg123 (mpg123) in auto mode\n",
            "update-alternatives: using /usr/bin/mpg123.bin to provide /usr/bin/mp3-decoder (mp3-decoder) in auto mode\n",
            "Processing triggers for mime-support (3.60ubuntu1) ...\n",
            "Processing triggers for libc-bin (2.27-3ubuntu1.5) ...\n",
            "Processing triggers for man-db (2.8.3-2ubuntu0.1) ...\n",
            "Reading package lists... Done\n",
            "Building dependency tree       \n",
            "Reading state information... Done\n",
            "The following package was automatically installed and is no longer required:\n",
            "  libnvidia-common-460\n",
            "Use 'apt autoremove' to remove it.\n",
            "The following additional packages will be installed:\n",
            "  libportaudiocpp0 libpython-all-dev libpython3-all-dev python-all python3-all\n",
            "Suggested packages:\n",
            "  portaudio19-doc\n",
            "The following NEW packages will be installed:\n",
            "  libportaudiocpp0 libpython-all-dev libpython3-all-dev portaudio19-dev\n",
            "  python-all python-all-dev python3-all python3-all-dev\n",
            "0 upgraded, 8 newly installed, 0 to remove and 20 not upgraded.\n",
            "Need to get 126 kB of archives.\n",
            "After this operation, 713 kB of additional disk space will be used.\n",
            "Get:1 http://archive.ubuntu.com/ubuntu bionic/universe amd64 libportaudiocpp0 amd64 19.6.0-1 [15.1 kB]\n",
            "Get:2 http://archive.ubuntu.com/ubuntu bionic/main amd64 libpython-all-dev amd64 2.7.15~rc1-1 [1,092 B]\n",
            "Get:3 http://archive.ubuntu.com/ubuntu bionic-updates/main amd64 libpython3-all-dev amd64 3.6.7-1~18.04 [1,096 B]\n",
            "Get:4 http://archive.ubuntu.com/ubuntu bionic/universe amd64 portaudio19-dev amd64 19.6.0-1 [104 kB]\n",
            "Get:5 http://archive.ubuntu.com/ubuntu bionic/main amd64 python-all amd64 2.7.15~rc1-1 [1,076 B]\n",
            "Get:6 http://archive.ubuntu.com/ubuntu bionic/main amd64 python-all-dev amd64 2.7.15~rc1-1 [1,100 B]\n",
            "Get:7 http://archive.ubuntu.com/ubuntu bionic-updates/main amd64 python3-all amd64 3.6.7-1~18.04 [1,092 B]\n",
            "Get:8 http://archive.ubuntu.com/ubuntu bionic-updates/main amd64 python3-all-dev amd64 3.6.7-1~18.04 [1,100 B]\n",
            "Fetched 126 kB in 0s (257 kB/s)\n",
            "Selecting previously unselected package libportaudiocpp0:amd64.\n",
            "(Reading database ... 159508 files and directories currently installed.)\n",
            "Preparing to unpack .../0-libportaudiocpp0_19.6.0-1_amd64.deb ...\n",
            "Unpacking libportaudiocpp0:amd64 (19.6.0-1) ...\n",
            "Selecting previously unselected package libpython-all-dev:amd64.\n",
            "Preparing to unpack .../1-libpython-all-dev_2.7.15~rc1-1_amd64.deb ...\n",
            "Unpacking libpython-all-dev:amd64 (2.7.15~rc1-1) ...\n",
            "Selecting previously unselected package libpython3-all-dev:amd64.\n",
            "Preparing to unpack .../2-libpython3-all-dev_3.6.7-1~18.04_amd64.deb ...\n",
            "Unpacking libpython3-all-dev:amd64 (3.6.7-1~18.04) ...\n",
            "Selecting previously unselected package portaudio19-dev:amd64.\n",
            "Preparing to unpack .../3-portaudio19-dev_19.6.0-1_amd64.deb ...\n",
            "Unpacking portaudio19-dev:amd64 (19.6.0-1) ...\n",
            "Selecting previously unselected package python-all.\n",
            "Preparing to unpack .../4-python-all_2.7.15~rc1-1_amd64.deb ...\n",
            "Unpacking python-all (2.7.15~rc1-1) ...\n",
            "Selecting previously unselected package python-all-dev.\n",
            "Preparing to unpack .../5-python-all-dev_2.7.15~rc1-1_amd64.deb ...\n",
            "Unpacking python-all-dev (2.7.15~rc1-1) ...\n",
            "Selecting previously unselected package python3-all.\n",
            "Preparing to unpack .../6-python3-all_3.6.7-1~18.04_amd64.deb ...\n",
            "Unpacking python3-all (3.6.7-1~18.04) ...\n",
            "Selecting previously unselected package python3-all-dev.\n",
            "Preparing to unpack .../7-python3-all-dev_3.6.7-1~18.04_amd64.deb ...\n",
            "Unpacking python3-all-dev (3.6.7-1~18.04) ...\n",
            "Setting up libportaudiocpp0:amd64 (19.6.0-1) ...\n",
            "Setting up portaudio19-dev:amd64 (19.6.0-1) ...\n",
            "Setting up libpython-all-dev:amd64 (2.7.15~rc1-1) ...\n",
            "Setting up libpython3-all-dev:amd64 (3.6.7-1~18.04) ...\n",
            "Setting up python3-all (3.6.7-1~18.04) ...\n",
            "Setting up python-all (2.7.15~rc1-1) ...\n",
            "Setting up python3-all-dev (3.6.7-1~18.04) ...\n",
            "Setting up python-all-dev (2.7.15~rc1-1) ...\n",
            "Processing triggers for libc-bin (2.27-3ubuntu1.5) ...\n",
            "Reading package lists... Done\n",
            "Building dependency tree       \n",
            "Reading state information... Done\n",
            "libportaudio2 is already the newest version (19.6.0-1).\n",
            "libportaudio2 set to manually installed.\n",
            "libportaudiocpp0 is already the newest version (19.6.0-1).\n",
            "libportaudiocpp0 set to manually installed.\n",
            "portaudio19-dev is already the newest version (19.6.0-1).\n",
            "libasound2-dev is already the newest version (1.1.3-5ubuntu0.6).\n",
            "ffmpeg is already the newest version (7:3.4.11-0ubuntu0.1).\n",
            "The following package was automatically installed and is no longer required:\n",
            "  libnvidia-common-460\n",
            "Use 'apt autoremove' to remove it.\n",
            "0 upgraded, 0 newly installed, 0 to remove and 20 not upgraded.\n",
            "Looking in indexes: https://pypi.org/simple, https://us-python.pkg.dev/colab-wheels/public/simple/\n",
            "Collecting PyAudio\n",
            "  Downloading PyAudio-0.2.12.tar.gz (42 kB)\n",
            "\u001b[K     |████████████████████████████████| 42 kB 1.5 MB/s \n",
            "\u001b[?25h  Installing build dependencies ... \u001b[?25l\u001b[?25hdone\n",
            "  Getting requirements to build wheel ... \u001b[?25l\u001b[?25hdone\n",
            "    Preparing wheel metadata ... \u001b[?25l\u001b[?25hdone\n",
            "Building wheels for collected packages: PyAudio\n",
            "  Building wheel for PyAudio (PEP 517) ... \u001b[?25l\u001b[?25hdone\n",
            "  Created wheel for PyAudio: filename=PyAudio-0.2.12-cp37-cp37m-linux_x86_64.whl size=53819 sha256=1f93d3923a604972e80cd2a300673f9bd82e17db27f4199acd6213f0aa88cbea\n",
            "  Stored in directory: /root/.cache/pip/wheels/35/e0/b2/0e02f4af505bc69cd9f349eba8d6c558cd07e184a9a16f3537\n",
            "Successfully built PyAudio\n",
            "Installing collected packages: PyAudio\n",
            "Successfully installed PyAudio-0.2.12\n",
            "Looking in indexes: https://pypi.org/simple, https://us-python.pkg.dev/colab-wheels/public/simple/\n",
            "Collecting ffmpeg-python\n",
            "  Downloading ffmpeg_python-0.2.0-py3-none-any.whl (25 kB)\n",
            "Requirement already satisfied: future in /usr/local/lib/python3.7/dist-packages (from ffmpeg-python) (0.16.0)\n",
            "Installing collected packages: ffmpeg-python\n",
            "Successfully installed ffmpeg-python-0.2.0\n",
            "Looking in indexes: https://pypi.org/simple, https://us-python.pkg.dev/colab-wheels/public/simple/\n",
            "Requirement already satisfied: SpeechRecognition in /usr/local/lib/python3.7/dist-packages (3.8.1)\n",
            "Collecting pydub\n",
            "  Downloading pydub-0.25.1-py2.py3-none-any.whl (32 kB)\n",
            "Installing collected packages: pydub\n",
            "Successfully installed pydub-0.25.1\n"
          ]
        }
      ],
      "source": [
        "!pip install SpeechRecognition numpy gTTs sklearn\n",
        "!apt-get install mpg123\n",
        "!apt-get install portaudio19-dev python-all-dev python3-all-dev\n",
        "!apt install libasound2-dev portaudio19-dev libportaudio2 libportaudiocpp0 ffmpeg\n",
        "!pip install PyAudio\n",
        "!pip install ffmpeg-python\n",
        "!pip3 install SpeechRecognition pydub "
      ]
    },
    {
      "cell_type": "markdown",
      "source": [
        "## Importing Dependencies"
      ],
      "metadata": {
        "id": "KSl1rDMyqcPe"
      }
    },
    {
      "cell_type": "code",
      "source": [
        "import io\n",
        "import random\n",
        "import string\n",
        "import warnings\n",
        "import numpy as np\n",
        "from sklearn.feature_extraction.text import TfidfVectorizer\n",
        "from sklearn.metrics.pairwise import cosine_similarity\n",
        "import warnings\n",
        "from gtts import gTTS\n",
        "import os\n",
        "warnings.filterwarnings('ignore')\n",
        "import speech_recognition as sr\n",
        "\n",
        "import nltk\n",
        "from nltk.stem import WordNetLemmatizer\n",
        "# for downloading package files\n",
        "nltk.download('popular', quiet=True)\n",
        "nltk.download('nps_chat',quiet=True)\n",
        "nltk.download('punkt') \n",
        "nltk.download('wordnet')"
      ],
      "metadata": {
        "colab": {
          "base_uri": "https://localhost:8080/"
        },
        "id": "bfketuwANXff",
        "outputId": "c4c0d318-eb84-4aaa-f65e-aa7a3b13ef2f"
      },
      "execution_count": 7,
      "outputs": [
        {
          "output_type": "stream",
          "name": "stderr",
          "text": [
            "[nltk_data] Downloading package punkt to /root/nltk_data...\n",
            "[nltk_data]   Package punkt is already up-to-date!\n",
            "[nltk_data] Downloading package wordnet to /root/nltk_data...\n",
            "[nltk_data]   Package wordnet is already up-to-date!\n"
          ]
        },
        {
          "output_type": "execute_result",
          "data": {
            "text/plain": [
              "True"
            ]
          },
          "metadata": {},
          "execution_count": 7
        }
      ]
    },
    {
      "cell_type": "code",
      "source": [
        "from __future__ import print_function\n",
        "import scipy.io.wavfile as wavf"
      ],
      "metadata": {
        "id": "lRIG_nN5PA1g"
      },
      "execution_count": 8,
      "outputs": []
    },
    {
      "cell_type": "code",
      "source": [
        "from pydub import AudioSegment\n",
        "from pydub.silence import split_on_silence"
      ],
      "metadata": {
        "id": "YfdGVm9sPD7G"
      },
      "execution_count": 9,
      "outputs": []
    },
    {
      "cell_type": "markdown",
      "source": [
        "## Chatbot\n",
        "\n",
        "Writing a function to classify user input, which uses nps_chat corpora and naive Bayes classifier to categorize the input type by classifying them into listed categories. Bot will answer only to Question type classes."
      ],
      "metadata": {
        "id": "uSv1gFuzPgt9"
      }
    },
    {
      "cell_type": "code",
      "source": [
        "posts = nltk.corpus.nps_chat.xml_posts()[:10000]\n",
        "# To Recognise input type as QUES. \n",
        "def dialogue_act_features(post):\n",
        "    features = {}\n",
        "    for word in nltk.word_tokenize(post):\n",
        "        features['contains({})'.format(word.lower())] = True\n",
        "    return features\n",
        "featuresets = [(dialogue_act_features(post.text), post.get('class')) for post in posts]\n",
        "size = int(len(featuresets) * 0.1)\n",
        "train_set, test_set = featuresets[size:], featuresets[:size]\n",
        "classifier = nltk.NaiveBayesClassifier.train(train_set)"
      ],
      "metadata": {
        "id": "S4-acGp3PcPq"
      },
      "execution_count": 10,
      "outputs": []
    },
    {
      "cell_type": "code",
      "source": [
        "# Keyword Matching\n",
        "GREETING_INPUTS = (\"hello\", \"hi\", \"greetings\", \"sup\", \"what's up\",\"hey\",)\n",
        "GREETING_RESPONSES = [\"hi\", \"hey\", \"hi there\", \"hello\", \"I am glad! You are talking to me\"]\n",
        "def greeting(sentence):\n",
        "    \"\"\"If user's input is a greeting, return a greeting response\"\"\"\n",
        "    for word in sentence.split():\n",
        "        if word.lower() in GREETING_INPUTS:\n",
        "            return random.choice(GREETING_RESPONSES)"
      ],
      "metadata": {
        "id": "4PJTu3RkPi8N"
      },
      "execution_count": 11,
      "outputs": []
    },
    {
      "cell_type": "code",
      "source": [
        "#Reading in the input_corpus\n",
        "with open('chatbot.txt','r', encoding='utf8', errors ='ignore') as fin:\n",
        "    raw = fin.read().lower()\n",
        "#TOkenisation\n",
        "sent_tokens = nltk.sent_tokenize(raw)# converts to list of sentences \n",
        "word_tokens = nltk.word_tokenize(raw)# converts to list of words\n",
        "# Preprocessing\n",
        "lemmer = WordNetLemmatizer()\n",
        "def LemTokens(tokens):\n",
        "    return [lemmer.lemmatize(token) for token in tokens]\n",
        "remove_punct_dict = dict((ord(punct), None) for punct in string.punctuation)\n",
        "def LemNormalize(text):\n",
        "    return LemTokens(nltk.word_tokenize(text.lower().translate(remove_punct_dict)))"
      ],
      "metadata": {
        "id": "wDdAROU8PlrE"
      },
      "execution_count": 12,
      "outputs": []
    },
    {
      "cell_type": "code",
      "source": [
        "#colour palet\n",
        "def prRed(skk): print(\"\\033[91m {}\\033[00m\" .format(skk)) \n",
        "def prGreen(skk): print(\"\\033[92m {}\\033[00m\" .format(skk)) \n",
        "def prYellow(skk): print(\"\\033[93m {}\\033[00m\" .format(skk)) \n",
        "def prLightPurple(skk): print(\"\\033[94m {}\\033[00m\" .format(skk)) \n",
        "def prPurple(skk): print(\"\\033[95m {}\\033[00m\" .format(skk)) \n",
        "def prCyan(skk): print(\"\\033[96m {}\\033[00m\" .format(skk)) \n",
        "def prLightGray(skk): print(\"\\033[97m {}\\033[00m\" .format(skk)) \n",
        "def prBlack(skk): print(\"\\033[98m {}\\033[00m\" .format(skk))"
      ],
      "metadata": {
        "id": "DqmfXtQMPouS"
      },
      "execution_count": 13,
      "outputs": []
    },
    {
      "cell_type": "code",
      "source": [
        "# Generating response and processing \n",
        "def response(user_response):\n",
        "    res=''\n",
        "    sent_tokens.append(user_response)\n",
        "    TfidfVec = TfidfVectorizer(tokenizer=LemNormalize, stop_words='english')  #Calculate document vector\n",
        "    tfidf = TfidfVec.fit_transform(sent_tokens) #Calculate tf-idf for the given document \n",
        "    vals = cosine_similarity(tfidf[-1], tfidf)  #Calculate the Cosine Similarity\n",
        "    idx=vals.argsort()[0][-2]\n",
        "    flat = vals.flatten()\n",
        "    flat.sort()\n",
        "    req_tfidf = flat[-2]\n",
        "    if(req_tfidf==0):\n",
        "        res=res+\"I am sorry! I don't understand you\"\n",
        "        return res\n",
        "    else:\n",
        "        res = res+sent_tokens[idx]\n",
        "        return res"
      ],
      "metadata": {
        "id": "PzpF5P1aQMSS"
      },
      "execution_count": 14,
      "outputs": []
    },
    {
      "cell_type": "markdown",
      "source": [
        "## Testing TTS"
      ],
      "metadata": {
        "id": "lCuIO2pf_Eof"
      }
    },
    {
      "cell_type": "code",
      "source": [
        "from gtts import gTTS #Import Google Text to Speech\n",
        "from IPython.display import Audio #Import Audio method from IPython's Display Class\n",
        "tts = gTTS('Hello! I am online...') #Provide the string to convert to speech\n",
        "tts.save('im_online.mp3') #save the string converted to speech as a .wav file\n",
        "sound_file = 'im_online.mp3'\n",
        "Audio(sound_file, autoplay=True) "
      ],
      "metadata": {
        "colab": {
          "base_uri": "https://localhost:8080/",
          "height": 75
        },
        "id": "_EdwdKk6QQCO",
        "outputId": "189aac91-cd25-4d22-edd7-fd57fb70cf5d"
      },
      "execution_count": 16,
      "outputs": [
        {
          "output_type": "execute_result",
          "data": {
            "text/plain": [
              "<IPython.lib.display.Audio object>"
            ],
            "text/html": [
              "\n",
              "                <audio  controls=\"controls\" autoplay=\"autoplay\">\n",
              "                    <source src=\"data:audio/mpeg;base64,//NExAAAAANIAUAAAMLgxZYLahDscZdJcm8gZPjqIJxIVwjcl7mMYGjyo7/P3IEw2Nvz8zJGKN5n8/7DZlGhi/+r/2RihMmf//Ar2KV//+5F41UOQsT6z3sioY3DC5W3//NExFMRUc5UAZQ4AJa6TNMthcGFiUDqEaCdChQsSOMdD6+AwRSws20cpFATn9FRIAeAGP7dC4ewn6wex/MKx/ckAbpExQQDw8i1ikvwM2cvAeU2ZaifHsf21/UbSE+V//NExGAiGpJsAc9gAflJ9jpm99ftPfuvsNy577l77/Mde/8x39OV+kzszde/iPhmfx1MN9HKCJ0ioLEXIJf0LqGscMFEjuYHhdHsswJ9/9q3JYcWLY4HGzV8OxeAIL3o//NExCobqi6MAEMQmA7QFpbGll24Pg0EST5xtnMWcHgmFybsYc+l9jpQ9WyBt4odJ9uHAo0xPFv6L+Y5En0RK3Tw46xA6pKg9TXKUEF6SXc7XXHWoQrhSDfS81UPagxG//NExA4TuTqgAHpMcMF1goZmyVeMEqMNlJU7IKQMSU5ZMKYv4RIOZTt9d4slOWmty6cHLL70mpzOKZYiwLuEYq8UEB8F0hBBR8Or4vdQys80+w5U0KpeY2UtkdWpxmy6//NExBIW6UqoAMYMlFFzeVndPegBrxf0SPIrboyRW958dZ1m7KaSC9hB8reh+KSirEwhD5RUn4/jCef0X+8lJoIZmz038sLsIlDgwWcUHMkg/KF9Kl9Nvc3q/DAaS9mf//NExAkUgbKwAM6KlHlULpOpf5Ab+haGGG5dqXVnZJlcLu7rT6vJz7nbyOcb7ukfBN+U3O4lChN8xw427iDLxo5eFB87UQYTxhPX6L8a5xYMMUZTTShfWNYDqEl2pmIJ//NExAoT4bqwAJ5ElOw8xbwsstVVBcUZ1VqSsYEgeV3eXHKbN27jG1BW7UWONavFZ3H6BhTdDiOgUnlK+hkFCNlK5NFP5UV+in1UQH7zfpFggOWt//qCjbKmz3rvVUTE//NExA0VscaYANaKlPceOSeuzFlpUDnIdpx01LcnB0cGY779SukiRa6W2cf3yX65/5Vr/8oi3WvoHvqbylHaGCIAh4q4iKe5peUYowcgeAynoNa3avhtnbOsdRg06V2L//NExAkUwcKEAOaElNWW0wjAZlKFlvXYoYw40ECKoEIpmJXXiEIcBQoOlFn831nMv7rLuPP/7lr+pPgjfX//6KViPYUMapSAXzCW0CkDtT9Oz/ez//opp72+8i5xRoza//NExAkQuXaIANzElJZiGXKGHVGhTMpDqJ0VqB92V2ZIiwQJAtAmCIqompoyHZvU/o30///s3qd9DBVbPvrmJ1nt////6S6ls/rOWh1M5le3ZrBgIdUFKjOCsjuDZgOE//NExBkY6fKUAN0OmLhMD8xJoOgAs4HESo5BFyeAQOAYEFRlUjRl6zF/Uv43+hje7+nMNJBCMmvRSZfxx91PHydVitUU+phiWcfPq9m7//zAfAggcCAkRW84Aw9LTLm4//NExAgS8VqoAKZOlCBIBKSZW3opVtgv+byzz2vIiBoOflJVaoZwxwycDn//6td/mfkPu3o3xxNGKhM5GZt1INS5k/DDZ9Mu6UX//+V3ZPQhS8sAi0erUwJuB7DC6+M6//NExA8Q2VqwAJ5ElMJB5DnTndbmRYiev97de2L3u71AVXv/+se/0/X6t8538a3DKOWR6Kj8qA9OSfeBJb////0qq9/eo+AHtDw52qmUd5vdSxa1EAL40+d7yvYQzjW///NExB4QgWKsAMZElN3Jcnnb1h248UX////79/UKT7t6AROYCG8wZtHOesJfKgx9iaT/1t8ApA0LPWMMMLCsUD2IPwf8qUCXc/jbxcMZReX8N1mkDRsXr6/O263///rv//NExC8SIUqoAM5OlM37EfqW9QuW555J8M6ueUD4WG/6f0////66s8/V2GwGuWX+0SE81cwh2Edpm4GC2eLgYNP5QAnITAqDTs9EGUIBGPCMJRwrGwIjZ9XOf/V//as8//NExDkRcTqoAMZOcORlciRah6a/GjwA56Kk/V2PJ4hlobpqMQENUVNo3KVMwK8rqb0L3sNIOEXxCXE0wjhHCJi2oQfioY1IhKpiBEsKgNS/TpywUCx9n+pN6v/1Vea///NExEYQyJ6oAMYeTCR4A5m2oG7ixD2hFJ0wqM2xS8L5QbUT9Tma8eY9Z3DBOQu4R8CXHoMdXs76C/gw5MliLRRVrP2icNHntT/QPaf5kRhnSAyaNq2BXE1RkkwuKaeC//NExFUQMKaoAMYeTAhECk2aAghAgUAksXET3U1WDf9fikkIyYGhMQSsgfYJyAbHhKR2NU1za0o9b+9P1mGlwKz/oeYwETdSClo6E7mSSlIX+c7BxwhHO1EFIvK2IeOZ//NExGcScS6cAM6OcMx1Z6mr8q4GjC4QoCWE2ERd6aYBYQBHKykTta9//+1rDueV+Yl0KnZsYne5C8B21l9NGzOqdeMDvoR1L5gGov1SoNyymjpgpoDZ1AiXai8w+XIQ//NExHAQyS6YAMZEcLQSzkNXkN7zZf1a8EEAWfd7lrFlO/oeul4RWhP6936YKYpBZzghncWAgYuXSIiRcG+DIlsQhHcSAx4FZE+LacUVUCfVUpU+330f6P9f1IZBS76f//NExH8Q4S6MAM5EcOjSkDEk/6prrupBnDtgECG5GBI6QD8yQVBnBWkMLTpfmmQBTsYQQpwy5P1KiQxVpTr2cb9KstYmjMnq19LNb/tqAs+PTngbMgmSf/1VCgkxAkzU//NExI4QcX6EAMzElDPNvOknQpAhEzyEygE6kSoU6I6AJQTpBRcXNxXJ0sIVIMVOIVrddZxv5ta0KwNPg08qCwdo9USgr/tHqj2mUwcS04ikOESzZCJHzynDzQnJVUpt//NExJ8RWTJwAN4EcB0CBsEBQeBFmCKR4nNJKllnCZ0s5sRHzjpVoG0lHtq2YaSZWpR30zt3d/w7GuK1E9lj7V7Q7hQ9OC8RCCmJBSCBUI0bs5lPu2GPuZB0rMjwjQdg//NExKwQSKZUANPeTMKJcjh0200x4+fQ9oTFJFlPT+P/V/939zG5JQeCwNAURLVb4rskSKKP1E0DlBTk6PWUZybkJYF2quVIhNeBIMMC4MEXm2LMRcwke048UQk9v1Np//NExL0RWGoIAHpSKDf+gZaKJgYUf9MAtOGKt/UlCxdATCEwGipISkS4ScmROJpT3xqedNVT04mKCcYVSOmqClKiIJHg0eFDVAVFkXkwkHgqMAQsakwk16HVEjZ21plV//NExMoPoNoEAHmGcEsBNliISxcz7k2u1M4BIlBBWGFhAbNWGFhA4ZVZTEOCU2ZAYRDhkyCYhNmTIqh3//zPNhkVFTQJhEVIAcExWaBMVwOEfxYw9QsGwIFhYNgALCYy//NExN4SMOH0AEmGcGQcFjJkABYNmSJIicBmE0FigECCgg4ALGEgQUMDCCxhxQCGBhHQcYSE0gaoSVhqqFabKrdt////////+/p9ViuVUlVKqiquqiqqVYq/////1u0L//NExOgUOMnwAEmGcCUrSOSlaRCUJpA1gkrDEREXQNuaQkQydIG3PZREJYCJoLUkRBhIGYmpcpGnFHoblScaXF5uVLNebmzTu257qiL9FX/////6L7GVUXuVEX6Kv/////NExOoTQGmwABjGKNjKqHZ2MUyKR2cpgoMDVRElVUxBTUUzLjEwMFVVVVVVVVVVVVVVVVVVVVVVVVVVVVVVVVVVVVVVVVVVVVVVVVVVVVVVVVVVVVVVVVVVAAOFExdy//NExPAWOJXkADCGTTCYAARji55G//7Y9k02Jp+I9371o9k0+fe+IjvER/+0J20eyabEyetBBDLIIZd74/934MhyCGXfaPHu/BkOQQx7v+Lvf/+8Z/4iHiPd7///4MIR//NExOoVUvmEAEmEuY0Rjnk0zAGF7BBAwMM8AEL/q9OFczRRH/pOAoHMUDf/Vg0NJMxC+eSNAMObA1skDsqfKidQGmLAACwNONAzCL7O+BpjQDBAKBgsgE4fvd6Yj4LI//NExKwAAANIAAAAAAOUEiAABAMAP73fgMAyDCdAsrJIggZb///HOE6A2Dwbbixi/D5x3jh////EpjjDjBc5EwbHBcg4BcBMEEJ//////LBEE3QL5fN3WboFw0puTawk//NExP8aKulcAUUwAUJnZHcrrdlZZEZTwDM0/BhbGFkC1mbx5yEkVfqHmCaOp0MyeaawxMfKuRAWqA3nCQDXRJk/hR2MHc3a3pMF25HNVMN95Xz/tvXJy9Vs1qkvu0/7//NExOkkYyo4AZugAO8zyo8d8z1Yl1r+Y71zO5Y/DmscMc731L+s/ta+zn3PDfNfz8//v81+XP/8v/7BItvVn89RFYUIzYNxugENNkVSV+Ci9wKEX7LVFDRGNpooonhE//NExKoiKkagAZjAAYgaAyXz3VHBmQINYYBITxkCkxYJZMJoyQuS71VQeH5VdvP/T02uyipjq1SYWceV6t6rjK99y7KK8/FrsuwvXvy+9zXN97/N97/fxz/XbODQVCJQ//NExHQfMaakAdnAACo4jFUpOzJToYcns48QhmrQyl44qts6iiaeKR99DAx5O2HZXDIXIDN2cxUBi7Sg4DMHlAhPYexIAhhjJkZSYlx26J1mCkxkpquht17NaZUl+29P//NExEoiCdKYAM7Yldlo/HmwLiuzlDpWWGOOXjEnr0piUi7GVRJIQpEtLzLlKdtfn5Zp2Tn9SceptK1nM2v3jyiei8dtlR2ib//+qvy/UdMkYHrb0MsDN0fNcBpSkIYh//NExBQWgSawAMZwcNgIRKi47B52usgMJWvF5bDV5LrCrbcEwLgqNy2tBbEljwPexktSxvdyjw/P7V788sZqpYwzgzwwHTyluks0Lzz1fTaZ05TsXgTwNrQeLOAX6isZ//NExA0U0SK0AJYecFWKCLYLhILa+SyKi0CfalUqe6HNZsKdQx5iU5TJVyssfrMSIb5dEY4vW1mUbHWtI7yltPoMePHbYEMFTocB96E/S9X9X+Nq3/P4vIPPR4YbZkBz//NExAwSiTK0AMYYcMD3K8qYyM9W/nzOUvQ6nNfMv7LPnoB5JlNmTon3611ocluFyyUwEtfn6cnD/yytsoY/F0OJQKfRWUz3+zoLVVazg3QQ4XVZDy6JEux+LukoRIVj//NExBQRQR6wAJYacA/lpL+j/uvrUXWgXX5iQG0h9CBE6W7KUMMaJrl0qPq7FE+JxK+tks+oOUh2NE9d/+v//ma+AeDIM+3X0FMIat4XZAVaxeQ6zwiLAMd2P26eX5/u//NExCIRcVKwAM4UlIJPnqxNu2x/HLGFUBgfmo8ZjhvjdLzi7TkVBsnYtzuKn4tSWd93quKSG1Msu4NwMGhE1OC/vF+TIehos/mGVpW81lhBtbrID+HNCRFqy8wVEWRC//NExC8ROTasAMYacFo1uyWtMut9balmqK3SYvPX02PeNApwLtqqyowyYNRAUALTX6cQwcWG4yuPRaoytAE987a3F3ds63lGXGo+RbqMcSqpuG5uMH+7/X/xEi/OYe4t//NExD0REPqUAN4ecHqAAY/+AnrqkNNjLkhTV8As0uuWLKMGLDUiUeTLuULE0cZ7Co+khyxuRhNNNJg1/KwCsIQ5cs421W0hpqbmdyFBMPjRRiUBy/+gIBwfz780iAdJ//NExEsROOaQAN4QcO0sSj5iMGRQJagJd+p1I+AYxTKqGIYX4vWHwACEsL6w8ugOLRa/KIci8tzwwqVTCQyDBAKxDd+wEL5xlaUK5/6HHEwpFJIWIJF3Lug+KlxGbQ9l//NExFkQ2K6gANZwTA4ICrtquzwzEA0KclUyiWVnT9+bi2+/Txezj/KnP87rzlav//9Cmhz2B/r7YmvVz/OUCPiJFeUQ0EvaDfwZ+B/S63RoeKlnMpsRICXzrQDTg00B//NExGgQyVKsAM5ElZKkbUXQbv85cdTLf1KuP/XbxL6+vt/y8GsFDrhY8440j//+lZ3Gs+pjTI8VnqRuZwAMXzjywoZ4ktSBxgoJF876Whgow0qcPcTMIfXbGJOoeCQk//NExHcR4UqoAMZElB/JhkEf59SOX+/hKdCCLcW0Y3T37FbUWVkCA+rhEiBCkkOAGZUjb/pVlmWEvNUxYPYqDqU44NWKZpRIeGSaalJABuSSFUBwUBHBMJXdDiMxhuRi//NExIIV0XKgANaKlMAt9/Rg0ThE1ZjFHSUS7lBK8dZyyXU2NE/eE4s15G31/N/nr7DqUaDIekqMNonGKsoIa1BHPltYb/sitRITKn5yoVsGPwy1Ik0tCEjcmpvsouFp//NExH0aCaqYANaQlDSrorg6UO0ORxh58DGugVkaE8qcRiufyOIiFkMLVNndiwXLq/u2aNSevm27XsrNR0N0CkazkWY3+t+p/JdNvFsHZRHYdhzjJ0vIvTyohkphc5c0//NExGceUcKMAN6WlOrqD9hF10iGUOceJlmW////5OqZ3pZZicarXTfoxUQzKZJBpAMEGyEDzfLpbsxIe33xeYOtzj67RVpUc5MohHKE88onBEGxKi7VhjeGccnerD45//NExEAXyXaUANZKlEg0KZXYeTPxiriq4iOTccustRaoDPOmCUsaLeL1PfTVhrVWkM9SQ4qWhcUZvMc8iTOWVKbAUIcaLvqXlSuZtSx1YWdtYO1KXeypYeftrwSQyKYe//NExDMSSUKUANYWcNOuj2W2mTqI01zrj4///7+ZSMOf/qQqhFiso+buwv5InWMOzEOaXL9N0MkEGLa2fIXXzU9J9WYDih0bBbDGgwSZqGm8vrf0i/nF7oIAqUCxVlm0//NExDwS4aqEANvKlG1O5tMqAvf//7lGhs9y3rrGrHlDTRkBrc+mgSWA0zxKlW0BnuRyhS3o+51Hl3nEKHL25rfkNIgPgokgUFfyL90uMi5csWu8s34//3174FhiZz9M//NExEMRaUaMAN4QcDzPXZBNR8cKGscsageTAc2aME02Gy6hHlFfgsu5YwtrqiuMsHCG9rUooGtTeNBw+6zy3wX/J13StfK7S3unLaafzx5ldFblNLC9Z0owkG1wQgJo//NExFAQuOaMANZWcNdjTo/MSBugfkySNsgBVrry+PmAPGpuPLiQsfygf1GHDREERejDXcbci5XlUla6vy1FG66QgSb/u/1Vp6+SDJzDjezbYgBmNUBYczkt2RqksLUd//NExGAR2OaEAN5UcDpVGgH3cccmHgHUgZnBzHBh7Z6ULipn0mMEv3zmpZz/w/v4k1CNKFF6HfRtP9Oos6ODF8nI11OeoG7EABBwQRd4nP/0KpZl8cMV2D+Vgvw5VPpH//NExGsXCb6QANZElFBbrX5Y2UwMUxXWsCMQFjwc/7RgSARLRujYaOsGoA1CnljuWMK1233WVvvlJys9HbRG7/09jwQMOGnmydEXpwK1ilr/v+X/xpjAIearMDIAHQim//NExGEU6VqgAM5EleSCFhM+krMJMdleWJWX1A/IYiscFGvhG9x4wjFkQ/9A9d/X1b+f75nofmXYr9vfs/PRw09YHFq/L9pFBXxdWzWvhugEcEaKscpwUdq1HgyIIc+V//NExGATIVKoAM4ElTSqkCwXP3cC5BGdi847IWGsA9ldKkyVTmh2HKzhUuuVan/+nI1TC3cyv//p0ZrHHdZdzUk9PI5/qO0q1n90qMJ42JiEBa4PZj9CsKNQSCelTrE1//NExGYTSVqsAMYElXXpXCTGKU6/X9ZKPUvnKnRAh4O4lsXsOUr/D+00tt+0LF5VCm6H0duZqypoNEzGQSG3MpPJswu+KFv/0Jq9+rpI0grMZUrECPWTZXWfDodjtqTB//NExGsVIZqkAMZKlBRK5RNZgNloUNvuzAxXIc7MvQMyNtL7cpHRXvx7uak/1FYuXFQl9y/r5fxFfG4EiKMg45lEN2KMwC4htPfrtfu4OQg/sel4o4SDcuxxBIkla5YU//NExGkVAYqgAM5OlEmu4dcAEGDLS6QMrX+EBk1IoA4DHfrkNWBjH5PBQ9zfb/vTfvV9a1x/Tv7V2gwMF6G27XI/+6fC5AYqT6A1wJ1AvmsAwzNpqq4bC1q1H0dRm0BR//NExGgSuOasAMYecShhK9BWEuQ/D9mSqE4nhbXFhTJYh4sERncGqB1oASNDmPu/Zs+3+tMsbvbHVf+oz8iTZuUAY2VU/AP5JWobgp4sKvL+XaeMn08uzpbCaFilnhfY//NExHASUMqwAH4ecfkqw6QiucLh1D0fTZOZwQRXYhja8DykolSBCWehaGYulZvUfC91e4R5J2DpaFxm0BTJwFgXJyXZKYteqHKVPncdNXNQ1iw1ZvazU/WhWWCEBY3J//NExHkRoOqwAMPYcMtLa7V93WmG6fk1p37edfKBwFkDmX49SJ2/WCSX67ICi8WZ8J0e9chQhaawhTVVdqMlxhLNvZUxcPI249bFVFzDaxRZuGlSPIEmBFGtSi977mmk//NExIUSgSaoAMPYcNl7XL2TRRz5Oj/CKpJZpgPumiAI0LKeYgMD50aLAS0ZdrFKg7L/F0uN7vnXtN+/muHf/xfGifAhBNSzqBudc9FrGvs2JR49FUieFnpedNRYGhEy//NExI4RmUagAMPMcIZpf01YWcZiaKElykYak8bIUHBzNvjKkFhwE0OA1MQCbxWUgzjeD9MMfyst8ARH5tWP7QzgLgliQSHP9KDVgpuLted//0F/wpsmQEpdovGK2K3V//NExJoSqT6YAMPWcOpic+bkBsbBASdCCDwGylGpGHCA1zTsOCpX9qV53epV2tjTasdukf+BxxNNSdcxLbNNAgyNE4vPr1SzCjz//1NTZgmEMiZlOs8zIx2fDLkuKm6b//NExKIReOKEANPEceFj3vOMnVD3FdMqjTDXGu1KvPt81l32IznV7OMjSMXtPvzOgQcP9XPanmYjoWUOf+hSVtV+XIO2kUAha8xptRlYEKCxngzQtY6VbCO6R05AYqMO//NExK8SeSpwAN4McC99Wzli3kWPnfmUCYWIPsVHppUHSOYGo7SplLirjjKsmZ/9SfTijjS6JRxQQVGDv1gwoCCBAxINHh56BQgDhNZ5sFUqB4WcagA9mfev/OZ9TXcU//NExLgQ6S5sAN4McKPOkPBMelTzRpKWpAXcyGZOb8q+BWkv/8qj6k3jLsjbjDLQTdEwqUM2SSCS+GQQGJP2DUCIHSawIQkrDJ/rW2v7Xrf6sYPHEQKhBoqhubmDzh0V//NExMcSYTJsANvQcIKljxUJgqWPAr/1/1UrBUNIAJ6EoHYrGLi6YOOZnOHbVu68aYjo4duv9sSRwrcmZg6u/okksFFToqkSuWdnmyRZJEtOnt6O6hbrxY0hpaRvJuqo//NExNARQTZoANsQcFN93GYtSI0UFV6BgpJnIgqP00FRvGJErmCRHDtcjJ1RSUm4yXOp5wkdb7JEodAVtRhWDKCVZqqs0h62G7NahtLaq5VVnIKbMEpPEUaFblKN6uzj//NExN4RKP5MANMKcGOa3ZXXPavYZdbLumaHm2VgzbU9eUAJosfeE2QAIYAGMbACwLPzP/4XoXXOI+iJXc3d4ggnFiKHFmgRMBEc8ASCMz83////v68AZD44+AYGMh+A//NExOwTMPIAAGGMcAQDA9oDSAEc+O8A/X//////fwUFFFlIWtSoGuqbLFa06UbkEjk1PMU9IajsOoVDqjPDtJzSUvHK5QZkgkHaSscXy4pjit8T6J9e4vPFaxXFDtlv//NExPIXodngADGGmVUHjBDEoTCUolUcqKO2GmFihjmWVLE2cOHjmUYWQQNZR6PBK3UjJapkomzXQfHF8rVob7XkwpKSjbSt89NR1V3Q8x0fkYNGElU7jKhfC6obx3oQ//NExOYUoUHgADBGcZdZZmFuaw4gUsMv1ZQToa1HJlYKCBB4KkQWEZkBCwuz+LmQk1/WKNxVvoFUjBWZULmVf//1XUKoAoqSewBVTEFNRTMuMTAwVVVVVVVVTEFNRTMu//NExOYjiv3gAMMQuTEwMFVVVVVVVVVVVVVVVVVVVVVVVVVVVVVVVVVVVVVVVVVVVVVVVVVVVVVVVVVVVVVVVVVVVVVVVVVVVVVVVVVVVVVVVVVVVVVVVVVVTEFNRTMu//NExKoQWJXEAHjGTDEwMFVVVVVVVVVVVVVVVVVVVVVVVVVVVVVVVVVVVVVVVVVVVVVVVVVVVVVVVVVVVVVVVVVVVVVVVVVVVVVVVVVVVVVVVVVVVVVVVVVVTEFNRTMu//NExKwAAANIAAAAADEwMFVVVVVVVVVVVVVVVVVVVVVVVVVVVVVVVVVVVVVVVVVVVVVVVVVVVVVVVVVVVVVVVVVVVVVVVVVVVVVVVVVVVVVVVVVVVVVVVVVVTEFNRTMu//NExKwAAANIAAAAADEwMFVVVVVVVVVVVVVVVVVVVVVVVVVVVVVVVVVVVVVVVVVVVVVVVVVVVVVVVVVVVVVVVVVVVVVVVVVVVVVVVVVVVVVVVVVVVVVVVVVVTEFNRTMu//NExKwAAANIAAAAADEwMFVVVVVVVVVVVVVVVVVVVVVVVVVVVVVVVVVVVVVVVVVVVVVVVVVVVVVVVVVVVVVVVVVVVVVVVVVVVVVVVVVVVVVVVVVVVVVVVVVVTEFNRTMu//NExKwAAANIAAAAADEwMFVVVVVVVVVVVVVVVVVVVVVVVVVVVVVVVVVVVVVVVVVVVVVVVVVVVVVVVVVVVVVVVVVVVVVVVVVVVVVVVVVVVVVVVVVVVVVVVVVVVVVVVVVV//NExKwAAANIAAAAAFVVVVVVVVVVVVVVVVVVVVVVVVVVVVVVVVVVVVVVVVVVVVVVVVVVVVVVVVVVVVVVVVVVVVVVVVVVVVVVVVVVVVVVVVVVVVVVVVVVVVVVVVVVVVVV//NExKwAAANIAAAAAFVVVVVVVVVVVVVVVVVVVVVVVVVVVVVVVVVVVVVVVVVVVVVVVVVVVVVVVVVVVVVVVVVVVVVVVVVVVVVVVVVVVVVVVVVVVVVVVVVVVVVVVVVVVVVV\" type=\"audio/mpeg\" />\n",
              "                    Your browser does not support the audio element.\n",
              "                </audio>\n",
              "              "
            ]
          },
          "metadata": {},
          "execution_count": 16
        }
      ]
    },
    {
      "cell_type": "code",
      "source": [
        "from IPython.display import HTML, Audio\n",
        "from google.colab.output import eval_js\n",
        "from base64 import b64decode\n",
        "import numpy as np\n",
        "from scipy.io.wavfile import read as wav_read\n",
        "import io\n",
        "import ffmpeg\n",
        "\n",
        "AUDIO_HTML = \"\"\"\n",
        "<script>\n",
        "var my_div = document.createElement(\"DIV\");\n",
        "var my_p = document.createElement(\"P\");\n",
        "var my_btn = document.createElement(\"BUTTON\");\n",
        "var t = document.createTextNode(\"Press to start recording\");\n",
        "\n",
        "my_btn.appendChild(t);\n",
        "//my_p.appendChild(my_btn);\n",
        "my_div.appendChild(my_btn);\n",
        "document.body.appendChild(my_div);\n",
        "\n",
        "var base64data = 0;\n",
        "var reader;\n",
        "var recorder, gumStream;\n",
        "var recordButton = my_btn;\n",
        "\n",
        "var handleSuccess = function(stream) {\n",
        "  gumStream = stream;\n",
        "  var options = {\n",
        "    //bitsPerSecond: 8000, //chrome seems to ignore, always 48k\n",
        "    mimeType : 'audio/webm;codecs=opus'\n",
        "    //mimeType : 'audio/webm;codecs=pcm'\n",
        "  };            \n",
        "  //recorder = new MediaRecorder(stream, options);\n",
        "  recorder = new MediaRecorder(stream);\n",
        "  recorder.ondataavailable = function(e) {            \n",
        "    var url = URL.createObjectURL(e.data);\n",
        "    var preview = document.createElement('audio');\n",
        "    preview.controls = true;\n",
        "    preview.src = url;\n",
        "    document.body.appendChild(preview);\n",
        "\n",
        "    reader = new FileReader();\n",
        "    reader.readAsDataURL(e.data); \n",
        "    reader.onloadend = function() {\n",
        "      base64data = reader.result;\n",
        "      //console.log(\"Inside FileReader:\" + base64data);\n",
        "    }\n",
        "  };\n",
        "  recorder.start();\n",
        "  };\n",
        "\n",
        "recordButton.innerText = \"Recording... press to stop\";\n",
        "\n",
        "navigator.mediaDevices.getUserMedia({audio: true}).then(handleSuccess);\n",
        "\n",
        "\n",
        "function toggleRecording() {\n",
        "  if (recorder && recorder.state == \"recording\") {\n",
        "      recorder.stop();\n",
        "      gumStream.getAudioTracks()[0].stop();\n",
        "      recordButton.innerText = \"Saving the recording... pls wait!\"\n",
        "  }\n",
        "}\n",
        "\n",
        "// https://stackoverflow.com/a/951057\n",
        "function sleep(ms) {\n",
        "  return new Promise(resolve => setTimeout(resolve, ms));\n",
        "}\n",
        "\n",
        "var data = new Promise(resolve=>{\n",
        "//recordButton.addEventListener(\"click\", toggleRecording);\n",
        "recordButton.onclick = ()=>{\n",
        "toggleRecording()\n",
        "\n",
        "sleep(2000).then(() => {\n",
        "  // wait 2000ms for the data to be available...\n",
        "  // ideally this should use something like await...\n",
        "  //console.log(\"Inside data:\" + base64data)\n",
        "  resolve(base64data.toString())\n",
        "\n",
        "});\n",
        "\n",
        "}\n",
        "});\n",
        "      \n",
        "</script>\n",
        "\"\"\"\n",
        "\n",
        "def get_audio():\n",
        "  display(HTML(AUDIO_HTML))\n",
        "  data = eval_js(\"data\")\n",
        "  binary = b64decode(data.split(',')[1])\n",
        "  \n",
        "  process = (ffmpeg\n",
        "    .input('pipe:0')\n",
        "    .output('pipe:1', format='wav')\n",
        "    .run_async(pipe_stdin=True, pipe_stdout=True, pipe_stderr=True, quiet=True, overwrite_output=True)\n",
        "  )\n",
        "  output, err = process.communicate(input=binary)\n",
        "  \n",
        "  riff_chunk_size = len(output) - 8\n",
        "  # Break up the chunk size into four bytes, held in b.\n",
        "  q = riff_chunk_size\n",
        "  b = []\n",
        "  for i in range(4):\n",
        "      q, r = divmod(q, 256)\n",
        "      b.append(r)\n",
        "\n",
        "  # Replace bytes 4:8 in proc.stdout with the actual size of the RIFF chunk.\n",
        "  riff = output[:4] + bytes(b) + output[8:]\n",
        "\n",
        "  sr, audio = wav_read(io.BytesIO(riff))\n",
        "\n",
        "  return audio, sr"
      ],
      "metadata": {
        "id": "QJ_h_YuHRjVd"
      },
      "execution_count": 17,
      "outputs": []
    },
    {
      "cell_type": "code",
      "source": [
        "# create a speech recognition object\n",
        "r = sr.Recognizer()"
      ],
      "metadata": {
        "id": "51E507ndRuSG"
      },
      "execution_count": 18,
      "outputs": []
    },
    {
      "cell_type": "markdown",
      "source": [
        "## 1) Receive audio input from user. Convert the audio array into .wav file."
      ],
      "metadata": {
        "id": "VRN3H_0t-IZR"
      }
    },
    {
      "cell_type": "code",
      "source": [
        "audio,sr= get_audio()\n",
        "fs = sr\n",
        "out_f = 'input.wav'\n",
        "wavf.write(out_f, fs, audio)"
      ],
      "metadata": {
        "colab": {
          "base_uri": "https://localhost:8080/",
          "height": 102
        },
        "id": "ibfyxA_wRwah",
        "outputId": "f673bc01-98e5-45a6-fca7-a01f16936652"
      },
      "execution_count": 203,
      "outputs": [
        {
          "output_type": "display_data",
          "data": {
            "text/plain": [
              "<IPython.core.display.HTML object>"
            ],
            "text/html": [
              "\n",
              "<script>\n",
              "var my_div = document.createElement(\"DIV\");\n",
              "var my_p = document.createElement(\"P\");\n",
              "var my_btn = document.createElement(\"BUTTON\");\n",
              "var t = document.createTextNode(\"Press to start recording\");\n",
              "\n",
              "my_btn.appendChild(t);\n",
              "//my_p.appendChild(my_btn);\n",
              "my_div.appendChild(my_btn);\n",
              "document.body.appendChild(my_div);\n",
              "\n",
              "var base64data = 0;\n",
              "var reader;\n",
              "var recorder, gumStream;\n",
              "var recordButton = my_btn;\n",
              "\n",
              "var handleSuccess = function(stream) {\n",
              "  gumStream = stream;\n",
              "  var options = {\n",
              "    //bitsPerSecond: 8000, //chrome seems to ignore, always 48k\n",
              "    mimeType : 'audio/webm;codecs=opus'\n",
              "    //mimeType : 'audio/webm;codecs=pcm'\n",
              "  };            \n",
              "  //recorder = new MediaRecorder(stream, options);\n",
              "  recorder = new MediaRecorder(stream);\n",
              "  recorder.ondataavailable = function(e) {            \n",
              "    var url = URL.createObjectURL(e.data);\n",
              "    var preview = document.createElement('audio');\n",
              "    preview.controls = true;\n",
              "    preview.src = url;\n",
              "    document.body.appendChild(preview);\n",
              "\n",
              "    reader = new FileReader();\n",
              "    reader.readAsDataURL(e.data); \n",
              "    reader.onloadend = function() {\n",
              "      base64data = reader.result;\n",
              "      //console.log(\"Inside FileReader:\" + base64data);\n",
              "    }\n",
              "  };\n",
              "  recorder.start();\n",
              "  };\n",
              "\n",
              "recordButton.innerText = \"Recording... press to stop\";\n",
              "\n",
              "navigator.mediaDevices.getUserMedia({audio: true}).then(handleSuccess);\n",
              "\n",
              "\n",
              "function toggleRecording() {\n",
              "  if (recorder && recorder.state == \"recording\") {\n",
              "      recorder.stop();\n",
              "      gumStream.getAudioTracks()[0].stop();\n",
              "      recordButton.innerText = \"Saving the recording... pls wait!\"\n",
              "  }\n",
              "}\n",
              "\n",
              "// https://stackoverflow.com/a/951057\n",
              "function sleep(ms) {\n",
              "  return new Promise(resolve => setTimeout(resolve, ms));\n",
              "}\n",
              "\n",
              "var data = new Promise(resolve=>{\n",
              "//recordButton.addEventListener(\"click\", toggleRecording);\n",
              "recordButton.onclick = ()=>{\n",
              "toggleRecording()\n",
              "\n",
              "sleep(2000).then(() => {\n",
              "  // wait 2000ms for the data to be available...\n",
              "  // ideally this should use something like await...\n",
              "  //console.log(\"Inside data:\" + base64data)\n",
              "  resolve(base64data.toString())\n",
              "\n",
              "});\n",
              "\n",
              "}\n",
              "});\n",
              "      \n",
              "</script>\n"
            ]
          },
          "metadata": {}
        }
      ]
    },
    {
      "cell_type": "markdown",
      "source": [
        "## 2) Speech recognition of .wav file through get_large_audio_transcription(). [Converting it into text form]"
      ],
      "metadata": {
        "id": "RqI-l0hI-MIo"
      }
    },
    {
      "cell_type": "code",
      "source": [
        "# importing libraries\n",
        "import speech_recognition as sr \n",
        "import os \n",
        "from pydub import AudioSegment\n",
        "from pydub.silence import split_on_silence\n",
        "\n",
        "# create a speech recognition object\n",
        "r = sr.Recognizer()\n",
        "\n",
        "# a function that splits the audio file into chunks\n",
        "# and applies speech recognition\n",
        "def get_large_audio_transcription(path):\n",
        "    \"\"\"\n",
        "    Splitting the large audio file into chunks\n",
        "    and apply speech recognition on each of these chunks\n",
        "    \"\"\"\n",
        "    # open the audio file using pydub\n",
        "    sound = AudioSegment.from_wav(path)  \n",
        "    # split audio sound where silence is 700 miliseconds or more and get chunks\n",
        "    chunks = split_on_silence(sound,\n",
        "        # experiment with this value for your target audio file\n",
        "        min_silence_len = 500,\n",
        "        # adjust this per requirement\n",
        "        silence_thresh = sound.dBFS-14,\n",
        "        # keep the silence for 1 second, adjustable as well\n",
        "        keep_silence=500,\n",
        "    )\n",
        "    folder_name = \"audio-chunks\"\n",
        "    # create a directory to store the audio chunks\n",
        "    if not os.path.isdir(folder_name):\n",
        "        os.mkdir(folder_name)\n",
        "    whole_text = \"\"\n",
        "    # process each chunk \n",
        "    for i, audio_chunk in enumerate(chunks, start=1):\n",
        "        # export audio chunk and save it in\n",
        "        # the `folder_name` directory.\n",
        "        chunk_filename = os.path.join(folder_name, f\"chunk{i}.wav\")\n",
        "        audio_chunk.export(chunk_filename, format=\"wav\")\n",
        "        # recognize the chunk\n",
        "        with sr.AudioFile(chunk_filename) as source:\n",
        "            audio_listened = r.record(source)\n",
        "            # try converting it to text\n",
        "            try:\n",
        "                text = r.recognize_google(audio_listened)\n",
        "            except sr.UnknownValueError as e:\n",
        "                print(\"Error:\", str(e))\n",
        "            else:\n",
        "                text = f\"{text.capitalize()}. \"\n",
        "                print(chunk_filename, \":\", text)\n",
        "                whole_text += text\n",
        "    # return the text for all chunks detected\n",
        "    return whole_text\n",
        "\n",
        "path = \"input.wav\"\n",
        "print(\"\\nFull text:\", get_large_audio_transcription(path))"
      ],
      "metadata": {
        "colab": {
          "base_uri": "https://localhost:8080/"
        },
        "id": "rbxxi3WTRzPS",
        "outputId": "b4f01a66-2160-45b2-a9aa-5efad4ced12a"
      },
      "execution_count": 204,
      "outputs": [
        {
          "output_type": "stream",
          "name": "stdout",
          "text": [
            "audio-chunks/chunk1.wav : Barbie watson. \n",
            "\n",
            "Full text: Barbie watson. \n"
          ]
        }
      ]
    },
    {
      "cell_type": "code",
      "source": [
        "a=get_large_audio_transcription(path)"
      ],
      "metadata": {
        "colab": {
          "base_uri": "https://localhost:8080/"
        },
        "id": "3QPkXeYTSDBJ",
        "outputId": "416c7c18-6397-4add-f005-40eafb93e591"
      },
      "execution_count": 205,
      "outputs": [
        {
          "output_type": "stream",
          "name": "stdout",
          "text": [
            "audio-chunks/chunk1.wav : Barbie watson. \n"
          ]
        }
      ]
    },
    {
      "cell_type": "markdown",
      "source": [
        "## 3) Searching for its answers from the processed Corpus, and returning the output."
      ],
      "metadata": {
        "id": "V_00o_cY-3wd"
      }
    },
    {
      "cell_type": "code",
      "source": [
        "flag=True\n",
        "# Taking voice input and processing \n",
        "while(flag==True):\n",
        "  user_response = format(a)\n",
        "  print(\"\\033[91m {}\\033[00m\" .format(\"YOU SAID : \"+user_response))\n",
        "    \n",
        "    #user_response = input()\n",
        "    #user_response=user_response.lower()\n",
        "  clas=classifier.classify(dialogue_act_features(user_response))\n",
        "  if(clas!='Bye'):\n",
        "    if(clas=='Emotion'):\n",
        "      flag=False\n",
        "      prBlack(\"BOT: You are welcome..\")\n",
        "      ans=\"BOT: You are welcome..\"\n",
        "    else:\n",
        "      if(greeting(user_response)!=None):\n",
        "        flag=False\n",
        "        print(\"\\033[96m {}\\033[00m\" .format(\"BOT: \"+greeting(user_response)))\n",
        "        ans=greeting(user_response)\n",
        "      else:\n",
        "        print(\"\\033[96m {}\\033[00m\" .format(\"BOT: \",end=\"\"))\n",
        "        res=(response(user_response))\n",
        "        ans=res\n",
        "        prBlack(res)\n",
        "        sent_tokens.remove(user_response)\n",
        "        flag=False\n",
        "\n",
        "  else:\n",
        "    flag=False\n",
        "    prBlack(\"BOT: Bye! take care..\")\n",
        "    ans = \"Bye! take care..\"\n",
        "\n",
        "ans=gTTS(ans)\n",
        "ans.save('output.mp3') #save the string converted to speech as a .wav file\n",
        "sound_file = 'output.mp3'\n",
        "Audio(sound_file, autoplay=True)"
      ],
      "metadata": {
        "colab": {
          "base_uri": "https://localhost:8080/",
          "height": 147
        },
        "id": "xzGIDNU9SJy1",
        "outputId": "a9bafcd3-1e90-4b21-d10f-6c6b2084bc49"
      },
      "execution_count": 206,
      "outputs": [
        {
          "output_type": "stream",
          "name": "stdout",
          "text": [
            "\u001b[91m YOU SAID : Barbie watson. \u001b[00m\n",
            "\u001b[96m BOT: \u001b[00m\n",
            "\u001b[98m ibm's watson computer has been used as the basis for chatbot-based educational toys for companies such as cognitoys intended to interact with children for educational purposes.\u001b[00m\n"
          ]
        },
        {
          "output_type": "execute_result",
          "data": {
            "text/plain": [
              "<IPython.lib.display.Audio object>"
            ],
            "text/html": [
              "\n",
              "                <audio  controls=\"controls\" autoplay=\"autoplay\">\n",
              "                    <source src=\"data:audio/mpeg;base64,//NExAASkSnQAUMYAE3AwMW+ju7u76AYG7/ogGLfiIhf6In+iIhfxEREocAABG4GBvA4s/lw/wff8Tjgfej6wQBAuD5cHwfeUB8//eIAQcDgY4IBjggGFc+YDqE9ZoQc//NExAgTWW6cAZFoAC2AA7y+bhicT/yUOm4BaANADM8chomHMAADhtiYgG388mXEGEeSY5DRv09abm58+aHjn/tyTL7oGgD/4fMvn/9+XBwgbQrHmPvQTIjNJigWlHL6//NExA0VWSKsAdjAAPZbG8zt08STIaSzCDpUQAGqPxCm6U4KvTwp0IIAS1mwXBrD2vR2f3TynL9VLuX/nh/N52P5rlv+5ar4MAyrK9jFZNp3sClfpXXefUzhNdtsU9QN//NExAoUMSq0AH4wcAfYdqoCVL4XVeIKiWWuuHYIBKhEk1AZxJ3ZQnNMiUSloUSspABCY602NQ5LLVbPWGGu4fruPeYax3lrms9fuvwPAi7/yNmt5n+5UF4Jqc76ZQYe//NExAwUySq0AMYwcB+/qJoJVfQuclDpAlTTZU+jLm7izVdu/7IkATouPSs5R5AxVrMEdx2M36ilent1cN95Zw7hrvb3M//Hu7d+9WAZgZs+9dX0qsfOIIygYsKttlCA//NExAsS+S60AH4ecKD8VdcQmm1QdDGpHBCQDiREs00NSt2XeooCuby/FvtDTrw0jTH47cvSQ52ePeFZ0/vjEaWbfrWBKzyxtzICFVvVR1R9AdwjRNZoVRGxCGYs0zxF//NExBIUgTa0AI4YcO01HVjp6au7MseuKXMu0tKedOQklQvn9o4fOTB5VGBHA+JaP4Fazf9r+f+92on1iyhwyJ9z/uKrTf/R0////+t/LIeiArQdjJWNHHSe8X1lWtSl//NExBMSMT6wAJ4YcOjn/rONTdTD/xddf82mtI6TOLvZM36pSyCxDaWMWOlJ06vvVaxGjpFWrND7w7irtuyWCe/+bb17K7cbiClBkEeYHhiGhQoewAGhGxedbMTQ5x/q//NExB0QgS6cAMRMcExzSr94Io7/6LAKX/kFUSS7skJCcn0xIKS9UxpFF3yp30Sv/iEMBjTYk0VLYEjcztCTXxpCgKUcAIGQDP6+zxPq/UprWq9LzG924wtDY5aeoWyE//NExC4SOQ5YAVwYADcNYZLI9yv6gsSOlzrP9hURM3Wb7qqP/+33UJDBKRbroMIJn8lc+BkxHAThVfbe2npLlY9CUWXBkr8zL7qIRUSRX8zNwvAmBQGFHas1BJfxMCUN//NExDgfkwqIAZloAQ3QY3LpNJxeb+mXzdabpj0Jxg5fPr/6cwZMlC4yajBMYUurcumX/70ENbpmboKetFSReRRUv//0OupjdTJpvrRSonGwoYSqwjOPPrSscgHc0Rk+//NExAwSmS6kAdlAAJ+q9nHkzl+//eFJPf/wRPLfobfHwitHElB0LAeEAjEoYIILxED4HSLGueeJ2kAedURTiAidh8Ibrf/////yda/P3q7BRhJhtQEVb/LIwDyb8XHf//NExBQRcUakANKUcFO/U789Dv856EZ4WwGSxmQMcaPR6aYQDhc0g4oflz9xccLgqJAGGTcb///+p9395Uwtqb/uF+QmjgMMfR4Mfwj4ECfZRub8cFv55v5v6L6j4liS//NExCEQ+bKkANHOlDWYhUHYWJHdCIlHHUseazboan0a3YmRrD4CZ///9RNH/I4op+/vldZB3ZqIQw6+daZQngGouwrb0Kg+/PI/MN/8f6DTw1UqNKBoDpt+4NA8D4em//NExDASSb6kAMnQlPEQy1wlNX/E/89M3uLngl//d/+OQ39HQw3VQfUmFtAL6PmaKZYAWEBMB1LKAswVFfMxlBzUe59f/vdf/vev3ZMHHguRZMHGgJLXc9aM5piB7PUC//NExDkScT6wAJzMcGFXB5SL7UwYPL2f///6f/epw7vW4MEUDTq/bPvQDTh5kvNQE/AA+Wc4TQvaXWT1etaTaZgaEloNAWBYedUQcEQXPZZhyrUbgOvj5pe+1/MV/06H//NExEIQ4b6wAMtOlJRFRfcugFkJo6ZxJBg3RY7fw+hEK1rd//iaGcK7v/rltflA6F/hAEsGj1XUDwQ0971zWr9iLa/TY5vTEQ3E4iwzpO2BWt/7IxVXTH0BplJRrL41//NExFERkUK0AJYWcIAfFY8H2YzjSGcU39n/9hI0FV/v3HZT1EgBSDlUtAyJMAXiWZTrMC195qj6lv6b+SBvw3oy52gGmkSOjXqAqt5Y5Qyj2B/Ykue2UKGhckdIAcNC//NExF0SGUKoAKZacKcf7b/Ukqr8/b7SO3O7qM+d5yzXK5FhcL+t2JOuO/fD6xMoyu+s6VEQNYi+51T//w7VfjC9GmcmS3p7J0TAcOPUo6YGenZJK+7li4apYF53ef9///NExGcRSNacANZecP8I/LdfMMmZLYuMQHGN90eSxfvFIz2L8PIr7cE6P+h6ROMaptCM0U+6hacyBCxrZlAAddqpVCRnAHCRWfmtVcBGaz0xq2v/l9b/LOQlyz12j0bj//NExHQReP6MAN6ecO366jJueY1CoaHU2JHOn0+vWvex7DxKzv/6KnUymIwFAYZgkBmMCNWhhIcYBhWkRGmPsAwEO+KY1XX+Z733hK73yhB645Rxw9cYpSn3vSaPA+H6//NExIESEYKEAOPOlPDFhQmHqeuUd7K/////6NKqo6e5JEkgeEs82ywTFQKIMFTTNR/p7YoxjOnqzU6lLzIYvmSvfr/+3/3////3PXFPaVpwn3T3Ex1wefkVwiPoiQKU//NExIsSIOqIAOPYcMUHgdnBwHkxwYKClEGZAuLu8S+MEdBDCMgcHYKxOCsF4foQDQdA0FhsUHdyXc9kmuDZR8Di93/enRdHR9+v3CE2cnZKN1/6OzksnTX38fHp8f/W//NExJUb+xqYAMCQvW0fEsbWWd/Dh7iSaeVvtvc044ObAwPLwVxAgQVZHQx00M7Iq7LisJ4xG+oTmY1a5vcNi5VyhYqKiRJNTYckNPOLYfr4gTWeK1CMU0lI4LtDFtTK//NExHghqyKcADCevPi7cEmd6tgR3zbGZVJEsgnmiPJ9lp+aT/t2JuzjOdXM2z/9N28b0lkPPj///vve3TZzD2KK1Ec6PopQU2xc1roDgVAKSraevySVU880FRz12122//NExEQW4uqsABiMuWZrkcec9Tnecqu1HbyWtTHUSJUNvCf8Ko/SYysQQEXDzUsqME0iHhFeYsQzZBhDuFAQvZZuZKlk7qdSlex2tcpWrUqqzKXbupL5lZ35l3ya0oKU//NExDsTYYqUAMpGlEIiKyQBOjKCLed/2L3K/2bfuqpYVg85WEasB4MRvesMBhAxTgY1RAlsFCECAIDwFHIiAQoLAy7AbjGCCTRIU7a+xCao14UKtP8zZAQ5gKiKRSFA//NExEAUiLpwAOceTOqB1YoxJZNLksX+pXqX////9FVRaGqF4jBtw7gHaSh1MoAjROrOYg0iGbVnfAIVEhsryJygKBAiHMHsGQJAYrhVzL+tbzh5Pf7j1qgc0kCsUZfq//NExEASAKZwAN8eTFLD7gP7DIqOby9ffwwiTBJyQMVAOLBgwlWTUIyhcHF1y0Bb4IAKdhYCZ2GBklmGB0OZVCk3YlEZblLP+pLO/vef/93//yeT36t00IJvU4mPpGNo//NExEsU6XqAAOaKlBzwm7kSHid8ipfZ1KQahGrsNKKrtNYAIrSeL/y0x2ZBOy/GgM5RDibNX7bMbLASA1Ry1pRjhAkAm7lZ3LH8+X9/8e7/387cjanfQ/GqdTijoqDX//NExEoVOZKUANaKlFod9UZEIBx+7qZT53WywaUGdpYbGcHekNqwFTQsUodQEVIivn4twQWaLwRfCYBpwBUKK2PADwvyQw8RiRsiJ+3n+r9+h/GI+Y9yh9ZCmusQO7KX//NExEgSUUKoAM6UcHoV1/OpOkSMbcDDKkw7XKqiyKsuxuiph7mq/sblYdTzcfTaC8LL8kiKCcDBl+cH8v6ySNNToa2T6vRT7JoInSVPxA5ext33D3/o33Wc4VwllJk3//NExFESATKwAMZacGAWoO7jEguklxy51Ik5QYVnHAqEWvbSpGo6h2dQ4XBXguFCzZBzdbEHN3zU31optUk2p3atnQzE0D4lFR3V1Dv1qqm9YxIDb1urERza/OW+FUAi//NExFwSiSqwAMZgcAufdlUNlUySdrlNNrRk/KtA4yxBoxhDQlCv28bVhC/rD6PRywwo9EpmCrCIiAck23///oqB61qbEQVeqC3GGiI5siDiuK/LIi9xjIkk8MCU7ZFB//NExGQRIM6sAMYecKD9diJKktFfXitzlmrwbw4p1dOxT51/BeuWdK6Lqy1Ya9n/sYtcFfrqOIDjAt0HzJgyiBrUwAVOaBwaemrDqa64U9jHhlWRnKmsurDuA0A/IEpG//NExHIR0M6QAVh4ANIh5Qnmq4FlDZZ08uColNe96O9h6b82hqtUp7IuJXTi0ipcqva9sMpj4dB9r1tzk2sfqzP7GpTN9NuNlR83//D/+n22L9/nJs99V7X8VX8v+eeO//NExH0h+yJEAZtYAbh8TNe+p7j7bZ8ZQ9eCacySQ9Vyh5KlX9R47JB/Hw0OFI7AP/6dvNxqNBuv/7eTGVBNVJifX9G9732O5Q2JpxX//Yyjd/3MHB3RP//8vhjHm92a//NExEgfWyp4AY9YAJxQ8tTB+X////m2IHJff9E1meNVx8J205f///Hz8Me+2RTGUbvf5gfKDqhCqEkrAHGY7h5GagRf8jf/yqzW099T31SiM2utUuv/1erfv+uu3965//NExB0YAyaYAcJQAO7bIyZjseeYZPZHMIDDDNTT9d1MWRi4gJDTCpcnPEQQHqK5AMCAmIAvCFjRYGg9ITBkLwoC5cPQKwrgsiuCEFIUYgYQ3/Lv/LXtf/LjX3sy7/10//NExBAV8yaoABBWvEf////8f9//HX8Mfdfv5jffdxN0yKmWxzB+Gm9rtZei3ZEny5BBhuZrJvYqkZImpuS1SKUkwoNCabon9UlktpYaD0LQHg6F6h/xubP/9L//yLD5//NExAsSGx6sAAhKvJfy/5TIYW9/6p/99ZSqIobvm9Vtf6vdalKxLACxzIbLVBiCsUuOdHCLGOOYwFFgiODwsNEpzjhchgBFCiy1a55mIyQIYuhIS1IWEPI8QwoyT4hy//NExBURwMaoAHvScBpreN0pEzjGtV/3f/PevqjjBcTve61Qp5N6wu9P/6qE/p+tvdzygLX+Ijx46GgaGPQZ1vUdBJkLpYhHTrIV9KRAA2GQiv3FyXLW68/jzOnr2eas//NExCESCT6oAM4QcGUaECw8s4VFSRcsTCwEwFC1d7pEn+qvn67tchRYsSMMf6Lw0z/piqrD7aZAfS5tG2AQ9rqdSTAcgIaTRmPwg5JBZMG1aL5wnT1Q7XLHTrKKtH4B//NExCsQ2TqgAMyWcMgGlsnD3uO1ubXNu/j7matEFRlSP1rBUrWhfZmIqhGwnKlUVUPMr3FbVYF1jEtdtTbYJFuo3QeE4Zbv9+u5c7+xEZ24BydqH5bqH33u+LnsSUAn//NExDoRmTaEAN6ScP6Df4x9o0Tfppn/wypVsHtMMLHz6xRm74gASOAxwcDthEQAckBMNO13ikMvlwwEw3+7v3/uwn8rAOseJOZ2kjV/UV5hDm0qzsERuX8an0pwwUhZ//NExEYSUSKAAN5ScOn/+mrJHswEHMdrzC2wOJJaYSJHlwSkkki3BkoPBDv2WlxTGNpVtMl/xOp2OiS6oDrVFOnNom9TV46ZAjBRMQuZ////////0Sq8n8Gpd0xgVGgI//NExE8Q+Op4AVs4AMPADUkcOMUeiAUbEKAJmYcrWGCUOl2o2NImSx4Gx8FWLQmJF5JMmomrjhHEPA1OLdBAxWfWkRT5SQL5IGxdU6LupbKMS8QDJZu7dKvVSRc4myak//NExF4gwxZsAZtoAZTpq9VaLN6Lpqs6Ctr/6v/WbpqZvf0anQar/rqq/qs6CTF9Fak5jX+5Cx/nQHCYdFyKzmWtv9A5vt5OmF5kb+pGUeUZaN+2yRGgLisPicBwLnms//NExC4YKeaYAcxIAJP1EFoOoKCRHKK7a+5OCjEmM/bv/qR39fcnNfc/piakIIGF25rgRoOH1BHZ//6nCDqg+lDwy8lm04kNAB4SjUzv21/sh9Vmbb9lUGCkXQCI0OON//NExCARKbqkADDMlUlkgIlM5gKpFGe1U2ttPn+61f/+v4/yXd5z0cFHJjp9CXy8/+2GrVQlCeaqiongLYBg37gwBsFgjxE+o3Cl39701TebY+3viquS50LGEUNB1RtQ//NExC4RsSKgAMPQcNJPdSMqxWJhB1rQRr78k9BId/SJf////6Wks2BDGeaD3Qa+wbWl0gLAq51T4Ck5wAulWKlrM/drLB2Jfjcop+c5hz95L8IliWoPioWBiWmtV0eW//NExDoVQQ6YAM6YcFFtK7aep80W4kRBUEfi2ULg2GiP+8x/////6Z2zUGcJWlR5dQcLGlNjgtPAQpBqcHX+OlF7TxL+t8y/+wE31NfjsCiWCIUSshTQsqCaG0a2pRql//NExDgRkRKQANYScI/9VJLvoNT5+39RYBFqFXZvRgK7ZQvM2hoGmB3IEgynUWDIeZ6fA+XfwpBRXrib+GdU9VYhrqyvTNfK4/G09rEMjyAY6DQGFmDgClHhwWEVMZ////NExEQSKXqAANvKlP8zugk6EIEZOWzIa+YiKxd1OwCCI2qTAQAwACAuOj1CpZ/FikNxiAFfb7hW5jMztfCgkajQkBVzQVFrI15AOa04zhPSHX2YlIlOkf8lXUJrMxkN//NExE4SKQp0AOZMcDXq87p5Em0xEUMhEAQSix8EDJh5ACwkt0wXtiU9LpXR3M6tj6+6Wkmub9YyMimt61T/X29e4SSCkjXh1p46xVH3vSv//SqOGYRBpsbbaJtJHgZY//NExFgSmPZoAN5McBMTm3Lni8JPsj1V/uzttTF57XqC6NHNRUnnODEC4XDb29sjRtzrEFtggCBPk6aji3re+/n/T/P/1vkMT/1VHuje+zXVIUBmarbxE9vV9cxfcf3P//NExGASmS6MAHoScPbf7LKKiCsIESaLJFHjhyJIgcwXBduk0fUNue/zNrc7PUPqfKzY767Z+9tm57b9iFh4+Kwxs/c3FdFLCaoQr+enMCMkNnEZN9/76+3/fqSYGKW7//NExGgUSf6gAHoMmLHM8a2vzOckrcDrX+ZF+2jI/9UUa+Zv1sfGbf7/zUPZ4HJAMHg/M3eq//+j0by5BQqfi0uU2X8fn/+qm9RHWWaEcP8Lzc1F6f98SOVqiZA5Iij8//NExGkQueqkAECMmP4h3ZVPpaA9Zj6////bcu30tAv/6zrMUK11f3Nb+lXdjtKFyDuGcZ/ZQuky0RYO/h4mB36Nqj/9/kbmTzu7IcROkzS2U9UIgwWMUJCxndEano6E//NExHkREg6kAEhMmHchXVWX9DtEiiIrA54e4FQ4j///QtSW46p38OKMSxoZzMKJQgtG7nlQJDK0HPISfzfIX9TOaQGZCPB/TkMEQeKBMiYRkxy79UCNill55TO1y95z//NExIcSeeqgAMlKmNyd2tV97JEx23M9bfmbbnbDmU6XmpAIE61///9hCq2GNZhIE1hg+m7pHUzxEeH2M0EYCYseg8I780m/TzWP8qN9/PORUWs7JsLAyK0no9KvIQoI//NExJAWoeqcANKYmLh+qH95Fc5QZ869b4x8brfda4vveZI95xKRYwY0IkQ2YEYlAIRdkf/+G3frM7N7dJDYW4ka+HI3LXGC2Am7Pba1YHwjd/4Vjv/7mn/9Grf+IB6T//NExIgYeZagANHelHy2HIEgrhtSAaow7WghdSAH8yLyjpEEfUukZM2Ymnomvpm3lZypGs/1HPUYJqpnCctJ1mKJ7//9S9erACq7eypX6DCEWanhjULAAoZRSOpB9667//NExHkYifaUANPamAkWde91V/jeWb/3s9/lT6bQnDxrL4QMsKSLi4YD6ncXCQIojEMBwLndx5q3za18NX6T/xNUiSKw29h57Fjnr///+z540K3VfKlEYU1LIrEsvpjA//NExGkW6ZacANvQlJ81bQ2EkSiuVjIfrDHp5lVf5jPo174g908+tdqwyIwAofJnVammy2t7+1iNKy+cIfNZmJ0mYD468x3YSpipdScNoIiDaMIwQamdiRdUuEloW8SB//NExGASGRKgANPYcXE5GS5SUZzb1iaSBic5zcTqMRJxGA4GwQSCgQgsyJEagQMwQIU+brRaE03Zofsv1O7V1erjBAsfPWBUUwIkoacwWThsRILIa0Ii16VyS/lSTNa3//NExGoSCU6YAMpMlRiQT1enl7kDBPJDx+NAilQuFQhK0sCIpFRQfv3o7BLtQRG6rdCHj5bjBAUiBAaNz5gnZZlwk5DwMjzOp2VsotZKnX7RTi8JdWjjQZ3Fw4YjXpht//NExHQSAPqkAM6YcHRKxRhgiQhLwKQkpym+u1CgCsLk9WEqzPYNDxD//UqA7ERK0q9LojAnBEQO+oOTCXFz19Gwb+30tGmxXqX7a6dCV6rp7xWdgBsLi8HIptkgAlQk//NExH8SmOaYANZecEym+dHVg+D7WnI+5aSDUi7v//poiN+MBLLq5iBcifhkRFH1qHErQM7Iv1C4+LDVYg6kW9/FfW33ahFvpHGnmM1qoYZAgRfg7gbJeUIME6VIf5SK//NExIcSANqUANYecCjvI1Ef////101YCyosasG51GBHSum2EcYWJPohMPd9z65AFFoDUWnJZEU1oPutYk1tujnZU56QNCFIhPgTCeRUw8nIyBTVSzubRMtB3///2/9S//NExJISKNqUAM5ecE75HNmGZNrHACgGki/gaUAZNTKkBlh69ZQ5H+WxJpzqRNaLiS2GmWxegdKB/imihbWmUIJQGEMNnTqEkIewkdqsGapOimfU2f3/xhwzgX6jaHAO//NExJwSKNKMANZecEy+AXgGpGKYuxNLNo9K6cVKhKvbk8zwIz6DtPMqLL6dJuIurYW+ZxYyvQmdsih4IBFn//5Mv/qLolVo9DZsUkU8hjRKA8085SRVe3LE64OZ6CZM//NExKYQkNKIANYecYr2s4XrPdSueJtWveN2N46fJ5VOSybhrRieQ04cCtdMcZOCcaAQAIGg0cyUMV+/S3MzFzJ72QqSU91/989ziLsOEhOIzbYBBcyCrDT8yzCrHbGM//NExLYSMNaIAMvecByXsAC44KgCgK0JEikmlFFIKKPxtmmqkJkjoKhCJJsJIdUJpdKhuHY7jgkPVDsCxT7FK/nfekzN5/f/t2n9bOc5NL+Kqm+0jZdVVVtt1nUL3BqL//NExMAXOe6IAMvOmbciUIppyUj60WT6SSa6okUNKgHIZTQOu0ukkzqb3TbYE4gaEU19aqZKgc7xSaRt0pAfWH67rnj5KnLtSS550+52fr+2GbWGOzYwEC2XHrsrMUlp//NExLYXMZqQAMpYlbadAB8H6+N8hYGNOjIEMCMKipwEIVqkV7HCcKTTU6G+eKGaKB4P4wTKbM1rVir/88+zC4xpxd956Ig7ROUyB0iQLVViV0UJWqMISqDWY46KS6uQ//NExKwS4RagAMJScYQy0tmhAZS+YhsVCClSJuwWsWdYLGGQReiiUvbXvHQlOvlQ4wXxcuKIHAXM8jrMtKRp4Dbhvc6Rn8jDaSPAjP41X2KQswwIB1tePFUPseaWhIpj//NExLMV6SKgAMvYcNaDWUVrorqn55CcqC91VEMrh2YFYpRZgsQEQrtYKypIfccrH6BpNJYxlMsmArNOaVSo4PRRAISyrRm609/tzbrYvmtq/Xr9V3r48yFyBkk1bf7U//NExK4YYS6oAMYecIY6FZ7VRZnuJIsgfLXqRtEYS1XRAMg8tEX5gJh0KcBQBArQGHlGgCBWUhnQRAo5WQ7FIHnRWT6tXT/fQNa/////o//+n+/53fX9up7f8khGqd9T//NExJ8UaTaoAM4YcKnegg5YAAR6eqLcEIhIV9pTEssX1hMPW8cebIvC7M95r3RbObPBlU8/c8yMVX3/j6/194/xT4prOs3/+9/VY9Kzf2m1rV7ahbi2pG3lsmlzVqix//NExKAVKvqgAMlEuaHTvGSm5LRns7+mVt5EfKBcqp+rmFTLKOfKRS30lS5wFakyQGQnDAWE4u1eciFK1iYCan4cjJExMUhZvB//5K//9f/Pl/xtoRf/////r79lVP7I//NExJ4guyaQAMBevIdz75+LfcIVL2TXF209THQnMXSKlOm2U81jNyc2FHm2maI6jVR9JYJAgsDw6w8mpBE8hSs+41hcdrDY1CVw9ApHZT3M/kL8QV//8XP//+RBCH////NExG4V8xqkAAhWvf1X9v6FOMzMdWqvmzMqqqxmDAJQ6XVY/y6tVVVS7VL/O0uGuFE6ke1RtmqrtdfX4BKqMyQzQFXQqJlvVjQK72M7LqWx9ZkJjwWCBk8SiI2VESUn//NExGkRyx6QABBGvENB11HaVBKVWdQq0IX5WpbskssxTFhU4q/+pPSzQG7dmgTLqqGXgo266KRlY+GU/Fzeh1v/85XAoVnTabRLhjjs83UggXw4x9BP+ucLhQW4gwSc//NExHQRMEJMAVkYADCOAYdD6CJfPoG4zAtoigvwxSWv6B9A+mhWSR0kJsShW39lIsk6OmZFZ0ehfKRicHd/9mXU+7cxMC46yRMEzqRmf//+/TVay37KSWgiSx4ul41M//NExIIhEypwAZpoAEyM6nJcWWukahSDgyKwJEGZnmx6mUDhYUCkwGKiw6ZmGfBg+K842KBd5QUptb52avqGgHLGTtOpijvRIygOprFlBIBWKWMFWbcCMd50Su3AGGTz//NExFAgwe6MAdp4AGtIQGoOCSIh972gTZxts1n/NvuJHzqOztkGPEn+b398P/i3pn1vEprwA27sR//+qcvYIMPylJnVFFbnBmaJ9onDmjDmtJsLgC/xdbJxGbJdeT3f//NExCAZEd6cANNamCQT0CktnFiOU4SwggD4N5dTApzMwNyQNS7TKZYZH0xgUTJEfhkPJ5RbJnc2epHdA2egT0lUFPWn1omK5lsQUt//9n0DqqPu48a5i1iBGfmL/nJF//NExA4VUbKcANNWlDNfkxkiL2JGImwE9UsTJ2j8UdMenMVak+/el7AeDUqePYVEfswW95NrY1qLUA+j7nCls1CtfN/Tv44h6jplIBJ/62Hf///6aoTYkpVAjP7omKZ1//NExAsRITqMAN4McARmUUpuKe1BnLoCPUnluMmUqnbV2Ab34/Q9/GpLfjF5/S83tnec3DsJJFhJod/27z1bUXrJOEj3/rp9qFuwoDTIcZMAAtsAhAJEKTjI6Fg3GTEI//NExBkQgPqEAOTOcGAhlZPAUKZ3OjersV1LUM0WyoYNxC3GzZQX8T6KJCEBWWOBwKU////pVJk/KURpwRCS+TxUMIAscKPQsFWhEFDUgqTBEfYEESSKTFnpj0hWP4c9//NExCoRYSKEAOROcEVtqLOaWfMdkNEkX3FBU9pyozETxCGpQIv/2Ips85BaShlNwAhh04FMHKziZ1WqEUzCKcwxwBQ0W53Xxf1bzev+iOgkYcOK44DmaV1qQmYh7iIu//NExDcQAVqQANqKlGhUMTCDa/6f6Idt2odMFMQdYS5R1JEwSwMCBlaJ+IMuAoiBCDLR1lqOjhlTf//////7N7tgNjgZar1s2IidgzaMc85mh58vb7jGFH/rTa27kBoB//NExEoRKZaUANnMlE/gBNRsCdQJWHJjg4nD2OwBEGoYjZRgvqU/RX/83/f06SWb7jYEQSFqh+GMezjlibrJ0pRa8x1TpipuFZBBH7W+b////1qb7qusgFrp4xGghoQO//NExFgSqZqcANFWlJVODyWs7lx+in1J//8X/9f7qiotpuT84O4HA6y9cbSppu6CpE3N1Ti7CUNV+6qIk9MEsp///91ViGv1NhTVJCny63EwJQGgz5TIO/OJv78zNOmZ//NExGARCUKoAMtWca5Scy3XzLLxzEtXCYC8wRQJYj507VvDkX6vv6HRpptFGaAQOGnO6v4Zx53C2kaJhHczq0y+TDGUu79awBN/hg+M/1v/1f/UxNmBsEC09A8H4oOo//NExG4RATKsAMwYcKFiBd7YYHQgnp1F139R/18R3MVEyUC77+aMfu////UpVqi9AZJjK6h1ARsEfFuuWBkTLzAiL+jn/679/6RM923AgDU/5Jo1Xf/ULtvFF33LjsUw//NExH0ScZqsANIQlMEogBl44FXKpjv////9tKqi7+77on0FQu7l8pIBZNCvdqdOApR7yojX7t5iR25kF1N0a0hxBZv0RyG6OiSI6OuxQA4otmNJ/jF/RX7C9r1NHHt2//NExIYQiSqkAKSScOppH/+/////5rmfb9uc5GdVn8v+um4D34lb7gzwt4pLFFY8EEl6nL6/t6uKxMzspxM9cyev0DAIkEV2+3/Smuime04u3706uhJz1AxZIgWoPiA4//NExJYUyuKYANNUuLLkFvDEhBDnHl65dZDVwzqKVGU0XuVsnwXVFsdfcFSPoiO35f+1Ss537rT//YQAionMzMzMzP7s0zs/7x7eNf+YvaXwzHtThRFFa1DhetZrZ5aP//NExJUTYiKkAMqEmImu6UgkLBoeFSCx+9cwdehMi2WkpbNEJwlkvJmF97NPBLahxoqFlcXxYkMSOeOWPy5G8y8TICmqPGJ1GJoJgCz0Nb/////ZDyon+//0cQjrzMzP//NExJogYx6cAMFYvczPzWfnfydncv1MXTe3zzXy/03mlI7wxuUKxymSGpgnsgpHlxm02xhPhl5sz0pCCTY1heK3Lz8vxJDsiA3BuRF7JmDpTLR8U3XlWekUK+KnEBBH//NExGscCyKgACiYvGJhSRQRKjM////////////l/////+pSt00NqV5WUqGDxTOhjSlQSNKUpQ6ZUModI6uVlVWh0wkHh4iHSoJAKAIdKUoiUBRaoqUOgskk0NpbVeTC//NExE0Rew6kAUEoASZzchAGT++wjEXoNAzBHhV/Qa44QkZsHH/TeJ4OQJ4LQYP/oY8Qu48wWsbhgP+18lhhDQoLJcbf+nfoNPjkE7EAC4CWGJLhYI6S1JrSZSTvs6tD//NExFogEx50AY9oARLxgw3FoBzx2DAGhmbl8xU6DpLRqsyP1//kmbl8qJRBAlCUMCUB1Z7UCF7Mh1ibtN6CkFVzdzs3VccThf+Tuf8oGhBWry+Oy8rzKu6jpF7yobR7//NExCwcKsawAZlYABmnXbmdd9XSEXLmu7PttAydz7LQf7dtvPktJ622End3Px3Pn4kdBCbkJYaah2ZOxJ2NvEf8//tP9PVh7bN9le5yJqjw6q3ewUQgBwLLXJYAY96G//NExA4VmSqsAdlgAAtaVrTEI40NMVXIVsgGW2KSWUdl+6+KN9fZbZYYMlY6ODAvjSpTGZ9WDL1y803P75+u/W8LGhwKDSqrf0qWBH6iRxP6f////RXD+SsCxeXCVhSC//NExAoT8S6sAMYYcIpGZSo0diANTnYqrogtrhQwp1bO6kYnu5x+VPQHBOW4kJhbPU4NwxCo+VtwPZS1a0p9Z7aWnK58bD6UF0NNRXfctcRM3aXfNNVFBK+4wI5n39ZB//NExA0QiS6sAM5WcJ2AYk62FOXxpu4NVfnmVV+uauxy1+VNlxoXxagEptTywnXse33X8trqW05vzJ0BA+AW/+2KKpm31u4LjIad7zI9HKbIVAc09HwuDqiWxG/1CxXw//NExB0RQTqkAMPKcF7rqUqjACAxwkHgNKJB51Qz6//+qpGG//1OZ////EDuJ5d77FjsLh/noQ5Bi9CtcyyYnXmsz//+vV/////z////+z6WZku6+taq9dTLaI/5hqVk//NExCsSixqoAGBOvY85J57VUw08nUfcmUHTCkhHDHNdTBIKGBAIo3LiQdhVBxaIl6pT9/5/r//p7/r/8v///2+/qb/+bf9k6v02ZzU7mOhrn2PMeahETEqrIDipEpER//NExDMRWyKoAChUvIqioTioK48MUYgTCDGhwgSY0uoFNHUotKsmpChChTua+X4ZfEzVzT/5ZqL/7Flb//0f///3o91ze/paZ1ZuzlK0RZxFokLFOBRVxISMHjmQ6GMF//NExEAQyxqcAChKvQGEUtUHj7BULMW35O8ede/bcA2QEZAEBN7nIppQRwXiKciGby+zKqelm275Nf9/r7f9P/9P///Mb+rJyw0pjcMExYQxSN5HonBJJwJwDQEPAdxJ//NExE8P8v50AGBEuY1QCISyGIcnKSzT509vPtexXzwpMXhLIUOx6DAUCIRTj//b+N/qKnj0Fzyz4d/8gD49//tD////1v91CsP03coRuXJTBHXag0UYca6hObwSv8Xr//NExGISmTacAH4QcKbLdWj19yTb/7O5SUkocyZ4QAVjDNtDrZdPWh1aiY5gADSq6/roAyqkwxHQ48ttR9E4rHUzcjBXhcc7fXCb+37g3/1yT61NyD/ob1ZFKczHcmcH//NExGoPsSqwAMZacKCmNpxIdxvk5eYoZj0kVouvJUxZRtT/XARUj/XRbDhBYAsnWLOuFhpmlqE4tKYYOISx10MXhL7NCl2Xfs4Sqf5qZluGW8VkGos4KQApkA2AaEOS//NExH4R+TKkANaacILXUNfK01yvszfNFGVu/xEqJg8LRoDzCRVzh4kwcJCMRhEM4kDaPaKJhUZ8pIslcpVVU0zXcNK2dgIwMmYLFT1tKuiuTTZykQdOuyN1azvLP6d///NExIkRiSKEANZQcP//opowUFi+iK5jBrnUEWGAZBYv0DgbOstAgJRJhqJSJyZ3K7VrVsv/JOZGmtGKEu1L4Ygnc2WOi9VDWKpxbxqjDfdxT0U1fpo997GInF3rDBGO//NExJURYKpQAO6STBAISFM+7dThMNMeDNkYEf7P2qSA0AL//9zAGZyHbE1+oZpYSpOZOJWms7+HSoXEZvJICGBWEHj79M3js+YLaxF1QaIenBrN7xNejLF1mDSbWPr5//NExKISqJpEAVwYAKU9P7//pqu7fHgbbd2/9953E1///7xQRDThYGhd3l35TlWFioLRL+nvJSwEwQkaTOU58vIcpjQLoPOnsZkO+/KBkKt3M6z7Vc+dMP7e0N5rDcl4//NExKofwhaUAZp4AJr4UL+RmVROUjM2rAjQ63itRgm440eXZC0eh783idnQqLr73eL5YIlK3pTGtX3nE175rGgQH+I+BjYxyWuAoPofTv////hdw/dyVi35dCHFEQwH//NExH4ccZ6gAdp4AKfU2qAkQH5hHEISf+Lj5ZfFz0V5rWr961ylmmcrG8ubgNVQlFMaB0RCgtlgkDoVNWl+EktLE5XvHdqhsWIthceiwEwkEVRbaplf////9KrXP1Hy//NExF8WiUKwAMMYcOhEp2lbCAKzMMBlepIJr9yRDs+Kv4SvTvnH87LTeZ/L0pBU6Q/KwNiWFAjmixw9TOoaVo9jcicwLMGNV0Do42Skb/XVz//0OrK7ne30JpodgFwZ//NExFcRyTq4AMrYcKC1EOKHWie60UP+PlVM/VSP+yjNTQ5BYEYuHQLjxBIY4WD4gO3KCoLniojpFT+5QVC51UU+n////+mWf+VKIxwR/h7nJEXNDyLmX2ciAV+Lm+3y//NExGISQTK0AMyQcN5xf1G+qol70TACGJZFkHDbGxFCkS4vrfWafQf0PWd+YpNs0asv///0e1eYNIW3e3lVCokDvpPyxExAaAF0mFqlwTsf6Bi3QRb++v4Zf8NPf6dc//NExGwRoaqoANKalKZ8PgJZkcPPPgIj7UHD5lL3MOJnbB+/5KOAT6P///9a0VaTZ4WV5jq6/6AQvVnyUREKoQOt8/lYOf////5gcRhk1/orGO6////3/+v6n/yEI53S//NExHgSkUagANSWcP9CK/Y7kadyIQjHfUAa3QjhAAhGO6hAAgcXHq1AECmYyKxv//////X///r////9ff00/Uq1Wyzss11Riq5SruysQxzi44YZxh1A4kp3KHxIICQs//NExIAR+w6wAMBEuVHBomKDxQWAQoTEgicICIxeX///8v//////9f///////PPx9R1/PXdzxVM39zPwsp8U4yGvipt0OR000JVsQTRQ+xUkVFQ8ExYfihgqFxZgDHHh//NExIsSAxq0AChKvfBQcH54EBAqB///////zeX///7/////9N+7Xtem+5nfRDaSs8+SRjjEONzxxhwfEgC5Y4dNFDmFRJGSpQTpMDAUHlJCKI4RAmDoH4yPC8fay5pC//NExJYSkx6sAAhQvITbXWE5BFvYf5////4P///5IaX////0rpsn1zatR/I+j0WZdUG6toiIoqiiqGsrKVrkILB0gswiMHmElI5inCQ67O3xEYjKpbA4BRBTxaJUZuQE//NExJ4R8yKsAAhOvORKKK0lqzuGK/53cudqW9555FoPKHw+EBE4sAAM5B6nUndXk9ds1xb/p+j1f84luv//1an2TJLvcBGM/lq4DjGsxMqAn+kA1KoFgy9qM6Na+N1f//NExKkQ8x6wAEhKvMW0kW1sVrz6mYXlp6KxcJTzztL26uXrPXmlazuTt6WYWRjTjX/8UQik1QiOct6m4AgyqNGYA+KCigj8TrxSzdc1+XX0vRt+f9IzlENwOgQXSGzL//NExLgSQTKgAM4KcKkPybUvX3y/vP4+rbq7YUdvVR2xwiCau5zl/WgUVaX4bLwMXskJBo1NDh3wl1bmGvd5KgWqalw89WzNmsEQKylKyPr//9nQxS////+7o3///669//NExMIRAS6oAMvYcPajEJ7/8n+hFPkZQ71B9KTMPkV1HOklSCVpAjGQ1Ti2qCfF4t7H9L2+Fx/S+n8frHme6FdKxc/Qu0kcAAIbNf4/1v1+PXedeBT61qsCBbV8Yg7m//NExNESKTakAMPScNzvXmN2zvcWF/LHf1YnK8u37rD6Vpxl71t7Zbft0VV0eXYN6UUB4vmnBZy+Jr1LeT0snUQW9DSCqs7pWE73BSKM0xOCUF5J6YaqTDqSZQCX1bsf//NExNsR4tqgAMFEuf/nZxLn/lNz5eX//0Ov8bx/////fH/387xT73rP9N+18+1b4rS/n+M7+L0i4xWWSDWLuWDHhw6T1mhtq4Rq0h7S1KR41wIE6cTjBEYTiSUx0Kxm//NExOYjYyKIAHjevDxRajlqvVP8zEPN9jRSbJAaKucFD/7//////////8df///+3RX30t1afY9S2Yeqly7FlJGPqzkLCWe75M0fLmEBuXYaFTSYPBKG9QlHzBsPlRqV//NExKsa4yKYAChevCZM6SFRcSUJGgn/o9//mmX/+RTf//1hboLJn///vkUI9zFkLiB4LJiG/4OpueFLhpSRxM2oYC6JpZaqqhSPNmOf96pMexFVRmP6vqVEnVKFDQO3//NExJIR+x60AAhOvNSKVUN/hCEP/+lELeUuzPJvpMcY6zWz//z5nGO6hQEBdWPUKQZQokoaqAigmGioaBXWEsFcqdWEssboZ4UHsW4FeSoA4H79+YdyLL6Mh1+ZcvyU//NExJ0SAvqwABBGuZXp05YZsqOul2cqUKXH9GsUKMOkvqlHi25L317kSe1/vbb7+7p38/+c+x97dwO+1rPzVB2RkJQBIuPf891U9//omfCLNP3OZm7u74dJsAIoYELX//NExKgRIdqYAChGmAIC5MmtKH0MANL7IfaiW6FoWQePbovy9VNsu9pMoXeHzhETDyFz5/b/mAcf3GdJLth1hwqz/bPmeKX7iMb/EkhWIsk6nc5YqlMNTKQMAKw0DkRc//NExLYRwTp4ADhGcWgPGKVjXMlWdVoYpOjFZmakSWBHvm1oMHW+2SNz2FGitz/EC2s29cWtn4jOvS0TFIXtNq9a5r/r/W6Z+8WpFznX99/Wf9f4+f////87prGvnN8w//NExMIQOPKEAUcYAKLbXXFOZRVOwzspJQcwk8UcNeETCGYWDzHyQxVwKriZVXG7IBCCn0AokCHUAc4PoFhA24I4DLQfiEBhICDBbQBQoBpQLIAScPkB+wG5gQAE2Bg4//NExNQh8qaIAZl4AQxiEfjNBZWLAiGERQgjYVqTAC4BQwWtAoskzzs+ZumrWmktf//779f92q0ajp0XJ/ivySqCIKXcFXABCuLDIWamVQL8SeM3qCtkFAWm3HSrYRJV//NExJ8fycqMAZuYAHq/WYFQdrKrwLhEk5qStEkdRaMJxbCGQjOn2S6l1uKrDUmfIc7ny591n//rO/vVjuMcCk4PXyJL8wdcjWqZKhMBcOVLkWorL2U49uvRP8qMBkP3//NExHITeO6QAdrAAFlu72Fe9LqrMWm8zdr2tRNNAaDA85IzIFtcX+f3PXZ3Es+Lmv/oxEpEyWqPGr5HXDJetLMAHCAsMkgI07QBhLlgqHpdHbURnbmVNGu65W7zLtvr//NExHcS2O6IANbwcDWq13LxBMsXiSiKxa1amdZOh1QGf/d9NQcksIiqF3jhSSjYYOmpMwVF2cwnHHPVat2l/LLn9atE9XZD3RS4Z4uhgwEFsrqLPEuxBirlWTM5v9Dv//NExH4QmOJ0ANZYcL/a719FFHMehQ83PHe5axIMGM05u9hRXabss2MzYmlKgzGSaJqMGTzY2+ipFRuP59RLjCOqhcvUTFCSAVMvDgE3LzadkEUDc4mdcRgTwCgAA8II//NExI4Q4MpMAVkQABMAl1u+6supJmSaVlgnYXQUxPz7lIchJf/sqn/WWSAcPHjeikzf//tqfWpFT6lrUtkFrQN7G6oEf/sn/9Ov4/66//q4qK6ipOcd2yUGm9shU6aE//NExJ0gCypwAY9oAPKjVctHZJPXJiBoVkshmUTDwwHWO95DlhLNjlwdXKDVFdQ0HYclVdD2G73LQ+9jDkbN73xBw4+kGPfFMp779+xn6a/nq+fAMgGe65mEev////r+//NExG8aYp6kAcJYAb/59z35/3G7v5C2JMmjM4tdWW7jKF+tG0AFkorfGCOtVuD8WSXXGkmH7RdCmOEmf+q9E3z6dp1C1peate3Ai7qLTov3CLQ9siR/6///Lp5QoLK///NExFgSObrAAABSlbuW/n91wTJkIcUWDEkoeK319qZYkJIyR1+1b21kvKPp/8Z1dK1P32HhdT/6Ya4ar+NVxyxlDnmyS/ZytEBCEOOrpZ1gOMk8zY1mwPyJu7cdbP/4//NExGIQEe68AAhMmGnbfYiLb7bTduHSqGSMWKxr33jzhsTzlhk69lroBuFFi9OVcpWzOagEo4U2UH4gDkU7qsSFZE/lndhKvGX4fHWxSD/xes98+RbiZ+lwPgyK2umk//NExHQRUTKsAMPMcC2f/Cv19xsSvK5rq995hZln2mWjWx16H2/Y0XXzoFOI3dc8HFtm7/YBMS0LJDf49IQFLvLlDQs1y5/bVI549TdbJrsTULrG/hbXT+J8sLpXx8Wy//NExIESYSq0AIYecKlnvv6niR1gthLI1md2Q9VaQ1qAWQFJ9w2Qwkmz57/B5Y1Z7xsQH0ryvuUNiZs/GONJETIcDrGkiEpDDS24ZbUCr7/EJWwomvlufx6WzSPSmvCj//NExIoR6Sa4AI4ecOHQG7k8rlcrPbJCEIA8FV1pF0Lj87q64YXuaXft1omABwPZb5YvyVMmXVxasMNyN25uYh5Rov8GJH/9YLJn/dYf/8F7vWc1evzunV32u/oVN7oF//NExJUSeS60AG4ecPDUAEWg64zgsy3+rt91hHYr6F02U0lMYQ8FTkPZyluFtqJmHPClSLxgxfBIVNdZw2fpGvq900bGDTp1kO7P8W1/+hWKUVi4z8k+NUhSVJHpMZpB//NExJ4R0TKwAJZecISDRoZh2wFVBhWVN9HpfKE5i5TzxuDpeyl5dQmNEDdISnI6V22nS81n1e6xn1g63//qtLXrqDFxCGoFPK80l0DCZgcAsqLqvQwhj4AIgLMfLwwl//NExKkRUTKoAJZacPV9nQV1T0Eapq9mpLbFuM0ujIhhS2IKBYOgqesza29te+ZneaCrSwVcFSxJirI9f4wr+AgKig8xBIkjRYCpr0sjgROU5EsUNhMNDnkkD1ALKLFj//NExLYSaSKQAM4ecWCocAp5YbDqxKw9OoMPiUVLjaLE70C1QkJEtjrLTmzqvNcajZ3qcMo9IBUFBHEmm7JXzGtT0qt399yq3+uFAILCcIkiB1MKOJQ/FWCqxGkmBCNj//NExL8SgO5YANYYcF8eu84fc27Rcxjn0HDlCjVmRZUzV+ljt33Iabss+q8YPDwfXVqFlz5tTKLdcL5zw9/KwPGYLhOAfBQBAKAMP80cuF8TiHQEQDQPk2T5BDSI5I8k//NExMgSYEJEAMYQJElSP/NEKbzAeySGXGTJL+pBkDBAvrMTF0zUy/6btdDTKBoWjUxQSNjT/9P+hzhwvskyLLRRV//6boNZTG6boINtoonC8bIrSWsxupuS4cGQ0MJh//NExNERQFJEAVgYAGjCAIPIgowZ0F0wReMCvHk5VrvQaY0BawExYmoF1AGOJDBAxhUA7GHvg2wE7DrPAElBDBPBXAxBkLCAtBHJMUzswHExWUajeJg3MtBqycspkCqm//NExN8gwyp8AZqgALSUbmib3UtR10FKqIogtTdzW6b8upKf1JHU10UWurWn92WvV9A74Tqv+TpKfOODWq7k9ABZIDZV0w4wosudFcEDm1jAoDNf3BRhAM5dEYAwBvwA//NExK8g4k6kAZqgAVjxWFLhCQA2TQCzYgpwtgLBgspIKasWSBJpJKJgxRZZmjVWkXdAwPJKmZXJ0ho4TpAy90FP01PdaurqUtzVzx9QIQQCJZZCMGmlEv////pqma12//NExH4ekaqYAdqgAAwkLmuNQa78+zcQ6xYjhph47PDArqwUsk3f04ARHVTAsAS755W5EXe52AoFAthbam0JMGDNY2RdlnZQ9TEYrzecXnc/wj/P3TvHtavvo3aLHF7r//NExFYhQdqQANaYmCSDsPzVlg8da+G/xPS+3mbbqwTmXoqYy9mefnn2/jxmoQLrURMAuCQrPC3///8UlH7uLbFzbMAzQyKB4oP1VFRS10spm6PceoSiauRh4BVmnTBw//NExCQZgZqgAM6MlOet1BggZgyChLyzCOg05TNga8vB0aX6koprXXFnJVzDZzDEZzS6b66REGsBgiT3bZmQ7ftTv+z43koiePIKh+zjKd/qZFRpm5UsdAQFRY3H0V5F//NExBER6S6wAMZacK5BYEIMaEeFtV3DThiM5KGQNZlHdibAppKFRMGADiMFkmXjWpBFLUzKs7aHQWp6CZqwIN//X03mWEAAKtDXaWCUo1vguROgsmv20+gXSdQKDSPb//NExBwSeSqkAMYWcHdH2K5W37gWmv2mckKkkPR4nE5QAUPJbR5E7cI1XFtjttXLvt0t01B6iSSP/9IDIQMssVuAqhqCBcMSpMwV2KpgvH1CE6A5JB5gKw9atA/UzYtT//NExCUSYSaAAM4QcC7sdnbVXmQ0VB4GqQahQNRWv1WP/4i+f+41U2QkeIgrR3/QmWowYDQYAxoIjBHM9nY4ApzRhJGBAYPB57iRpzBhRCl7bA4I2d9pevyXxG6YNw3C//NExC4SoKpcAOaMTI6q2pNnTaOJgENzLw0JYprDK6CD3/////////66Hg9C4BFUAhEIpqJLpmADBg0CQNAREcKRkgTZEfzQzBYMgfWYmN8mSEMpLTq/BpqQ8s0aJdYx//NExDYR4IpIAO5STORZ9yVGkO9f/2X+3///7P9pKieYMgWIZcxrwGqCQJGiEWuclYWTVr8dkPaCls2RUNJMBRS1H1uDiEGk3F/4h6kXucTZFUH7Gai9q1l6fPo15n6a//NExEEREFZEAVkYAHo2+upcFZWiDjQlTXye/D79lEcDq9/SZmKGBgTkvUCOCME30Fuocom4b4S/0Tc+g4mADoAnymCEfm6kGdgsxBhagQApiN/0L9MulZaN5KDCDG/+//NExE8h6ypsAZpoAJ2bQGEHgSiRJjJL5fJ//9O10GWnWaID2KBcGg6XyCblpf//9N91IMyCH1mxsXSQKiedKJaTyiPxpaRBziC20JLhGaTbg/o6+NoiQInvJhANr6Bx//NExBoX0Z60AZhYAINJEkfzyxxmgYw9M2iDiFFhMOZDWGoIcnlSsVH7pp+yTQhoj/RAm5sKZ4u//5ueJ32zqYvr/84HmQfE5drD31fpq///+lXusqxKRINxGKFMcKtW//NExA0R0aKwAdlQAIQBExUqtabhl//Jv/xL8n5ReWfUizRiIUrURAKiBR4BwxioUInMhoPkjxiKj7luR+/KeWfUmqO+dtrV1vUEmG66uE2KMGk5AMPOwObIRLUmEXPZ//NExBgXWbKkAMtelDCVrkiW6i5uVFuonPsUfyvuP1IGMz3gqIc8KXuJxe7UdjPC1MYusSsc33uFv7vG+s31/rP1uHGvvyeCPYRWD1fp///2PSrX/NApJJ8LoyCCSMHW//NExA0U4aKoANHelJ0QMikBeEAlPiDmDZ9zcwbPzdCXm73WO/UNG8v4UANK5zkkOL2UCnVL6I3Pa6o9/puv/1v/efneLb18WnuFTvX9n///69qqz7jaM6Bi1djBmIhk//NExAwUeT6kANTecIG5/RawG+kRdZAnaoiOZk9zNH/G/99f0/+INfm2c5bjlTrQ1EzLwqGBoZm6d2nDi1HhS1xBPLBlyaV1lGvNfq7f///9u1Gas6FRYiNS+hZ2ceYH//NExA0SqT6cANSWcCaVt3BDII1J6YDm2lk9UY61q91/F/t/v9q0PaSWlY/ALDU02KidLWmp3aUmrqUdT/tz7v0fbR//+9Z2tRFa81gZoLVwqYICyfbRDOVU6ta3//////NExBUT4x6sAHiEvP2ISRjCvr/p3f//V/adP+ueiybOzPIplORMhFej0byVQinQlFepzM6FFnQYOLhGIDdhaABijhCQ5hBKCv1//////8eX//+Z/////a//fSlPqhVN//NExBgRIyK0AAhOvBFVjkSc2c9XIyMw5mVlkBQg6JRQUjYbR0pIHFSix41QXhsiYNxqI40CwTj5av/RP/////4JGd5f/+Zrr///vb/tW69J+Q3T85KjhjoUg+RWcjsa//NExCYRix6wAAhKvGKwqcPCoqo0BSDAOUICwHBQ0xAVRADHFBEUGioQECCL1S////////////O/////W6V//7vzlN2msqOa1LVZUY49DVMYqpp7R40eLjpY0bEyJQeF//NExDIQ6x6sAAhOvOTJCoNESKnOIpEbKaIBueJA4gFiAs3//////////////0/9HVv9X28r/tQxtS5WLoY1A85TDRUxzGERUodIJGoJCylIHhpwFFSkAIDGcx2QoUDA//NExEERCyKAAUooAChIc9VQm813AM233/hbhwEC/8OMEx5u8L2IECueS7oF8LsIwMGQfm8e5vG4kiQQCz/L5fTJc3cTkZY4hKz5H/pl83TM01hyQq44iGCsBeD3/Tem//NExE8hIyp4AZhoAOgtzQsMi+WG4lA9TcS3/9boXQ0GoByykmSJLlEk0S+soEv/6/oVN9X5gPApqYuVmxcL5mUzdcaPNugAExVg76Q5FlhG8ZGWXSv7hSZ1+519/9sQ//NExB0SSSKoAdgYAFxC85OInoLiUDFww6FxLfOZc1Ekg7f7JV3ao8yDS869RYKhqu9r/5L/llPKqpjWM0AjzUumhFhMGzKhgAfgSazj5e+c/bxvNzdSHOd1KOfllVyc//NExCYSmT6sAMZQcLsgbd6AeYoOgDhxUC5S8Cl6JNQXZpLi4zUgBDnR1O8o0PhxYtWh5p8SEmecoBMECdquOSJhwZX4YgET/3Rc/v0EP/3GH8f6/rVemqfZsU+IBt6i//NExC4VGUKoAMZecNR0Ml6MMffbK6+XO/ov33e6g+8x9HyBAlK1IQBwIGwOLTKyLhv9Sq2H1DQetXsBfJEKiqhcQCwc/jUWeoj+Ga/sfybtP63KaT5qexdh0tmcL8Ut//NExCwV+UKoAMaYcBSAe/h0JqBjyZucavMrYn51lcrqXRxPuZZDsWmNxGLisG1gofcH6f/////Vs7+nMiQlfW7gmKDk8b0mQcZj91MVgVYr2WLk4fjQXP/dW9+sS7+R//NExCcS6UKkANZScD/SZrIIoD3kjJ3ZJZ//l/K695B8uVHW4gA9O2+dHGjIhDeprEpnDrMYSAPo7MOGMCCCARkEZhQzN8WrhBFksVvRSGYzS6pu446KhjKW8SdqG2Ky//NExC4RET6EAVooAMSHisBTiv8v8yHLiTixn/U+InkW7AVqRSDW6RZiADopIpXOMo/MQzSJgzMKy1jX9/PTxHX/7PPRnV7fLn//z0Z7RIMqgcFn//9nnoz2iJ+DBgv7//NExDwhimp8AZp4AP///Z4DIhcZkUbIhCMHGiy/ob////54jPGiM8ejO2q0uA9A1BNyfnOoP/////4/f397++/1h7Hy9lf3gTAP/IKcGBznTAXeEHIJ1RkWZqdP///0//NExAgTowLAAYIoAf+l/+bvX1HEJMQrOxxVSCSsHCi4kBw+7jTsPIRCM4mLCljiweFBqAKNDQFv3+7U3xclxAedMowsi///dqalS6e41IJoaAjFKak0Ay+TBWIwASBT//NExAwSYY60AdBAADNgxGLe0zN16epBu//v97+E9DJGD6eETiXv376r5GKrBscIyXdxHKrO01qMPhgKnRgGUFWiLlv4x/q4l/kVpO8UPIqqPNKQGxsWk6bQAfRJmmg7//NExBUSQTaoAMzScZGTBtmRq1Rrrrf2Jbe56WjHjYLACPhQCkEChL+XWvLU362Ze0u6UkWz2PeDbd9L6vM4rjy1fggLKl3pXD4q4d7EVpwaYBilRUtl/r+7ku7+7PPZ//NExB8RaRqYAVlAAH5mvnua+Cl5g5YYoOQ9FjiQ6B01jhVWtAbA8Invi3RJVPJA0yIg8jKgwSYMkhIyIBMSEwv83DI2iIv0EGmAGjCBg5K6X84SCkmw9u+FjxSlHvh9//NExCwdQfZMAZpYALYbFN3cO6l1CkZghj+TSCWaO1WD7LQhFyZ2l0qiXMlkRfVRybznF2c89Uo2pf2+Yq2N2vzZwhW2Glk3FCbRwhL3J+qR16McLCEMQMGobcUIENLf//NExAoTYlKgAYU4ANjW9XdjHt/57j5xb9VsqqUKlRMKzPxoQMMMIRFAkLAKsPg9/9tjz8XqPmDcdMFa//nuYfb6GKTHFBt5v/93aD6QIRkKFDkTnGugG4oiuWNNJSKq//NExA8RiXKsAcMoAFuhUftdfonybo5jZSs0ylNFToYLFXOKKPExE7YohYpMhMRDlyyz41TSQxAqul5XXZi5YKcU9fXVJasYAgjfneeRCaeLYKwRrEP/7M6dm/Zu/vKg//NExBsRyVqkAEiMlKIGISiuX7z9k3eo4cojqBiWm2AUAzpUQvWesS8k9IuYjzp0hTF3/v//VqFEKvsbbsCVlzJbE3KGGHZiBglZFPf0ghDL5iFw3v9PfT72IUYSjDAx//NExCYQoSqoAMGEcAQMQsADEKBjCTRowcU+zE6kiI3+8uqnb////9aKrY6zkAC5eRomMZE5w4m5vJgXwOzKofN4/oK9Cm4g39ivxYjPOnZBECRq2jg7zrtxIltaDf3u//NExDYSEZqsAMlWlP9sR6cc6DRQYZ9Vb7P/f///xarP+8dIy4Fm8FzrPzWUQcvChMyAnUDNqBQTjBd9RffmXqbpH03phyS8eTcFOC7jnN1DuG4uGmOE4aK6k6RPjI7y//NExEASKTasANFacciaoRL/m//35af+fMGMSQ7jTR4KqAlWPcsJDtREV5hEnx/KxXs1/DXWsFE3IcgCgsAHhmEAPw86kWLHgqCcqyRfEaDYhPhpjqtP/////1Lm+Zrw//NExEoRaSqsANFQcDZJVZPz68AAce4j95exxk2fqre/Q5f/6/lrfzQFgbU5xJtOzFMXakbaR/d3U8v1MJbjxlOLKNiQMCMOf5NH///9NNWPgEojossegEh+bH/////5//NExFcRiaKoAMiQlGi32fXntlfx3e2kyY7xm0/8TjymxPE3QjAvfbQc5RDtr6+7jOmwAJqDB8mknlDlFWr6+2h/Si8v//////v5nfzO3zvv9ZHy70qTN2FQilhLNRcH//NExGMRafa8AFhMmJJlSshDCUSrRTtyrZNMtthFouJyh4e0csJWRAR2XrywFQGbGAYMUMe+ijX///////MiX7cqa8/1rtL4hjjVmUjlLlzVuusHpkEoCgoUwpNneG1Z//NExHARoeLAAAhMmMlVeUehV5STmAUNBoTAIXWmSeuKsY9SnpLPP2nb8peiAv///////7me7O33xj/CxME7IHyY81y51STIjCCXIlkJGJMcimqsuWih2/lK1HJzSWRx//NExHwSMfa4AAhMmB3pNr0Wf60Wf+RuVOv0t53eZXw9q1Gq3NjR/mmo9qccD2PDY45TAZ/g//7kzz//L9mb4Z2CgbA4cFGux6qMqNSXYhRHhEHRYWErjA5hIeEh6Qah//NExIYSYfK0AAhMmdW75L+SEqn/Cuo3pbNCsADwXwtLbMW0xmUNYcBhAlCrvj6t7OcO8p73a9PK7O879ltY5y7EO6SWo5q83Wp70p1EHlRU6C7QO+fFALBZ6g8t2JWh//NExI8RuYqsAHhGlKT6VW5y6OjI46ofGdhB1kxQJdIZAj5Q0rD0fQbkmNZ3JHjj2dq6qQ5Ls65MJzn55Ozc2KrLVPTVTmCcIZLN9ctLHSB1mSqv/L6Kf6GR6py8gPLW//NExJsSkPKYAM4McOHCqUDMLJnoEKEMypHpXryGJgeYJgvzZBNNtofhe4KkEkNSEb49Z9nmqjQZHFrZ4EKHHeHHRREshBEDCzDmhm8eZP5rj6ByafIAMBpsQIAgAxwI//NExKMSMTKMANZMcCyY8RsRb/oNKoAhmJGAfBybKLmLSs1uo3GFzmqTpMMjAYbO3qEQg021vpVJTzlltCKGoNtmmPIoojyLJM2f1n1Hnt4be6kVz6w9mkg7CSVNqP7z//NExK0YiV6QANPMlI5lckdTDwwSROy4SRIgoJVIpICoYU8jawWv+uqWXoACsZJCJwQJPGr2knQKwed7RUmaYTJ5WSIDZVPiuUmClNUEJxmkaCaoE/MOUnVbyj0iz+ra//NExJ0ZUXaUANZMlN4x7uLCeFsFG7a9+VjIdqC0VRjTUUKZWGUUfkHbGt93///q6ecdkypEeA01EGX2LZAUCcgGpqocYhC6cmTcAtg4UjYWChMmfs1WBoH5ygWOy2tL//NExIoWwXKUANZElGl5YprX/l3+f+CXIhkqUlm///fUhig+60egRJD7v0RaynGfmMlhCduD6miVQG6oEMgP47CxjEpCYNDCwRhCsKiXQk0hfQJIA9EAkOaD9QaFj6ZV//NExIITsY6UANYElLcVnv/8WC4UEqWFUAR//9dbq9YMBig54Ju5bIdHwBswIT4jTEcZU0akrWY5+oxXqlJI4mQAeGKxXV0pgWVI/9X6NvFCKGkWVho8y2eNB2SV8NdX//NExIYQuI6MANaeTP//6jVKAyKahqyHGYnOKRBJUB0L8JDM2jOOs6W/dvZ0vbtLSsRJEx9GBpYJEEFxyqv9BVkstYszY51m0+/ZT//t7Vr+vbWqFBcydibrWPEVZcA5//NExJYRgIJ4ANZeSP+1HNQfroHBrA4A8/3GhyB3ASDsBI/85nKPjoPgSGoJ//5xM+smfBMG8E81BHN//+Tezc/m43k8yBPSEAIP//+2LsOWaMgdg+JB4NBsBMsET/////NExKMQyHJYAVkIAPOUxmzeyboyJ4gB7DcfD59pu+f////9/N7/uK/83ebvyf59CiYyLUjChP/nEzPwosLPPawSJd+5cY20w1Lyl2iCpQrZM1WHBUhj5bf8U403VSne//NExLIhMyaEAY9YAGEc07uMZtXU/LA/kJxpT7BJA0UUWqmRCGUSZOKogq3J70Rt+bbbSkLi3cCAKORvNSJo5mXm3Oeb8V6u+CkLSpde2//FifVSSacWd0d/7mx+Tudy//NExIAgiyqkAYxIAIwRVRApW/PquPVBo5FKUkCqa+s5VWSHYjjjRhgNXEhNhKLsMs9Jqh1LVOMQxW6cxGeUckoehuq193xzXVSPKHlZLzMdFXFAaBoFgaBUFQVFA45a//NExFAYEaqUAclAAFooauQ3yRI9yFY1tp4Fn4aVq0V2UL7Mp0m34p4lAi04IgWhfJJobEmb7crUapXI4Bbhopg6iVMZcUodVW5XR4No1dSsuEtNRBUd/5L5Dm4zLzJN//NExEIY8caIAMPMlCTtM5W41b/vppS3Gqu/rf/lP2fEj5Y6pKez7P9buz3XeHVhzi1JeCBM3pcCAZSiEqUGo0pFbqBLdbrLQgt/ZuAlYTC+DUHRU5SMMVFNOjq43KKn//NExDEWEXqEAN5ElOY5apMv/Cp//53zKtO6TOEq7Oqkv9OyIqygZx0/6yIJvV/////fYtWU45UKfxi0sdVnkjbmc5lFt1e4jocM2bMMp7nbuhDhlBIjJa1a/G682Xdb//NExCsSgYqUANZElJXz/+p///t5/U3u2qBSVO/t6fbkGSr1A8eNf////+mxlnLBGDmehEPr0o14BSUGgKk7BoTEirmQ5oBqMDZkiDmAy4XwAKSIFNy4MwW+YlboL9P2//NExDQSQYaYAN0ElH83IbqHGXKKfQvRfI2Qg8ThHdQ9aPsfgI30LMHadMysD6lTxh52THUDKi238VUE0wPFILBJzTASrBFKj2uKxs4mAYtOcQNO/2e7LTmkY5BiCAYc//NExD4SSSqgAM4KcEjdDNViQiE3/IDVKs+clY4nN3ppjBSc5EiZAFgBuCB68+tpDWil8rRvU1ZbDmkE6TDHoElYjiESHOtzeA8rj01vWb7r87pf0+6wIFY1wVIVf+gN//NExEcSeRKsAM5ecH9ila/RMwqlvRdwMSXdBJDIiMA9GmXsPVQZbLIYir7Rb4Yj7vZUU9DLXQMhKDhYQRzOjgwMOZPNaipSetudS3sZE8cCBNX/pVb/0P/ZCdxdaHVs//NExFAR+Qa0AH5YcEYso6JqCMvFm9lLO137lv9lct5cnvy+3ZnLtLtmaoi+Oq1kZqFhIdhTqLe+hXhTqy1CX1RgBuC3/ihYIX/SPUMqodVxgex/CYBRSLTyFB5AogSc//NExFsSEQ6wAMYYcEgpO4vSlQdhdvNvebX5Lwm1+pv6gqTKzAKSjAMgSG0YZYUiKpwIcT048oIhA9rW3dYAFyjm/jaxuCjGWRikpYCNUOELZMk45BQQiSCx6aIz6NC6//NExGUSMRqoANLScPMTvSNe3wddSbzC8tRJ4LSA4DkVNQPvdrpVqolxykon/1nRF/Rd+S///1sUZVVXaSAZTFDBdA/m09QFlGOTDF1+UvZ////oiX//2J////6//9Gn//NExG8SWTacAMrQcKNrpRlbzqf3p6WU7kbJVA4QjkU54fdDCg0PuxRMXDgcAQCCmxABEwETcCr//+///9TrL+f8j/////9R/8/D5Zf9e/m2++6ul6PPh1U+G6Tqcf75//NExHgSgw6oAHhKuUzkH0zSH02bStA0OG76ZSRmTl1SSO8eA8Egd4D+RcuNgD8jFZCHFzAYk8dhVCgb/9f/3iv///////7/+XvuXl3uO55+93FxcfN7D1cqqHklEUfV//NExIEW+xqkABBWvSOrOeOccPGE1TmjDskQBOU4dDxWShoQxBy5YisLNlPcOYDVCL/SYvmTIpl80/+YRQoumMpZV8jmGJb8q3//b/58128ZKXpzFmhMEsvO2o4cjh14//NExHgR2xa4AAgQuXLrSS21iVuAfT5VVhJkvnryb3mUXN+vOf16fe8b/ySjpWA2feIoJQqLjPXo7V7f6tWj9DGM6O8CdUAjATTJVWNDuuokmq4YyOeF/5fUBjBgJznB//NExIMVstakAAhMufJSM+ldvKOJiVEt6vhTB2T72/fmy+a56uqvxdN+lGnHEgudFecDvSd6Y50u1lrhRKBKHljHC5aKNKLGuUNEKCoVGhlDgFrJQwWIMJtdelaSbaBZ//NExH8Tse6EADiGmU6qjFOTQYE9TmGi4u4QxhoFY19GrMq+raEr8nDmHZBDVOQ9j6Lc0KFu/jHPPLpyRw7w4VNBFN//qQRhfW6tuUd/ah48gAc9Tw8z//Wamv0/q++G//NExIMQAAp4AHiGALnyZp32/yOlNcIYAZGEg4BAbAQEgGgPi9ZzHSsWb7a9hZeAwrC+EUUKJpT+NvBcVgZjk0JiRZFsMVuHvWWJP7F8SukmZHzq//9s96e56oU7r0g6//NExJYSoWKIAFCGlQG6b6BQ5QHK6QiDONUM8CCl9qzRl/YDXk1mKkgJKX5HBjh2CZLsekAfj4MsGGUyejGCgkNQ8OtDFexMuxO9A+7///sp/kF+Za9QxMQWq9MkxpbU//NExJ4RgOacAGMGcJQ16hbEl9lGZzBBsWDRUKIVBfrKWVb70gEC9rA5xqRnMOAJU/XQhqlQlID1W3Dw8hNWf//57U/xVy2ArUOm2YUKzTuHbYPBI7mOEAiQ6S7AMoFm//NExKsSsMKUAMZeTGdAOpJdKcNSeNVdmyuGCXFocgqQ5UJSoBcSZPn4JsrlefA9KpfL7oTErv///6r0LRKIGUWFm7o+QzkSOJchyRAU0RB2XCaU07jtQ9QQ9flN6NU3//NExLMRsMqQANYecH7ppCys1EZExwCoZIRE4pRKwmztpSQsp//t/8NCWsNL//////4lOqBS3BhpQ0Nsp4AEEuMBAXMYA6be9s5UdUqfMPjQW9qTINFSYciINHzl88vH//NExL8SMMqIAMvecGHFyeZzKsWkw0Yb+Sye5N7dL79rz5w0ZZ+Dh4kHDe7ZXtmun76fMM7JY/ogRg7Jc8u2zPUzEWzu3Vzj+uSx3nx3n9M+pEXxs/q7fXs/+7ZPFf1b//NExMkSQOJgAVhIAB9kxU3OS84unfftYeClc9287eOeBbd46ENokqBFxkyIHAMIIMMUGA3OGh4L2FWHKBMwvgjwkI2l83HO6yVDeCpFwTAdwwIFFGguXqQpj0MyYYqM//NExNMh+yJEAZpYAVZfHeZF++2Yu5as0YvnVJLQ+9BSCCZcOnDxLrRL5uicL6A8CTN//2pf9jd6lf///621IIJv91IsgpRgXE0taDKP05UJZNp5mP1UiLEKDmIS6ULU//NExJ4iKyKMAZhoAa1DW1jWo55JFFuT9lusVfrpXrx+ObkykrEjPstjOyqRLdhdst57ywYXdv2eS8eR08prVa3hb3fNNf+2d3x7azuI8fRoD+ek2fXMKZ9NqFqSJ4h4//NExGge2d6QAc94ABcmHnJVKO7PT9QHmkoSGhQ2gO1Kpq1kUKOB4aId++nuDhHtdhyFbFNEa+u1j/URyGgizbUrtdRScMre5vopKxcBwIShRbB1OpcarjWN5i7lz/y5//NExD8b+eqYAMvMmIIso8o4ggRJJ63b+6/x8Khm1PnbpaKK6q8nH9M2rFV06P2UR4GBlCLrTUIud/+WQtWWVK62jXSGqKOVtFAvJMXhNO0Y7p9OQ/gxcgclC/UrFHh1//NExCIamS6gAM4ecOJv7Gh1QRSzbtibBkDtJ2hoGgREzC6QxZzrD+f6pD1nNqZ+b7trFIdMYhx448P1DVMSASogQwH6aAQGlSKD0VEw2+2tyf///QpPWEhCmOR5dFKA//NExAoUIUawAJYkcK2hhbEQla5zF0QJll9Hp6S4qB+HvUFUsTkeJMguJLlNZkOtN5kWTRVZkh0U60UNaT6kk1rWamSDWN3iwYGveDkKiea9Lf6qqd5ktEf5bsP4leRr//NExAwQ+KqsAMZwTF63UQ+Js3yqWmflwKe3hLwSiBcuJki6BY9DSNKUGjWu4ymtLBuVfBhQj9rokWGzqhKBREHhj6gLifLkBiIwew2ZMJFGML8NOAIpquLsDmJGGirK//NExBsSaPaUANPYcJKUYS5noYIYLckkugQF4AaQ+bQBKLP+q1bb8ae2uWtNtZrV/Q0vKMrd+VCajBFSKwRobsFgLAtQf7ICSEXha2YiEmxOppASbxQkiD9Hi9dQ4j63//NExCQRYR54ANvQcJH5yuTdHZUUW4Ltyg9p5pZlLur5vvX+Nr/JNGP/9lX/0powQMIJR8gAGZbHbdA46YEQ7YgKhC16Yg0J3aaU3Iai2Xct6zsuROJBDiVtMTHND9DU//NExDERcOZQAVoYAI8zQLDT27maPU4paKtTpV//////okRGfj2WWpVreg7j8O/NH2vcc7xvGq9BCS6bArgK4Mzp6az6AJAHMFgAG9TdZfJQ6bgG+EuF8IK9+UFpmioX//NExD4gqxJkAZhoAADmDYC1heye/6jA0c0POPQnkmSCS3t2+mm603WS5THoYJKSUd2/6b7VMggyBmbmh5i+zMnP//+hQ6abpun70jjMbufghZl1sSAB0EiuwBKsytAd//NExA4QQRKkAdhIAQLjKhDhQ4MTwgepqUUVqHLFLflmKSBtA65MTddIImygUJAoJE0cI3me57VzhC7m3ubWq7XLgiSkUujYjNSOYgKAG5YYWhiZNSP9D1l9KedsWaa1//NExCARqS6sAM4QcJUluzYxyZh7Y6RjYscKhUOQ4OCBUiKajJqOmZZqHpjzA+en7LrPQpR8YN+BIi9hQISooCg0jcbkBDomtlfta+zOz9zVrvxqzrLXdigxzbRmiaBj//NExCwQMNqYAMYGcAowZgwbBUDw4GjzgaKuBUAjXf7YTm70Cd4rMl0W5KkGy1UEQERYGLMDeIBzu2kPVIpQuSe7n3v6luOb7s+n/wrrllU0aKVMStHHLRqIlHNQYuN7//NExD4RmTKEAN4ScBYDDRC6C//zVZZTQAZ6Ux6gCjQHkaEZDmpgv/IE5yZWtRB3PZy6Mb/dX+4DqJAZJNwHG2Y+tXZdVe7kiK2hQQitlowYsQEjHfvXv2ijOaOkDEED//NExEoXgUqMANPSlBBzJwuH4PoCAIODGso77EHP///rlWbxGHC/UGA2QTArjBZ2KJEjhAhgnJZiIaTyQn4ycwSdZ3N21GvD+///8lcYStaTSI3FgiCECs/aB3Kw3Cd+//NExD8UiUaYAMyScJpRMSOGipZRdwVgm1/3/u////Sqp602IYN2F1k5EueA5jbWkZm8PFACUPAS9BfirUtktP///u4lF9KGp2QxL2FBvvf0iZtaY3LWe75/b8fB+jX9//NExD8REZqcAMnWlP/////66oYrwQY47LJKBXYkpdJhwmCZMRUBONGWBbqQ5DrWbZ3TPZb///1SYJiQ4BoPBsaIhI4oNWKDUdZSQWBUu5A9VKGhl/833Yhs14B83jMZ//NExE0Q+UKYANQOcBUU3sJTYk6ds1AbiKhqG0sGOUHrP5Vae3+v/XtQmNTBHB6OhQRWNEx0cNHhSJQGOrHitpR5pgJAP//////96ozFmQgdxxYkYXhEMyUq4r2jofAH//NExFwSATqUANROcDqREuQjQUnUY515xtv2//65qOCwdEksDpxwbjUsOHHDwklipA5czejiJJ1v//b///620H+oSUAqtw9FQ75Lhlox2qOKEuBPj8Y1GOp6Rs9LRatv//NExGcRuUaQAMtOcKt/9echojDQbguYajVFPSY1FHTASZ/UdKud/1fSO//vr+wUVMVXEqdM+1pI6Znbq3r9CkrNX8GkBkIqRPrMC1aZq/a3+dd9NXq8zi4qMDwaKoVc//NExHMRKTaIAMyOcIC5AF2DG/9trP/9tv/92hVdh8eaQn6wWBDkw7UUOW9LX9ltLbjN7mXTdSfv//8gWGWv5+3Vf///+7f/fu1J+qK6KyIvWqWO+2Tk97oxFU7oMc6N//NExIEQqQKEAMtKcHdlhx2YG9yABW5RBKZMxTS////6f/oYE2/9f9q96////X8/Ud++P7vjqupmp+XPh90fq1k31UbKnqoqJabsOHjtynCs2qyjxo8mKlRMLzhIVMxs//NExJER8xaQAMBEuS83D+u46Ty0qsHA3rEo0Ppn1boEMn///7///v////1b////6Npsm9n6mlk7ujscdVDfOUycYpRBWyMfWyE0c4uPjAsE5pM4sLx8HovHwfERFEws//NExJwW4yKQABiWvABAGikIyITHFp4Jv/b/////+X///9P////+d/7t/ut5/t662PPPQw4qUNHjSo2LDZlPkDBuxg4wuHjhs4uFCicfBcLxJJiMBEJzRMDwoNxS0tUB//NExJMScxaYABBOuRf//////5////////////z8w/+udRWno7uyMtjFe67vnTDTCpAlJqacXIOEDkhoNiY1BQRiIKBMLRWcC8qeHgf/01////+9f1/r////v///+lT1//NExJwRyxqcAChOvWpRXo/ro/2OOo1RuhjHj6Gml5rjrlTSriMSPEpgdhCEonAcJIlCkKGBCJY1BcOkyYaco1UIf/0//r//Pn1///yr/////7V1X/rz617MmxlDVVkn//NExKcP+xagAChOuTGnDkkY6nmHpYTFxqIwbIoD0kNh9iRYkD8QOTEQbhAPA8cMg+LhQWKqCj/+3//r//1//////////rr/t33ubR9J6UV2R2Y41T3NOZ3NZ0IjDCKW//NExLoRyx6cAChOvCJRbOISIG0fjAeFhSPwxCnCmKDJDBVQlGAgBiF6QpoCb/X//b//nL+q+n//////////abpmXVE85DaH1dmzjlVD1JDzmOcg8o+rR1xONSA0MEcW//NExMURyyKcADhOvLDw4oypFSocNRqD4eEs4aiKBkwhKVFVE6XyazItOc492fFoP/t8xPjf//ZjbjT3YXFhi2//7XK+rV5Be1xuF//+yyfG9vK6zC3X///9jv9sWMOe//NExNASMxqcADhUvSuK/Va1/////YW/SojmwRUqtIQcghuW57rGGJmYmZcl+//////JiGaYyEj7AZgHIJOoCrXEMB6BUftJPWJmXKmOoRUbyvPxZEmFn9aDwFoDipfy//NExNoRIxKcAUI4AbI/9+lbU/bfW+notv/9k+n/0Vf1161193po+10bZ53Tc1jR00FpHOtqg2LqhwlZKjA+46OmlRGLshIqUqpB3NIlCtUAUhY+av9tp2Mtvc0xU7uz//NExOgkIup0AZB4ABgpDtQytl+X3X+GqnmfKyt9ulVZ6tu/YpH+Z76s82xbG281DbuqKxlYKdnUq5rOykOyFoFYKw0GeCqqAMCogNktbGqtI9AcEnH7OUa2y2U+frPY//NExKoRiw4gAcU4ARiBQWHTVrLHQjI1DCR4rFTJoGSISrIhIk6hg0sSCoCZTiv6/Q0CkaPxY1Fv0hNNG6bCHqhneP3keNWyoqAwQQ7fYqWf9mWdno04s9Dc3EgUGFCy//NExLYSmu4MAECEuRcXFxlO3qTjSzLMu9Yo1//FhYi6CwuI//LBIVd8QiokNBIsABsJFCRxxAGErKKGGFiDkdnZnJ/+7O7P/bozszt+z/Z3b////+zszt/6FMzjkORU//NExL4RqPH8AEmGcFt8zOMMLIWqVWWWWXAyNKyv/tRaDoHeMc3Eoz8HOCykIQGwBURQMQNafjXpIB+UAfHJ1objf//jnSDbXRpqTDJxYEJiyZAPH1AMGGQsAyJyUE4n//NExMoROS2QAHiMcFBEc7WQEIAcZjKlsBP1WruTNw7hWpq8ZqRogwE4Cgo61X41XUmZVjExr/rSO/66w/84a/9////Pv/9LPq1Y3Vjf6/tDUtjVVLY1JrSbLJjY1XDO//NExNgRcnFoABiEuQML2qzJSbqoKrarBVCXKkL+cE1kJMLDgnQL1UWjwweQPKNpFaaF9izhoceEEzHb//7DtKSkE4v96Uq4tnbN3P//muz///////Zn////Zv/0UzOO//NExOURAFnwAHmGJEP0K7kORUK7DHaqFHACNQwWCCQoMFggGRHDAGCCSQYLBxAkcMCwQDJDhhMQakGCwQCNSGEzDUlIEyjUkCZhaK0DzJpV207Fw+7Fs+5bJdv///////NExPQXcu3QAMDGuP/////7sqK7kVCuQ6GZyHQrkIDMUcQHBFEiwAOCKOIAyyoGPUkRKtVUWVakiJwk9BI0q1EiJZiakjZUJljjCgEMCFjMEg8FBYPAyKkgqRAQTDJn//NExOkUWxloAEmEvf/////+kXS5tQsaBkUNBUiCwjDILCxOTEFNRTMuMTAwqqqqqqqqqqqqqqqqqqqqqqqqqqqqqqqqqqqqqqqqqqqqqqqqqqqqqqqqqqqqTEFNRTMu//NExOoZSxnQADGEvTEwMKqqqqqqqqqqqqqqqqqqqqqqqqqqqqqqqqqqqqqqqqqqqqqqqqqqqqqqqqqqqqqqqqqqqqqqqqqqqqqqqqqqqqqqqqqqqqqqqqqqTEFNRTMu//NExNcR8MWwADGGcDEwMKqqqqqqqqqqqqqqqqqqqqqqqqqqqqqqqqqqqqqqqqqqqqqqqqqqqqqqqqqqqqqqqqqqqqqqqqqqqqqqqqqqqqqqqqqqqqqqqqqqTEFNRTMu//NExKwAAANIAAAAADEwMKqqqqqqqqqqqqqqqqqqqqqqqqqqqqqqqqqqqqqqqqqqqqqqqqqqqqqqqqqqqqqqqqqqqqqqqqqqqqqqqqqqqqqqqqqqqqqqqqqqTEFNRTMu//NExKwAAANIAAAAADEwMKqqqqqqqqqqqqqqqqqqqqqqqqqqqqqqqqqqqqqqqqqqqqqqqqqqqqqqqqqqqqqqqqqqqqqqqqqqqqqqqqqqqqqqqqqqqqqqqqqqTEFNRTMu//NExKwAAANIAAAAADEwMKqqqqqqqqqqqqqqqqqqqqqqqqqqqqqqqqqqqqqqqqqqqqqqqqqqqqqqqqqqqqqqqqqqqqqqqqqqqqqqqqqqqqqqqqqqqqqqqqqqTEFNRTMu//NExKwAAANIAAAAADEwMKqqqqqqqqqqqqqqqqqqqqqqqqqqqqqqqqqqqqqqqqqqqqqqqqqqqqqqqqqqqqqqqqqqqqqqqqqqqqqqqqqqqqqqqqqqqqqqqqqqTEFNRTMu//NExKwAAANIAAAAADEwMKqqqqqqqqqqqqqqqqqqqqqqqqqqqqqqqqqqqqqqqqqqqqqqqqqqqqqqqqqqqqqqqqqqqqqqqqqqqqqqqqqqqqqqqqqqqqqqqqqqTEFNRTMu//NExKwAAANIAAAAADEwMKqqqqqqqqqqqqqqqqqqqqqqqqqqqqqqqqqqqqqqqqqqqqqqqqqqqqqqqqqqqqqqqqqqqqqqqqqqqqqqqqqqqqqqqqqqqqqqqqqqTEFNRTMu//NExKwAAANIAAAAADEwMKqqqqqqqqqqqqqqqqqqqqqqqqqqqqqqqqqqqqqqqqqqqqqqqqqqqqqqqqqqqqqqqqqqqqqqqqqqqqqqqqqqqqqqqqqqqqqqqqqqTEFNRTMu//NExKwAAANIAAAAADEwMKqqqqqqqqqqqqqqqqqqqqqqqqqqqqqqqqqqqqqqqqqqqqqqqqqqqqqqqqqqqqqqqqqqqqqqqqqqqqqqqqqqqqqqqqqqqqqqqqqqTEFNRTMu//NExKwAAANIAAAAADEwMKqqqqqqqqqqqqqqqqqqqqqqqqqqqqqqqqqqqqqqqqqqqqqqqqqqqqqqqqqqqqqqqqqqqqqqqqqqqqqqqqqqqqqqqqqqqqqqqqqqTEFNRTMu//NExKwAAANIAAAAADEwMKqqqqqqqqqqqqqqqqqqqqqqqqqqqqqqqqqqqqqqqqqqqqqqqqqqqqqqqqqqqqqqqqqqqqqqqqqqqqqqqqqqqqqqqqqqqqqqqqqqTEFNRTMu//NExKwAAANIAAAAADEwMKqqqqqqqqqqqqqqqqqqqqqqqqqqqqqqqqqqqqqqqqqqqqqqqqqqqqqqqqqqqqqqqqqqqqqqqqqqqqqqqqqqqqqqqqqqqqqqqqqqTEFNRTMu//NExKwAAANIAAAAADEwMKqqqqqqqqqqqqqqqqqqqqqqqqqqqqqqqqqqqqqqqqqqqqqqqqqqqqqqqqqqqqqqqqqqqqqqqqqqqqqqqqqqqqqqqqqqqqqqqqqqTEFNRTMu//NExKwAAANIAAAAADEwMKqqqqqqqqqqqqqqqqqqqqqqqqqqqqqqqqqqqqqqqqqqqqqqqqqqqqqqqqqqqqqqqqqqqqqqqqqqqqqqqqqqqqqqqqqqqqqqqqqqTEFNRTMu//NExKwAAANIAAAAADEwMKqqqqqqqqqqqqqqqqqqqqqqqqqqqqqqqqqqqqqqqqqqqqqqqqqqqqqqqqqqqqqqqqqqqqqqqqqqqqqqqqqqqqqqqqqqqqqqqqqq/8FnIpBh//NExKwAAANIAAAAAIPQf1KQYwbQTr/5m5/6+/3Vyi9zm8q1kJoWHCdBPyZNHjBtAvV/czcnV1HXIdFdntopiiw4EFyHoUWHDhcUOi/0UxR48h0X+imKLDhwuTQosGAg//NExKwAAANIAAAAALih03ZnIdP/Z2Z9UKLDhwuTQo8UJTwrGCE0JBWcQnicgOojxOQKopkD6VcTllStA85SBMCIhwgHAiIYLBAMkGCwQDCQ4QDgREOQJmpKTMLrLtn3//NExKwAAANIAAAAAP/xLCNA8UYWEBihgMIDEjiA4JRxAcGxOlhGfywjRKxCwgNhhAGECihAGECiRYAHDCRYAHCihDhKxPYRpf//J5SdKxOlU0eKwwt1Bj1JGmLROKtQ//NExP8bax1oADJKvKWOTRyNYZNDJrDUNHJlhiQwJyFKIwEFQyCwkNixICiv60gsIzISNBQSGgr/1RjQKFA8DJEFhUyCxJ6kD//+pA8VTEFNRTMuMTAwVVVVVVVVVVVV//NExOQh4x3UAEmGvFVVVVVVVVVVVVVVVVVVVVVVVVVVVVVVVVVVVVVVVVVVVVVVVVVVVVVVVVVVVVVVVVVVVVVVVVVVVVVVVVVVVVVVVVVVVVVVVVVVVVVVVVVVVVVV//NExK8SgMnAADDGcFVVVVVVVVVVVVVVVVVVVVVVVVVVVVVVVVVVVVVVVVVVVVVVVVVVVVVVVVVVVVVVVVVVVVVVVVVVVVVVVVVVVVVVVVVVVVVVVVVVVVVVVVVVVVVV//NExAAAAANIAUAAAMZsnwXitm6Mh+XzciSuKYmhv93U/859Cixv3+R7qIfz/hws5zv/9v1w45A+Z//9/+UYGkYhBcfIE///V/+3nDgfAcPj1djDh1QDgtbZimyF3c9a//NExFMSOyJwAZAoATK/M7Kiep7hnX/8LG6rXMj4pnLPr/9jpa6rl9vvjuv/v2XELe6YVNHx3LH31DNbjOJUsiYHyXRw3UNLp6pcTCqoJb0LlE+gme2LNGwB4Rjcb3lw//NExF0feyKAAcpYAPCpkXoJlRYwawQAG0R3lI/kQtKh8LxsNQQx/IMlEwfEGQ8/7ZvrTx8bv+s35SC+Z/3/yCNkXszt5mfn5mZ35naz00veubk7uZN7X3n6XxzH+tW1//NExDIaYyKQADhYvBuiqKFf+xs11hF1WF9e+KGB06rSAnnY+vBm+Na8vXWryWDc58IyonJywstF9wXFRShLmDMZKGIVGP/oz/v53///P/6qX/0////+a5/556uZl9bq//NExBsWQx6cABBWvOr+99ftqYuLv4c+rqbVP6Er8pW96VotSJhUanCQoSTczJ8UfSN1x5VLUB/HeIJYmgNgkJh8OHx2j2boyOw0F/11//rjfL//fmPf1N/iJV1/8//8//NExBUW8yKgABBWvM/1//2+t+9kdU+7t9T93vVtjEKZTIOu4fD14q2vfnyQqkUNmUjPl5+hvNShcUw9HA9XI6CsEkikECaQQeCwPY1D0P5CEg0hhc5yFBUNpE8IlDyO//NExAwTUxqwAEhKvRnCMB/n/OtDmg6kAF///8/1////9V6+/u16o7FXzldlsZXdymEUiyEcqKR2ERJRYeUSlChVKHY52VRIcAQHFRhlFZXe7uPLuMgxIT/SR5lokugW//NExBEWST6oAMYWcNJhSybq0Rg0Hkl/N1bUB0v67VmJljUngQFpeWkMaisBuK6zRaP80/4ivb8RDjh9hz/6jkqD5xgjfXsagWZ+V/yxaGvgqeUPDSpHrJQB+iIJugXU//NExAoTsS6wAJ5WcbYXSga9aweAVAD3Ibp8vqLBN/lh/0wJ8MvUUAw9Ndg2mAD9dn2ic/iTSevbdfCJo8svh+qv/9f9MnxIbxSx/DtdZbfCVvSWQYCYE4p7dTENPKxP//NExA4UoTqwAJYYcWM0ocLCL0RfX/NRV+ncsfick1cW7+dAKBkOpHWNwe0hnDv9a/P5Ri2/Tbt1y9LZi52k5HdUeYlVKG2u6wHOlpt//6v/2sMP/DGwLKSApprVSeAB//NExA4Q4TqsAMYQcF5aPPXaV0ljRfD//GzKbH+o0GpDzWSCkGxdcwLAqE4+vXJHP8TTOmv2pDTgSQeWxP31iXZ5KttdrRJ2kqjOoaO2J9WcuKnUgDmL1mDev8KeDS1f//NExB0RyOaEAMPGcAo1f9NSaw84aox1RIUTsJM4aHHioZBWMChvniwSDpKoeCrm2rO/////9dUbsXOsalL6hu5tYx//gMf//X/6pRv9Xep3ySEU7zooAChBAOK5FDlG//NExCgRmdqAAHhKmBMXU9CEIrxAcKBZwnD9ThAJBpR059SSGXRl4hGmsooNf9JP/5avm9XN9myX5AAgTjBTtu43ek+VFFWDyvpDw4qS1ERmSyfyYQA88ugDkd19tI58//NExDQcYs6gABBYuSSwbgmA8nqmUpcJhwTIrGBMXo1id9YcOdemvLOq+sfbP/ylGHKUcxZFTbsRfz5wsrekL9lksUj+WAAEAAJqv/9dEFEIkI2oZbBX////uW1/fv76//NExBUWGh64AEhSmf9jeVDN2HfPbkrn8qRffFEsaVZOgyiOG2ZIlcfFlFiGEYok3ERq41ieYtvRbi0C8CXUFLjeHPYTY/bq3JaOknmvxRTVsXsu4x2NHNJQVB2INtwY//NExA8UcUasAMPQcACAWsxYPsu3KuM0fp99F39EGLaoQKKfdCADQBQKB2izNmS03om0+720skHCNCCCaqh8cFDwEKBMXCDQKTOJc////kW9zvLa0DIcS6r35YqmY64L//NExBATkU6sAMsSlZ1OPmcLoBj6ebJZaEp7aU17p6c57egWH5UXiFmTc2ELLs+5KWQy8lL5V5JEiKJvWlZ61W/12/qRM7oS6d3WFaLv6hgRJjDAZZbzcAxcskVCyKM0//NExBQUUc6kANPKlKwhbkKj0gNbqesPNLW3nEsF7XMeBG9dKBXggGDxlRHWh2MYv/sUpRgsKmm6GMyf9W36tElEg8Ksvcsr/OpV/XOtKASV+5YwIZXDQliyy/uUy11N//NExBUXSxqgAMCOvPf1tRjGMcsMKEkf////tK1tv///+5zuz132vQy977tSiMetFc84w0mY2c9jLD5xgiCQVJnmjccZjB8uNyYRg/MH0LHnCsRydaodasXysX////////NExAoTsyKsABBUvP///7r///9P6rbW3U2ejVznuqraY6uzIyyA6crGnmXQfqaSERdhwaERGNx8eSCuPx+VFcbBeQ8BCFQmFkRQFALwKxCcWn//////+f////////////NExA4RkxawAAhOuU6L/daIy889lJorl1QwxXeYZV1VnNnMScePPYqeUjxo0IjU1xkXDAhYwUiQcKDBKIqD0BpAkSOBqkv+////5kjo25xHvX///////6On0Z0qyOlr//NExBoRKx6wAAhKvLXSZSoLjjjhYxxjKKmdkWXdDOrF5nRUESyhIWKAo6gsUpnOImmKMMIkFi0HiFbXUsmLa3///+llG3K4EgGCqgjCulhDy0yM37f///////sZd0M9//NExCgRSgqIAFjEmQMGARjBURWibJ8VL/nT8/8flxyvf8isWoribiwFKhrc9evxhZRgwWAgAQ+WQQz3vc9QOFth86YXRpBQkTmoKA3vnqjCZzTlDhzOB7/yAnflz4ZF//NExDUQINKUAGGScEPiD///8nsKBjKBilCZlmcNY5EQiRhoOK7r/ZtNnIarVraFAtcPOaLrXpSbYVIZunjdskfycep5EkRktIRCNtd5er0LttrdrupVvopZkmCFE13d//NExEcT6eKkAEsEmP//qc9xuPLPTQg12UqlnqRGMiIqIE6Ylhxepk6qTJgpxoq8CALJBUtKm/D79jl17uVCC9imotJ55c/Tna7+iiyDyCDsngiyu/YQJxDNxP///q61//NExEoSYfKkACpGmJcUlUwDobU8ywFwrtN/HMfifJLMmEnauLQ03h2NCfgxGdXHPdeo8YMHvttcJhISWIhMEUgRrrX1i6FBdLmecZv1tSZVqd/3pBtqbGPOzIgU7+r7//NExFMQ0J6oAHseTNYFSEae7llDmAZo8OPBF5FM4jSgl15OwAIRxad8saxAlOkDA0gMJzUxUGYkFjY5s5bq/7v96qm1h/KcMoc7DszKCc15L9iJmUeLXszxxIQTyoFh//NExGIRcKaoAM4wTBv7Tso2h2cDxjNRwCqsHgavxlTFKmP4wzLOfEhF+MI2YadtFdMDBwisciNr6zrYtFc4pffAgHsOJ78a5jrckENEkK+twQYSy/v1m7ArZ7oOp4EL//NExG8VuZqkAM5KlNwm5cjNWvSAJ9v8clyIIQtWw4jM/ef7y9j79oV9/23E//rvXtaHJSr17C1W1YaCzkjRcFhxv0gb+1FfWH5Ajw9pgQdxq+dJAYWjMcVqc5TvgY9w//NExGsUeTasAMZecFx17w5MRNYFQJlkTeMghRYJFZS72Jnf+J6a/rm+fi2fr+tM7z5YeAwIibiuJWyw5wKsfyylX1j4ATIsbrcdIUK2KlueqqW6H7BBJylZ8ATAqy9X//NExGwTYSqwAJZecHKSq1lQFnCnfucAtxTBcHOr57Wkre/r9/ea4zj5zbONXjziQQi6f+m6teb/7sPAg4c6kyqxhCYby63YtHb0AgQ02oSg23rtFGoeZbzKzUHUQJRy//NExHER4Rq0AJYecE0MgCh6Gqr42u/rVOX8Q6r3OsejNuW5HRz2le/FlWzPnnUdgwAwOZIlN7+UjYUCRgxkUCAazVlrgyyPstnM7PeCkPCbFiJFMlVDwaJhoAR/JZ6l//NExHwRkSKkAMZWcH9/957z1LPlS60lnf//eIj2RSqB2dMsQTgJCYFSTbpGRgmvAPe5awtxlUaATeHP25dQCCuWrxIMFsCXAIiRid8ezAsFv6Bkah0OxkJ5qYoSknr3//NExIgR2R58AVtIAP9vBYyq7zo4RRu3cp3zN7Vhas9et73mmX+kzSnTNtrX+ht09l9mZzr3+ZmemWtraAJuQoAGX/qZ+dAp5/g4mnKfps8HCMFBzoPgyvnGaqCAQ1qI//NExJMfoiaAAZpgADDgSHmtS59UE7LMPy1Od76iEH4+LslJlUHBVakZSqqrv3I0RIKgkeSaE56j//Z/////6KpHmXTrtJmmCasZXDQGE7hFyzFSCMulsHkwfAsBgk1I//NExGcR8OqAAdtAAAa7lKKSKUfdboZqmyryseM/oGWkOEAkG12bRvZqm4zMtSh55GN7Hy2kaCSjO7///////+ondDKWwMYAYG/JaXCihKDmVCQhwDDCw1CMhjUYWA3R//NExHIU+S6AAOZScLx2H1ddxcYg5EOUOFeN2pbTKxWPJKZ2wKhVm4XAy0wSQ9x60fArNjNnj9Vz4lmxqHuCz2iRHkSrHZ5SI+AjAM5IG5Ps0Zmf0eq5jWdEyWG4MuZE//NExHEZmUaQAN4ecc9O+8DYu6so0HEdWS2WGA46sMtp3bZM/strvo+sOy3OOV7340cppb1eVX5iNv5BYBUolkoqqH0Jmr7yR+rmRxUpVrY4y8vOHn01Y9pfvt32pWdz//NExF0a8aKgAM4YlC85Mxc5BFZVsV/////+QseZvAahMHVGfmXCEJPy2AxIAgeg3WTDbbepTFs+biFn9xOd5wKtyQdcEB8SgcAiLOocD1XEWaQn4Sfx/CKU0WP1HbT3//NExEQR2UaoAM5QcKWSHVXWUyMPDVSBN6AQqaFKzy+IjUP+gy0jhMDuzXvZVrX9q0ut67//IYUuMxsfwwolqFAS2ZjNZkzNnGoYCFAXzrHCyAESQmtwxTGC2MDQYaTT//NExE8RoT6YAM4GcB0rAHDZhAcZGKGbj0hCoQZCVGPhCsUFAkCL9Y00povy73HTOMGPXaHqq7GBGgEK53CgV1hIKgLLUS13kiK3dXrVlbtMWuvXFmXZSmipzQjHmeAk//NExFsSEM5cAVsYAAcvoLNxGgtAXMeboMwEsYwdhD/ugpkxC4yZBCcL9XpqZk4XCBqgcAZbIkOD+7dNEQTDG4Nj4aAIXKwzn/TQUimtTMGRBShJk2RcMjilyuAcf/po//NExGUg6yp0AZiAACmTWr4yCxShcLhE1Mmmmv///3/6cgBOU03TUxNk+boP2yxpZyhlLO2MPPbU1FP7WbyVW/5T9qhipW2N3Gh+MiX1p4W5PaaMEcBgNBvYxsPhh7HI//NExDQeKtKsAYxAAShY7ThhEq6HCOeIZpAOhE4ehWA9D4oG54ehxdixgcC420P+/xCCQPVQ1LlVzRzRf6x45/R+Hupv+ZhYajCQch/7M93jLQNIUAx5PHjgdkuU5ztJ//NExA4QAdKkAcUoAeyXVXKc7nVhSOAYIgqIylfVSlIeUyB8VZSxoda8ydW+ZylBVQyh0Ol9O1SjsWRRR/+NhNC+EEnNFCZEmgZiAcXF4NcejsCsTI3CJAK4wgyTktg4//NExCESIXqQAMpElUkChI3IjiQsa3GkTMuFai1LuzaGIBDlSXflrp0WhDhAoK/37dErYWWpasM6OQHcx9AA6BgFdwqJNPFM2YHiTLgcAaVB6b7Al6sFSHY8wVR9KsaI//NExCsQwJaQANawTO1H678u7S1bHTx9h+5Tly6hc7Opo/teHKbCDQTGjTaQ4FqXAhkVpAXUdXaOXJc0Kh4Oda7AIFHajBKCASkLjS2AHZs3ZeJVEaWSE2R/9peZcsWm//NExDsRuRaYAM5GcCSCC0ef+8esWACf1LG5ozAL/lQIafpmxGdE59KICj+JW7DQAAZbRvCX4p5AQmLnmmAMtnNxO/hqENV9NFz9u9SPQKggf/wcHj/80mqx90Ins0ww//NExEcP0RacAM5EcCCWUpbKDx3tlQM4DFaBbYap9onAI8G7Rprr8ZegnDbJmMwQCQJXm8frz2uZ5frv6I9GdCbo6hzzjs6bL//6shAv/w5VtfVByMZoUopKWtFCIU8p//NExFoSiYKcAM4ElDOxOGeVTUQwlqich1HbdWMsUjsOuA6a6SCECOssAXGtiZ7m72O+a4nYd2Gl5WbDzS//Yl3/l6XGaCoPagysyS23QmxkETAFLr2ICFtapPtZgO6N//NExGIRQQqkAMYWcOv7wotZgI5yscppObKvOENgZ9tQoU4u8a9AQqAOH0EDuptv//TVriLzv/ADkv1dKjLOkth7E8so8vb6VjvDlUtRevbrdce6k+eMBYY0tFrpdZE3//NExHASeYKkAMvKlBIQR8gWMbQL1FgNvLlnU2Y7JNKgs7xYGHVV/khYGE/lZR5iiqvzJKnnuI6FGSZvAidLVSMIDzdqHEtWXLB8xZ7QIPzmktNzbPmy7phc05Jr1TEG//NExHkSYRqgAMZScFsRBlaeqI0pkzFR/0BhSvoa/YDDv7GKfaERIwDJoT0lUkaALgXwGJ6pDMWAdxDBU21kSZ+BV1jrZ3kmahsurIQJCzEDtH7ehqldnIJnQ3/7f9/+//NExIIRgRaYANPYcK0O6P/6nCBkPlF1+WwaZwWO08GknwN5XwGZ9v54nb////T+v/9L///9u6qiLr/6LdXqcZPfPMqk/QxltZ19TKSZ81xueeULmGEHYbnocVdI+Nwf//NExI8RmS6UANMKcJMiNygPAweEAkMCFQUQkIokoVFurP/+S///5AQe+/r7kPy8z/////1M1H9fxd/bn3SDNj5pkXcWcWWtjj8zZPNl5UqrRTcssmfRQlVNIiIHB4Ih//NExJsU0xagAHhOubG7yYUGRWaJrETG0oSAwP4eRrHcPgJRND4BohCxClU+/of5f////Z/ef/+v////////cc3X//PzN/xxO0v9vwmlTJnV1T2qxDDiSjzR4eY4k0ip//NExJoZUx6YADhWvXPBqHQlYFA8XYRTYtBOx4PB+GQ4E1mktNQ/FAasiUtxdYjOfekZQMNaZxydRv9Obp6M4gOBgeEsU58gj6FACIRw9lFIUGepa/8s3Nt1////8X8r//NExIcS+xqsAAhQvf8zJMbX6rPHDa6rfDfIrTSK6rRTe3Pz8qpqM0uDUPVWJVSh6qpIComGh8SaUwsUNFbJSaDpoZWepX2CiObMGWG/MAMzmCgwUKCoWGGh/SUY6INf//NExI4cWw6YAMCQuZQihnT4qGwf+bSWz19vHB2vgnV/49M4fx+cPxeerKpsRrjszMMgpM7oYly7Mh6hplFyIVtTHQJ7eQCzHsP19zzD+e/azgmFFni5zWs44i5TXbxf//NExG8g+h6EAN4WmOhJ1p+TYSFRigq7/+ookPAQa1T21KuMjSID7iQDExQkeASEK0xxRYasqvyyVA4jc0TCIG5pwhZNF5p0oaiWeo2vEtTMAxBYC1jIaTRiY2cq1vKk//NExD4VUbaQANNUlKjjAdFklc1qHc7rsb0Vp02Qu5NKS3ySKlmxBRMqsRlj2+jRUlD00ExUed9NIcYLXnNytllzF4lr3+Zfr8a0I5iKGzRoJnfO9Mu2JJ9qPfEQMz/7//NExDsSmTaAAN4McL/ld9mDqDV////////+sxVr1E0kwqDDpI8FgWhp030bwUWWWrOC8g0tXtsJV73clXVR81vHeo/AuGwkDLQOtu9UFvejOxxEp17W4iUaCiJXf/////NExEMSGTp4AOZKcP////nTKhoInuyEoYmVKNxlJIgO3oFogUBBYaTHYMiEld946B+G5Y/h+tmYcUFBhJsICIidab3pkZYjFILhwJmUip4RIRZo+zb/u////+qASpWy//NExE0SQPJwAVoYAIe1QToq36tiK6E+eOLK6VbKiCxwmlO2Zt58mHTFFuy/rYxmo0xuGR+bm5+vNW0geNv/9jGG5+3ymow4w9//++9jLZT1HE8usueWkf///99nK9nv//NExFcfiyaUAY9YALyQalaZDgKBBMHapPD5/////+xjHvu5eyq8EAhClI0o0YPRqeBMJlUEcx/oLUKJt8s/55//5///6d7Honc3fd3xvpmDIwgLGnXc/9/6THzuhd+N//NExCsWQwawAcJAARCJQQd0s2a7unhZmXGVVlyi3FwNNKOrZ+eWmq+TSaWoda5rS9JmpZm5X98k2WWHgdA2UPL1tJKbMroJgOYOjTnMyVK/Ttajs5ElYpTjliBzo7pl//NExCUSqeKoAElGmEysz2gfHl5bx/6c01yL9VCIKFUSJ58ClRiwq4dVdmNHr7+uVb9S3h8yzU7tfOxTVC56Ocj5G0wIYhEZtjnIjHCFDfsjJ833ne9Yprf1Dv9UGibh//NExC0SUaawAMPKlOKGuFjhIPoUc9GMRuQcV3Op7rVW/0/WNLvTe6Wq33dR/wARRmkzzQ9NzAwNZcQZwbIsFazLaAeYlVza8efJDVe+h2EPhnRAKFQoJ5oBPqLLgxbs//NExDYR8UKwAMPScI/bhKSjy8N9ze5afTpXFgxTplvogm4EW0smQa4TVnN1ai+iNFF/40DT+/rtaI9/0iNf8F9cOSCk+keeoPFV8jzd/Jqf/cw/PLSSbHGFj9Td8s+W//NExEERmUawAJ4WcAXfbUTzNan8zqsXF65qHL8YHEAe27EUcwJMCbjIbclBvatRkWtycWtzEovx8HA3dHHgdDrvUao/VPVFZFGoLVOfQ//1dvZ9KE6rYlWCt0ErXgDY//NExE0RYcqsAMtOlBOTcCsJWlAqaRgYAbmEXJe3VG0kQCa9zv/AT3UuX6v1O1/Ko//Bomz2SnAKvMuwsajntUCxaooDrpGr/rOoWd9aDgbBKmYVBZiUbma8iErAWEj8//NExFoR6P6MAN6ScCAswODzFY/NWEseCEaiLA0tzCoKVrr91uGrWlPKAJEneOmtqcvRhGdaOIpEzs/q3oc5Vk2XmKTq7HCTUCQg4pd0yIdySt2AIT+yqeeQScOzsYHw//NExGURaTp4AVw4AG8d5IJ5bSDDggzAfSEEc6QVs2MyWsbHTjGh8aUsrZ8I1arFiQ1S0+NjKYPBNHWfYUomBmJjsvbWytldQdLGqqjvJi6Kx/JHe76///JJeVvZqwus//NExHIhIlqcAZpYAH5d+g0BNb/hgwhoOGNCFBVJoWXOzrseBCAx0qkT1OwbZAtMC46qSnHH/+l//vUf//X97FeIsrUT7OIBUGZZVu/dtzuxfzHYiBHCdr6PjykiAyoF//NExEARqT6wAdgwAHJ//////Lq9zu4DKGcDVY8l+aWGagWCZNkT7pZwkW1qtqR/IVfdlqZEIORUVMBQCsRmZF75mGu4X7gkopoLEKBb/tc5SPZ////+upvCrKhFsM8n//NExEwQ4UKwANNQcJl4UvChJ78jmSAneLBGdb+Wo+uye/Osre/2vnc1FuaChKFEgUQO1u2z5nf3nM/IqpygEFJao9K6PkrztX/////rR8HgI1UWAxh7NGpw1Mv6meTH//NExFsSQUaUAMMMcOMKAdVsCAykSZgKFPY1yLa7Qd3jq53Wtd9zZSsriIFEBcQFisVDK1e1+UpnDoFKHdNnr1Eg4aI1MjNB01Hczy0xUcBzS5YICmQKkAkIMl1gCADA//NExGUSWTZgAOZKcFGZVGlMnV13HKt16FCkj2QMgwhBALh+QMSL7fiwA+gMFxdtVP7P/o+hhZGkiz4wKBpb8xNlL9Y3QZZb/l5o1Y7Ef/vjYc+JJ3/5QsfbDV2TXP7///NExG4Q8GZMAVoYAGG5sSFDU3kkuHY+ETjKubYztRZo3rm6bxBjuNUyabA7YKSf///6RpdUaMiGUwDw+Eo4DI7TUzSKS1H/////q3sq6i2MPyf905VJKNC+7WNl1gT///NExH0ewyqwAYlYAFEVSf////v2ZUUjLY/M6sd2OcPAKNUchivZP0NMZ2YSHnDqOxhYSmck4qIzOWVW/9+6l0MpVYu/0M/mRbV9F9Ik9pZ8AmaLtDFaLecbdFIIjFOA//NExFURuuq4AcEoAAke6ulZr6tvCfV3onCJYoDhgij2JNWlUd/SLTwHwOiNw9ZzN3XrcaEIKnbQk8kpksBTqsSu///0LrOqfrqxjhHwrLfaGnLGBB1TZMddd7gQ3PoO//NExGESoUKgAHiQcPuIRUdzFh4/Tn1s6bZBZGUFkcliZdVDUpJylWSjFNirZ0Nnm56ymmWFKpJ9loxoxIzl5EEZhEYbUDgodbA3U2Y1zzml4IXRbKbXvV5UVXvaxZkg//NExGkP0Q6YANMScGOoiLoICecrc7lzzH5atv+bWzPf2db6taRRA26zq3/6asssaYz5uT2dhakJTYKj44CNsqbSO8R5Ta7eoN2hkDVHuxCBbrgMQ3jgoiCEIRrv4n4f//NExHwSURKMAN5YcLl6j8AeQIITdc/T19tAmmreeqphjk59AQTmsy6ZDHgNCpLi4a9BGajZbJgq502VaQFilhsPQGh2k1wohw/Cw6G2w2v8n/JWzjHy+lF45X77KK8P//NExIUQUX6cANPElH+7/////03HLc0DTeFeOEkgeH2qQSMAWxfQTDqjYecIPqG4vlrjd8q/HGOcQACjCIB5qJCZ6ii0oRSwXJZUvsspr3OZ+1rJz////6GUXtMLAqyx//NExJYSaTqkANUWcN31tnGcASEkJwZJOAOQ5YLse3WEoh7/+3l+6e98fbtzCUxgme4oB80qPF6FSL5rVY6iiMLnQdaJav0UkH9bknhp6FLw0whXuckCCkxRJzSAhBQx//NExJ8RMTqoANTOcGTKRPBX+js6WTrdrLBMTs6tXu5ZwC+X6kRNDOVjUoWKvNY9inFQ+hsfc8x9QsME4yRn/9RGQUQmFtAsFjhaoLXLdDAOaeMpmwnkQmVXAoKBIIfu//NExK0ReUakAM5OcImfhwJk0glaqzJs+XLTSMAREWKc37+EKav+eqfyoM3d6D4B////rjXEKOFUv3bIrzVSkxJk/RTLJjNhrce59I4SBMoIJj3L5fLh8wLl02qUkSA4//NExLoSMTqEAOYQcAuM4/DxEt3bMzM3HoSBcQUSpLEkOb+S6ckx7uXwJYLUYEZQbQKUHN/7sS5fNyUa55YxwKOSw7zpDL//6DNqQbuOMmoGCJcdiUZRt///3/9i+WGB//NExMQRMPZ4AVxAACjkumswWeVqY07suxWEtft93////7/S5EeePjiikaZOe1FlUkwQQXDRU1Rh2tr/eLX3ax7N3Q9gaHDzJUgbGG67u2ximf/9VY1ncTdJjNAo6RCe//NExNIhkyKYAY9oAQpkOyQd4DsN3NTHZUWaHP39Xs/x6ihACDBgVNrPkywxFGvsVSx8lihVaiQ9cdLPFQFTWGlowLKxVxYOOZ9KbrnbbocJi4sNNFM7pIAq/WnighxH//NExJ4P2aK0AcJAAKvp6PonufOyt21dwLSTLrLWooLS/badZG9RCxSwksU6ods7SXKMrE6m4j7ZNLcU//rvYm7+inUtR1W4XPMmpSAQfhO2zZ2SGHQwGAlvS1ENdM9Q//NExLESKQKgAMLScKIbEp6oX0Q1dl9gsDDw670zEAYYcp0zl3ama68dMF6nz+OpXWgurmd24YEacPZOvIAucPyzJhKmybhjt2HF8MSsto8lNBKZitcgvgkEDhDsBAkI//NExLsSoNaQANZecDMgpalFD4Zd15ZgrXXpqVNWX2MpRY52thJUf///6JNjWHAZkBz81rQEgBwegplFDznWhSxlTVYNjTdkmm0p7zPXcqRBYyLF+61klIGIYPH35U3h//NExMMQ8M6QANbecefBrzquvTyeUtbfvViv14BVqb+oYDMuzwAIQmnawZGM9LMlcwS1IgRG0oqCnF0XsRACgMkMwmkpm2/siCHF23+lq0Rq8Va/DSmzO5fmylfUxS8e//NExNISgM6IANbwcIhU5frzEYnEAh//UZk3/9CWB5XYvBNVjMxBrIMKNMtxLipr9RmNGwRgBofJpTS0hGmYWmIvfGLTpI8th4nULkcqWExBukaPdiJexOdGtjYYXTp+//NExNsRSNqcANawcdI8RPn/SPek2FF//2ynoancsSFifeVuBhlSdNzf9HxPfGZSgUaOwNZ4qkZStTp6z6hwZHY53Bl0+j9ADoscCRfBGjo1uVlVd8YXTP5JVCj3OtlN//NExOgVEPagAM5wcBca+I5ws2io/W9T6+9dWtXu/xXkTnt6lzvEa8scqQWMo+1lOgrRG7110kcEsrsfgoUCb/lGsJeTeZ5kV8MLMdmZh/zel11b0wvX17NbliWEvLcT//NExOYTsQ6wAJ4ecED52BqT1eldwnC1zGBjMxfFlUOTAK5ZRUHVBEjHLBPx7Y5jSpdgcshrsoMDC9T9YxgUBR02bGSMXFmnXA0ZnsU3yvFyV0N+o1bWlHN7qkBwV0be//NExOoU0SKsAMYecNkZmJseQXAgi3/i+ypabH9+tefuOCJDzdusgLdPN9RsCVs7cYYZ0garaxtHcFGypobQkLbXTYiD+odG75ACFGVsvh3jhVKfJ2rFVO3sUN7AixoL//NExOkVERqwAMZecKiMcyua4DizXCwKOR/+r7fqxr3BAEASYEjbIxDELA0TI08whMJn09C6aZzuzDBUxqG9G3Mg6HqGAoeh5+RUIrsCoSXX+GsAYtCOJAjKqJXdedXL//NExOcUoRqwAI4ecJp9SOTripbUFAKOb/sphFzfXqVuNxJ42bjfOWOraBA0IWcwYvMwA08XugVcz9zcghpd0nqUcZmmIzla71vtAZE5DPanKwyWASfKRaOXfZuty/NW//NExOcUgRKwAMYecF1q1aBpRVCRKN/qI75Zew7WBRgEggGERFDygCCPgr6NypIBR6nyqXgMIfgizpF9NMGwgNjg8TVRgggmfA8hAEW8AKLMiyQ48svm6MLxDSxSAEeA//NExOgVIRKcAM4YcK9R1HcnFKZCAOx6L4lM4Tiq1r3TTfjjUQQd5ugmpNffrT063IuTBbJggg+B2KVs/39n+hnVGDVL9/evV/uz/dvaaPUgxOIMRQ9VGMS+qFZrn9Dk//NExOYUOQp4AVlgAPHEuDdWZplaxLVKvWGCnUS5aYVyhLKjaqx+yoaX0w4ahkSTKKeX0vJ1KpiOZXPXy6fMVnzhCpaz6Fi2c/7fYjageBvcCe0CLmtJKW9sata0jdSJ//NExOgiyyZUAZqIAHh2hSajjRPNH3C8lv+79vAr33Nau080AgoKFk4tYu8bFYHiu7cX/9KRN3tfaWWIRMagXCWOYTC0vceFOq+KBAccowWH1r74UChkVgmcE6OsI6gm//NExK8c+cZ0Ac94ANqWjtpzbCNeTMmF1o/ZpRepbbT8hnqXzb7ai7c25+MlBinbqG//SQxYuTR30wVIYMgHaQI8fJ5500vCPyrtDCQ4SoF1LFzJNAXZEwXPNkCT/rpT//NExI4Z+daEAEsSmM1GCWOia4JA4PcKsvhoisYHaTq02JG+3/+L///SbHPy4QDjbEAKAEQkAQjrNCIWGAy5p9i6zhz0Ny+VswTowibtAQRbRBxp8FMQiMvlCpiUjI0J//NExHkQuQaMAEpMcDPe67/oxsjkHD69nQYjGG/8hYdhUeGB4imbj/ARgMAI4bEQOY6unjham0rl723qZfEflUWepe8ol7hCNSRaTCnKNi+Wzs4Boy+bX3fdu/dl9u3c//NExIkR6QaAANYGcJYWbDQs5JZdUksnLJh4AwfUJi1wx33H8e9+976Yw0eIDjjReXSUAYgd////93SqnrVRDkRcS+YFPmeQc35sVgv6lmAkc2Q6pPF606NMU2KcT2pz//NExJQbyXqIAN4WlOSiSTBKPpEgbmzgTwgNiPm5Y6Tcya8lj+dYQAvMzQkLXq/z+z9n913bfTkvXvvnP////9O994Goh0MDiAAmCThgIABHnoLifV2oZw5Xf3mq8t/V//NExHcV+ZKcAMsWlA2u8rWu7dYgmw66Dhaw5CYFz0LEm6quSK35R1SKqDR7X9OWJIIaoqIwJNQS2qlAc5G5kqGSny4TwO03HUB1D6tQdOtCRFLYLJHzdAwe2iv9YHvQ//NExHIQuSKcAM4QcCBykS5MEO5Fb7Lv/k15RzK76wIoMQdKaLp0kzHSRf4Oajy/+cs2UvOFT+wyPPJOfosWmpfb/O+Z51gmowH1OGpw/LuDxDYZosMtuJIU4Ri7IVas//NExIIQ+E50AMYYJGDSZ1q2FkD1Bg5UtmaW784n//+X2YUesinPsNIv55OXsbnbdVM8zPLvFY+NHTPKnhWCgGEp17muG16hQ9qpPICiUdTDING7w0CpUNoIsPBmdrqS//NExJERYZ6AAGhGlKKv/8/8vRdnCIy+albbvl59K6g+UxcUGZ7s6C3JiARAyCgFYFj7gsHq3EQG1R5pIv+vsteS4Cv3rgVb/MZU//zf/xjwbgvIvPYQY3J+0c5zYqE5//NExJ4Q6dZ0AChGmCAoSKNo0do5oyAkgXFZ+M5znPadIKM6uYvVCTIT2/s5Qh6nvUIGF28PvOYRH/A/AzljPkM/2hCxmGE+DvwqBW+SjHyf/a7ftrVOp5FQh1FqGnQQ//NExK0P8XpwAGhGlAQYYcTbmzs1OTsVi9YTlKOKpgXzQtgwNh8ShORmwDrBILobmJfLRBHawkFIsXJMBSiudDYtrK7Ro4cpW7/H6Q5lM2z9GK02zitz2K0xPefms0+B//NExMAV0hqUADhSmRdnP83lXIN2s3cY9fTNs3Sy+lNmrF01f/r/////zt8e+/9d271nm93JNFlCiRxNLHdCvJWnK2jGhDNTZJkU6eWyTILaJH8Rs24JMXs8Vx7DzGLv//NExLsfmxKkABCYuNctx9nYTWyy1PgN/atSyvAbAsoGIumoy3Xn////o/Tp6uFWYa0FrXFXrUeDoeqVkjmmG/VYs0kkPWCRUFg6dAoKjB0SiIGnioas1AZ5DSn7vsnW//NExI8Sac7AAAhMlS3REirktymVKTQiDI2Cvq96JIVoOEMoO12eKWV+5Wpm1395x2F8/uJOyuXDcITUE6bbZIK6IzEaiIGfV406dGBQYiXulmEYvtvzcZvma87AiM1n//NExJgSEYa4AEhQlPqr3WccALJFCvWmokI/piBccxuM+N8xIF3LklYJOb18tefPX1Gew/OfdYW2CTdsP0jdDcX/WUel+f/2U/KFbaihKGnLkaKlGIlzL8TV/7U6Rxdp//NExKIUAR6kAM6ScRC3z5BnBTpN8oNc2nTVw7+rqsxQypvGVCBYtKW9o/J6AUpbW8yHyq978E7FRTsZ4ICPBTqGss1/7WdvL7qmVvfvMYKCUQ2jTXvC+qte0gQVv//a//NExKUXyfKkANYQmKso0SYGvbuKLndORBzjlkgYD1wb2eeXhWQuuRexDB3hqk+6JkUiLJ/V6Gb1bzfl/PoZAvwb9Wf0PdKChes5QHFD2/a7///iipb3/1BoXTRXLKqo//NExJgQUU60AMPElOBbstKHTcwIkBEMBsQI2zRNQ/gZgGFpZHl9pDh7fqL31v8v1b//9Pu/hW6cFnFSzsM1gOsbq0WPa/W4kZKPcr424IMzmHvFGajkmp8DCFBb6zEo//NExKkSmbqoAM0ElABIgBjGNFA2ZRQ/b6vrf6/v9P2/30Ha+n1GpqduiJyEBHYuzaq3//ofmVVKlNfUABQAPCT0rA4nDcUfAwBAQuwFJjVFD1pTpkNS/U1D7KC8QHUR//NExLEQaWqkANUElMHJaWuSGf+n/8pCwPPvdYdUJQVCQbPCwmArgq3TK////UkVCgxUhIWAgzfN4EgqYjJiZchYY7ikY+BsLFqYSAWOAORA8DQaL+kQSI9hgCi+BRhl//NExMIR2fKcANUEmLrHqPElhyBejIezzZaA1DSPMOef3RQUqocBiSpaXNet1+ozOF48X9Gpa7qbmZgsxNi4YVvUtlf3zNRkal8zOMeFSX/gQuWMgQL5Lb2fgwESxkci//NExM0SQIaUAVpgANDBJku/WUJgughmQruUBjOczbeybp8EIWEg8eSPsqjcvXBAY9q83MHB2FqJyiBHSSicRHM6e8raZnF0yawngLGw73uOQcziZ8lk1c4Sy7c4lHqm//NExNcg8eJkAZ1oAN91ddXEvXPm65eeXRMkc93////L3tur4ZVoQ16l1x3f/////7KZBox6G+2fW6HQ5zViZCqZ3cX2ZQUUcbKY5p0zDiLLX9exwpLX1LG/wwsTbOnf//NExKYhkxqgAZhYAcPNPTAa0Ibb0tNnBFDxznJIsBgqZIpEqBFiYrDS5bcEpaqlqsWLCXt//5Wlv4gVyJNZNIDMywkCpkIABA0GwR44TTRGUwAhIkeUw1yf+Vv7DUSb//NExHISgPKgAdgwAIPLFm4mBtD9iEoBxj6XByJpVKQ0FeuGdkLhGU6shj2AeY/+xLSzv/kKq5RMcMXDjEHmMCaxWikgMDIcDJLrMzGfJYwi8w8mmsw10cMKicf5mYol//NExHsUIOKQANbecJiJQQpC0+JuP0YiHBlsTYHIEtC6k4K8Zh9OhPxzmA9D10Nb11/t/300zdRE4z+xDBam5TFkG+xtk0UnlLMj/EPOAWArsG+IDNVJxvmFjUqWnzhx//NExH0WwX6cANvalMd/q10puh2GCloIucH3VG6rt4zQ0UpaSKiJ34fKdmreGIIhL/jqos7ACNCMk/2HW5UCHD2p7gIzlsU8h8bTjfPi/1Wv4P9I3uu4tatOJyjaq2Xd//NExHUR4QqoAMvecHVNZ23xfmNJrb3WIyzfUW4odLWQhD6j4xn9EnTV1rzEVgSkIRyhHiIZwtOs7HOBRcZQepJtsDT7wte6mn8C3r8KtnOSwPYOTXQPS09wm1s/W2qk//NExIASSSqoAMPecNWy11uRRhGgFInSsOxKp/4NKt00BGf1NRUxEFcDaEORhDZ5ikbmVSkSZinabKaBrSEdLZiPPqwL/ZJV2RJ5NTVQobZGTD476fKaxxu4sb73Pf/2//NExIkRyUKgAMvWcFtJv7T//1KqXJSKKjEeX/aGYgFjW4ioMgxlJ4TCB+PhquEAsp4cpQb234xCjTYYnrMFcsURQDKgJuDTqlAQczIJzKb8nQZCdf/6zvoZ9H////yV//NExJQSET6EANYScJdDr1GaRCRVUGjxngTBSchg6WJAq4SAZcSctyqeqYvtLNsKLSJEpAo2EbouPoqtzKqcb995+ubT/f+/bXynRs53/1P//////9ZUDUQoUd+IPMXi//NExJ4SqTqAANvGcDoC8dOMOCJdkwLBdRsunZw6fOUiWnC5l6Xn9xR0GJilqK9zz3SoQkQ6nAipqHFwLm1Tern5IQV////+/9N9VRNlMhTCdLKrYCJgyMU/yJ8eNie2//NExKYSOT58ANvMcCq1RiKQGuV7kRKZkhWB+XNKdfP9qwgiYL3uOXhZwAUNApAPpMJD7E1gTPziP2QiX1VJy9p/QhUtSAW5F3oyOZA4m/kiSVbLGKoRQ1R6VMyS05ID//NExLASGPZ0AMsGcFBku+D5wYMBc5yBtxlVAkDKLpd946p8vfWsUefelSb2EC4IIDgYY8cXB+nn9/RBDK/n70VzoV3NFOcVzsSyIIoA4GBxwhBNrSZwMBMutguKpueP//NExLoSaVqEAHhGlBWxCYyHVv4fdLGW6Olkih+lg4bYOcUQZW88JDWHM3jBowE9m9RIwtAmvIgsY4ODgRSbjdPYkr/0dqo/ljLJyH0pHrccD5mdGaf8WIlmo7Ozu1mu//NExMMRgTKMAAhGcDOFQEFRT1HmAH/s3AL//////VU8knWVMxMwUKSJzQHDAIWQiAC4WQGMqAZYE5igIpiAqx9aUZGMo2HrqIYNGSKcYhOMlYv0y4LYHYavpTYwWwOu//NExNAReN6YAECGcP7TLhHgsGqmSGq1QaMp7xYRheIFZjNS6sjaNq+vT///sqO6WQnUo1KnAE+9/////9RJFVobjRgh0NUUUXgNKY0uIIGKm+1pnwaLAckM8BFiD48c//NExN0S6OKYAMYYcKFE4vAI9Q0x9CEQFaPlSiNBJOXUooebYzqNNHSmTqUSYGJpdw3VGBqzOHcdmjxzq69Rzu7Hyd/16//9dDoRT0GH1ndD3HID5C/////+qhW32mKi//NExOQcGcZ8AOZOlAESFg7owgkw6xhwTII0y0BZ1gSws5p+BZFa+fve8lNfJQ4ndoEJTuXGyg4ltIzGTBiTgilQtQ4jc2jGOAJIXTEPSBuwXAfImsvnS4XGUl27tV////NExMYbkeqEAN5EmNfdDQ1G37WOxdiUxcRVw/g6oifrg4MWZMTAwsBSj8LWSDiPZqOsynb9K2vb0dcjDmMZv2ItrO9gIW4NqmEOFH2sdrmvzoclXbmiT4UGtqx4/uCC//NExKoZEaKQAN5glb/3ajJhn/qS5+EqHpy/ChLUr0vwSZqgp733n3LeM3tN1ZZLLESi9T7lepY5Zu9Gl9qnKyFsmlKolg+eL6JLPsKD1Yz8aar96viAD3vc/0FErXX///NExJgTOQakAMYecPro4S7GYgIPhFKkvBEItOUswj1Alm5GpN+MpfqKc5u9vjJjIoUC7+VFClKAUDGOWI4V1VIM7GToxaYCojNgdnan1rXDW5gZWXpjfho9V3Ltt1Ec//NExJ4SWRawAMYYcAnljlcoVQ2MePtc1/INq/zTlvHbr1/anLddKqtWE7CHs/8rhN9Ptb/g59aR8b93AQAM3Cb1V+VULiBffyzO3Dbhm+qSLaSsRuEQCJXwy2Bs+Xey//NExKcQ4R60AMYScJlN7Lf7vZGUztKzzB58SDzuoCgCKKJB4SK2rdHytqalBZQbeP93dEoo9ez/////8rVCs78EgqFDkYeJRCBoiYVHgkOACXigckIuFg4BRo8ZgAMr//NExLYTOTasAM5ecBWVPiBjGUYJFSSDFpkaOtjizU2NCwutQakZJ3NDU+1B1O/1LNmOmRZUcU2ybOrLpSKBBJYoDat8w1/rbIY8CAS5cUZufNf/NBYAhwFhL//4qLC4//NExLwRmT6gAVgoAKoD4DWgjNMRhIONt4+NZ72VP9RNRd1NVLO/fPF1510bL6elC7okqXXX5t8szfYkqbn00g+DaNBiNQ+dn+Dc3u7Lx1pHCYNh4dhCEQTg2AwZm5MG//NExMgeIeJkAZxoAPf7+b/9A++7m15uMilUSfPkGcevTv////9jKq/uuJ79qZe1Ch3weNCWfK0l5x7ADGskGII51w7FlDle//+9f//95NkvSbZK5EQRRyDCBw5TKyqY//NExKIeoyqkAYhYAERILcWMIuHgMHwKLgUYDKUo1ijiGExUogpUOLFFWrQyHK7IikFny3xxTmLvZYd+OJp3LxDbHJig46KyyprUtOAiGYZYUeXR2Evm6gjRGv4rldm8//NExHoYejK0AcsoAc3w9ZrWb3LHoyb+IlvmPEt8PLdvL+wOUEv5N1C4bYI60PL1XmbUaUrwVMQkNRKL5qMEtMX02t+rS/xreZ3nrOraTWuZSeyOem//Z4qwV7ftf//+//NExGsa4eKcAMvYmIqUayFBBiAPJe1g5Yp+IbTTGDw0K3AfQ1XyQP16ptexWvd7EzWps1WeqoTpfUAkqeH8KYk5aMXdSWa5e7qdGWfxn1vXyZr9erm1y/NLkjqXMf26//NExFIU2XqgANLYlTRVhmDrBj1CTTNnYMcQKDr2iJgJg5l0qOZf2W1sq3cdWu/SLfW/PL5Uvlq7HLjUtIU2eqFSWMVSaVFTwq1VkOrgqIcFfwVDUNQ1BVV+xQWbsWj+//NExFESUSKIAVlIAHXDIaHJHGFEGyMrxeBwlJSuXU1zZy04fKrzSZqa+S8kHEOeJ9jZWJ5aT0HvQROzJybdY/jwOgQgTDdzpd113deJCWZm6RMJ0xbt7ZhkRHzGTJLC//NExFohUyJQAZpYALPm54mF1Pv65/rbtiqvfWOxpMTPon0Dxxhz6+f6n//n+/+Ofk+037ZTHn5VOzpp97Elgr+JCc/+7tCX8U9kVahx5v/9yo7Pv2u2MuKdabnlMsp5//NExCcaWvagAYhYAXkR73jsNGQTjx1xxrx2E8doZFJAHmVxXXzL5b02TVI8ugxFZL/2eyva3prP/m2PTOs4rZP/////PXV///64CvgZsgpGvjfWYsFRIryv3mZ/v9zf//NExBARIV6sAcYQAF//XRVV5kdVep3ZU0WFKVgYQggcMEClAQZUgfUgbKpCTkEXLEQUUTedOuU5S2UqW7d/chaaYqWmG+MeNm8zOrFQ5cnGzLZi0f/P7/19aYtpC1KU//NExB4RiXqkAHhMlCSok/a8Lq5xkzZNnG3/WZ7LbcxB4Ung056gISUdOnAghv/xF/7DefVV7Z/AKbJ5Tz+Qyg2pVAY+ThESKIB89pgjv06qjvo3rRZEZ2IOETjgDBw4//NExCoRWS6oAMIKcCQx2RUVofFD5Au5iq3qIIUcPGvVf1f////QwwqrzGs0UMMtunWaQcSbcpxUVFmooa8XpuU/Mu/i/7j+XNqjYeKLEhWbh7NHKoFinR0lxbWUecXT//NExDcRQUK0AMnWcCbJwYFx6Qwc+v/////q1/7khbWURiXNKOHQIcjNrFyudIYnBW1bxRLTeVn7VmMowJxZFGoHg9mcsKivY95Kt8257OZh/zMfzUzuXqB2MTu///////NExEURkZ60AMiWlPrqv59qwES8JmZy1kJd01uwa2eiPz1o16kUUPDq5+1v9X/3VxDilhsVD0aiZE1bJSULaqxKJbzpZ1QuoR3IHwqfizIdXbtrvXpM0AWRh6zMv2IY//NExFEQqTqsAMtWcAoSs+zBYvkiz+X5vtft8/zx4xKyD0aAUb1TyJhB2Y7GfG/b037pn2xiFxYWfrkx67UCDlhGQuVZ////9SoziSARGr4gRqd//////+fiI73hOb9q//NExGESibaoAMlMlHQ91p453QZS1JBLD3GjjVHCOMQFgpIiD6w8pHLWJiYq5lx4bFSizSnLvRk8ZIZOmxTm+io/E///////+JFP+W7/0lEW5ISTUt7kbpcutGjRZxVg//NExGkSUga8AFBQmPg9FCIEIA0jJGilFjnY46DxpoCDYINIDyKQ4G9s9Qw62wWF0MeeWtWMrQMqJ////////H6rc3s9+HnuVy0KD6W255bn82bBzTikFluujB0ThtkE//NExHISkebAAAhQmEmURPIaBF1oVC6pVqQ9FTlC0L//Y/fDFmnD+nVYyfrX2FQaCf+n/////1Hz9cfd03E8V1C0SKm3rrEcYwWB4wMA2D6TSqFhplMgjYhph4pxe3RV//NExHoSYda8AAhMmYln2sKf+O3TPO7fHrvdD/H8m/vi6yOEvlV/e68siTmOhhdwrD5ELCRo/TxJ3d9BDuYREKunuZvXltL9HfTmSWU7WKGd/mTsKI5rhRLCYUpgcDQi//NExIMSGaa0ABBQlQqdBWxpU7gXlv//0flVpKaqjuPhgwE2UqiDVCUEylzDzgeLbMGrPs4s1Uf/dL9mmyyq2s8bisOiUEtHAoS056ff8rfGf3uff+2sapgZJ2zzWyXw//NExI0R4ZqkAHjElGvIqpVyZEbMHjqG+BHgkWcVexiHB8S5t2opbRUlO5m+f3H9Wd15uBkEDAFWaN17aSz2po3GLShFkf4n+/TZlFaeC5//gQoEWZCtCW6KeZ7GtBkU//NExJgRyS6YANZMcCMT8yM0rht2oGJRnfkHEPN6jYmZK3/CwBKMOLsjMGJ7lx4W/q50JcBPfI4AeNCQgu3z6vXR2Zp3JbGYg/hVIVj9Iz+8Vgr3MJVamTYRrRAxsnhf//NExKMSYTaQANYMcGhWcaZAOic8KEkG5t6ogyvKeRyp1XX0VHAB4tIbOz///0ExOAyYnpTvEyrR+qwqTDIMwtIwlk0BciAhRIaQKtVRQ3Li4sVbGLJS6AlAX6mgKSic//NExKwf8b6IANYSlLWrJVvzSr4UfYlm/8Vs1Zd3KUbxoYlZxqTE5xW+K8/1veqfCRwk0HnMRs10WRNwyC4YgCCfnQmuuj////1IqDuaymDSdorozCUOxQhBPlZvnlAR//NExH8a+Y6UANZMlEUOw+QFCEunf4EDNtXxJro0vwnAr1Fhm2zxh6m1T5c+53/s/5WqWosZU0/92y0UsgWqKVTu950YgmJI/6V9yZNYhs35ZzoNFJbc16iA+B3CfKwR//NExGYUgZqYAM5KlJDKvWUFiYHrO6tIz0YtiMcCRVI2yYL9YxK18zZ/dj/z5+7X/WNXkztv/17ZjRIweIDOo5XKaYpYk4iHE/9D8YqETzSTqAbCdhWeCFyVBjRp8FMm//NExGcU2ZaMANZKlErzdxkYydAJsAzoi5DwNuBmxzR3ioG4xogkkgy60Xo6221tt9W//6tpKVDBhTZkJHgq09/rXQYBTXEZQbJgZwZkcaU4IyBm1x3Yg4wMaNKU4GR4//NExGYSKV6EANTElEYMhkuJ5goEBJaQ5aRMHUz6z9SGpda+Jp5z/1P/T/q3B1UReG8UHTFqQECIETqjCIUirEueGAJ+KTX50ur+6tLZcusKOAhcSBEPHJSYADn1i9ri//NExHAPkIZgANZwSImQZaPX6e1sg6bZ13e+tf6Gfs4qGwrsGzFugZtQhjyA5XTjwIDD5buH7bSKSKzA0WIQeSu3ww3KjhPGouI466qrg+9Cs0HgYB9JcTzTGMo+nYJ4//NExIQROGZAAVkQAPDC16Tfr9lbDhw3aaklyTIuOOP7+tjGW5I6iqfSYaVfzV/++9ksZr8+lLfdTKcc/55ruv/9nX8//7ZntRlnGpn4dZS2gQJoIZF+WAOE5edDErc4//NExJIgGyJQAZpYAf9MNrNqPdEaazSrUqq40OyjP5UoUxFkJoPxxnrqLOnkPRZ8q5lPhNNhLrP/NS6h3GfsL1ic22+NPNXeU+nr29IL28Zxfy7zT+lKe2ff6pWe2/eP//NExGQfseKIAZh4AGx95h6R7xUGziGRUWGLQqPe54p569jryko+SQPMTKARNozBPRE2TImZSptIDiUuCZZMrnnuhqcyHIkhydFVpp1MmFZMWFyHF6lyF4VGA0IQMBQC//NExDgUgN6QAclgAMnluLSxKhjGsYkqXR3GWvYHf///S9xAk9/ql8/uQmvjjzJ+H1S0Sbzhgc4nwBgpVHouZbzTTQ7gEwgiy/AuA3ECjyYgXyI7J2QJ2ufIrOcUYDD+//NExDkVoMqMANPwcOk5utmdCqBDnf//8LioSPP4Qa01///6qjbxQ8Q5dZyf+jMoCIgcIoWHnMJyp+IsYCh7trGgGAhiKCpRNtwCrKa8bjahwMDe9yLQ0Kd566ou8Iww//NExDUU6MaYANZycFyJQ7yj6Ehpk5eryiwUZRt///ZYo3eGO04Q/////JrL90AqpDm5QskxehJjcwhOM+hfliXMyDC7eNaIqJQjKVKrCScTiTWhCABfang+zUi6D8dl//NExDQQqMaoAM5wcNWcSf1uy/////kThX2sXZnuWyU8hr7VGbEgwTuSx/n1RxE+/NVhh6CSxyhgUmLUmeCAai05Dr/KoiMDQ6WZZ8SFcdnT621hqLe6th9lH///oWGm//NExEQSqM6YANYwcH0f////70prnMnjHbwReh0v8n2Z8OdJaryIxJsKdzF9WwsLMwNaBDOSyi9U3GpUIGnaacEXolgTAFzozFWZIBldO9uVPrAtpwNVHv/////LVTCr//NExEwSSMKEANawTNHBM8xxMxdw35gaRo3O4aC6PiTJgpYnVYROTqdF8WSu1TS6U0kla68OQVByOpyTVpjCJJ6zElUrkqdx6h4zbf/9HX//Qg8HBpIaiOPAcUPMEMJA//NExFURqMZQAVpgABQOFN9DaA+J2rEqfuXuIkzcg+H72pY8Si0mAEFIAIggI0dqItgsEQcQHFwtU8iPjbkG5wwPxc9Uvoy1l76kUIQYKJN2PqmTp7lnhaMlD5LKu0l4//NExGEh2yo8AZtAAK375jT0e9Uq7K4gdY+xd+KiI+Vn1/9FqnylObifqBxFL0Ln2H4u9Wa8LJl81VEcaSs66X6xTsTWkf4upY1tsi4zaxbzcZ1myDuVA+cipClIWFBk//NExCwcKjKEAZiAADGbOmJuVBzRzSgmkghbNjFM3RWZyqp1oL9lzRA6pmR0kEND88tZomYpoXW6lbrX/9FJaGo0QcGnWFkeT9yCpMFx5P7IuscXZLAYe8ispsKuBRVi//NExA4R6NqcAdlIAEy4kmPaNAE40261imiasUVxsOzq/AAspaNI42DhchsRgCMoGAlmUzurpQcHCMFRUKFjH/8DfyFFKE2ArNskEj0a3AAiQEQKCJUOxgWy0wTRcZKN//NExBkQYS6gANPUcFOrLh3e64WvWHNyWYaPlIzwFRuaRkrI3XdNkes1s0shsP7/6nlxguFlo4rsDoE1EOZRFyXBPwMKo39/GXZ6JvbNubYoYhnJ2///v3RLf///K5LC//NExCoUiw6kAHiEueza6KYlEyEXJvkbU5XIrORv6K6CFAzpJIxCQhQ7wMWii0EHEKigYGsqE5RIDSix0l7f/89/+8hebvVZ/WiQj+f+v//3//z1LfnlLPV9ftOeyYPN//NExCoY0xqgAChWvXTLppcprrmjeXInCYSTAplezy55q8E8luNSWbEEmWkcbSMoYsNzBI1KBDH4jMBJJ4im4qH8hhAngaon/z//////////3f///06t9tV7aMj27JRE//NExBkSEyKsAAhOvHdruado7mFDm2QjPVDo4ysew+OCISFxUTESaDAocWlxQOGioFA8BoDBCCIFBKHTKn/8f/////r/y//9////u39F9P/R/n0ZmzDGY9jXeWVmYg55//NExCMRYxqsAAhOvZOZ1MNIIaykDhCOFR4Ih8gJh8HosNGBEHxQIgpE5zEAfmp6A//f/n///zIUi///zm////9OzOlPT5aItVfMlEv0iIlRGnlsVTo6KJiMTMBhaHzM//NExDARKxqsAAhKvaJOJOKgCDCcHIQgmQXFRU4acIh4XcoVAQHRmwgDohIoxwNL/MjxvZZfxsBsEz9/y/+qOXqX/6//0dv+/9+Z3qyFsmkrtMrIZ3eayKyt2+gEaokK//NExD4SIxaoAGBEuOQUYKM6ATI5iwFly/MxyVqs5jIY2oKrEaMoGKXBLQ1D2ReW9TKzfb5PRsrXMapU0aeAcPAkDgEHMMuNO5/jviu++0UghDFH/1TL//9alv1AySrm//NExEgQaSqgAMvQcO4TV4yEPMYC9i7xpONaAc9R69rUHfqns63Y/JB6jFjSkDxJHaN7WORbpx8ztdy76u23TzQNIUZ/+HCX9/+Ou///71KIVeXpUbot+PATAOSi44cF//NExFkSiSagAM4WcIOWPOF73FpI433KCBbOdqd+YpeamcfiqYPTbA8AUQgFwWtLHdfcXxv/O3DXNjZNa//86Bf//rb///9A5Y1tsIUtKYIMekWG3HWEX7j8gzUPsNSU//NExGESYS6YAM5QcJIPeZscJzZtWVtoomA1Gyx/LqaJoVkqr7URfnTQpxyVbbv//34JmazF//Yc0f//8cdUodswNR9/HhBtosbIlKieOgkxBW52CrOVd2se4Z6mrH7n//NExGoSOa6YAMNElDvq8oVmhdhsKxlTV1mq/0pT8u46QX//EZ31u/d5k3///7y0PYDvRY65hnUSNI5RPf1Gk04Ji6R4Bc1PVyxTU7JbN6ey1Uvfhl+SLDBmHGMAAm3X//NExHQROTKQAM4OcL//VlR0czBRR1P/r///kkkzo///FuzFgVGqoJUODj3KfKbxmwIRNxCoCEVZW1S2xaxxoCTGzmCuR/PaCyAhSCgmaUkufbTLk0z73PEizPPmZn8n//NExIISGS6AANYEcPJ7+76fM515+nXmaztKVzbTS/9k59HMynz7BxWNhxYsf19ilubV0l2BZM3s8sZjYpD8n53GcKDuxcLDRo06IZaCg7MiiDQQBIJBYJhgeMUqQWkI//NExIwiEyJ8AMjYvI4aDQLHd5K/6mVy10KmROl/uRiQ8JCbVJ09Pz8y89Cgs6WaT32rOzszWetPTP/1aOR1vX8nJ23TlaN2WX55y1ZXmEabJUrGD5cmbbskMFK0plxD//NExFYhwyaAAEDYvLLzISFCHY6THa0tMmZVGLCiMezodTcf1cIRAOPg5Xj8B8BgNhmXxKH2oNAsBEKCQq4Dl+/t//S//xH7XPf//tQ/9f//PX//F//9RzMcN+ZdxXwo//NExCIU2yKUADhWvMbTZc6e77amxlb53U3PRDVDnEZsnsKUjiqJ41LiYBkBMA9J5oTx2juEAVFp1IlIFyNVCxT///////3////////b/p7/d/NpSzVc29zzdjzVXzUn//NExCERoyKYAChOvA9VDjyiIpw+cIGKETxUD4KCUWHgChooikSB5cB7iUJBUZCIeLEVa/9//////////n////////dp0yrzaW2RX3mGoa/NHBeRPHDSRA9hwwmYeyjU//NExC0RWxqgAAhOvdFYEDAfi0RQsQPBeaRNC4rMKgvE4ljg6soDb///////31tt7q7nHMec7WuljWPY5HHZ7noqOaa7rICOD5WLMYaIg3mDg+NgwNwegcKybgvHwejA//NExDoQ6yKgABAOvEoiDUiJAPBcOmUL////////v///u3////6f/9VTNXqrsRX+ysarqqjkeONnZyGHCc4sSOFJEkIgsHRqLS44NUGpEiLCgWEQkI43JEBdHji////7//NExEkQ+xagAAhOuf////f//r////////1///z/Xp9/x6NUT/Vw9fVEvKVDo1ojizslDx5BIdCQ0nFyhYPYOEwuFx8ySYJQ6LEIQHMKQRUMb/p////9vp////Rf//////NExFgR2xqgABBQvXv///0oz5vtNKFTTjWU3ZzUVHiKeOONkdSZxEwiPHA+EZxsUHhKLmBcRlEgocNwwLjB8RRrySFwbtJ+z6i8/ucg6JpeybXd2Wg6tns6zBBtJaCl//NExGMRcxqgAUI4ASrU161pVtzVamWpS01P0VfToPS09C2pJbKdGtSkFLNjstSJYfUDJmSoMXDJzyZKO9FEkUDFj6BkSJSLR3CbEkOIT4YcnEAmibGmMQxH0uj3HeH4//NExHAhmyqIAYtoAE8FmcHC5oPLMUzZkCiOIZQ5h4km6xyqS///ywheUuhjd+UuXzG///////////+X/1KUtDB4qGdS5tDGcodDpilKyCQeDxTCQs6h0AQBFhEOsYPO//NExDwRyxpQAcEoASICiyh0OipUDweFVVARLfqUpQoCX//nIUhCcQhYmYQ58whX/6lUpW/5tSzP/LoUvQ2rb6lN7/p5cxjGM+W/Uro6lCgJsWEFHcG//BVv8YplDAwQ//NExEcQmqYAABBEuTR5LLLLCMjIwDIjIyMjIjIyMjIjIyPIjIyP////////////1RUVFRFRUVFRFRUVFRFRUVFRFMDBAwQdEVFRUVEUwMEoGAVMQU1FVVVVTEFNRTMu//NExFcSawz8ABhEuTEwMFVVVVVVVVVVVVVVVVVVVVVVVVVVVVVVVVVVVVVVVVVVVVVVVVVVVVVVVVVVVVVVVVVVVVVVVVVVVVVVVVVVVVVVVVVVVVVVVVVVTEFNRTMu//NExGAAAANIAAAAADEwMFVVVVVVVVVVVVVVVVVVVVVVVVVVVVVVVVVVVVVVVVVVVVVVVVVVVVVVVVVVVVVVVVVVVVVVVVVVVVVVVVVVVVVVVVVVVVVVVVVVTEFNRTMu//NExKwAAANIAAAAADEwMFVVVVVVVVVVVVVVVVVVVVVVVVVVVVVVVVVVVVVVVVVVVVVVVVVVVVVVVVVVVVVVVVVVVVVVVVVVVVVVVVVVVVVVVVVVVVVVVVVV/9lGkkQ4//NExKwAAANIAAAAAPCCcd6RWDigfEFQrsx9UKLBgILih03ZnIdF/7OzO1WlJSCcX/OqVcWztm7n/dp3YtnbNzN/dppSk4dv///2epWuLZ///+z1KSkE4ftKSkE4tn3N//NExKwAAANIAAAAANzuxpJEOPGJx3pEOPGJxfRdHEB2UWgeDAyMjITqkZFSMiQuMDIyOrbv///9kZElaxadHVtm3//6pkSVKFp1aVXf///rUyBkZAWFo6VSMFYvIsWn//NExKwAAANIAAAAAEhYWBwlQOCkpGBk5BUFMWic8JGlxeVLO1hI0wiIaaEfCRphEZoR2v/kZNCPhI0wkdJr5d//7IZNYatHI1mTTz///81kNWqGoYE5MsNWjoZNZcjs//NExP8acwVsADFMuTJlqGTLDJZUNWWIaxyYLFVMQU1FMy4xMDBVVVVVVVVVVVVVVVVVVVVVVVVVVVVVVVVVVVVVVVVVVVVVVVVVVVVVVVVVVVVVVVVVVVVVTEFNRTMu//NExOgTkCXoABDGATEwMFVVVVVVVVVVVVVVVVVVVVVVVVVVVVVVVVVVVVVVVVVVVVVVVVVVVVVVVVVVVVVVVVVVVVVVVVVVVVVVVVVVVVVVVVVVVVVVVVVVTEFNRTMu//NExOwVcxm8ADBGvTEwMFVVVVVVVVVVVVVVVVVVVVVVVVVVVVVVVVVVVVVVVVVVVVVVVVVVVVVVVVVVVVVVVVVVVVVVVVVVVVVVVVVVVVVVVVVVVVVVVVVVTEFNRTMu//NExKwAAANIAAAAADEwMFVVVVVVVVVVVVVVVVVVVVVVVVVVVVVVVVVVVVVVVVVVVVVVVVVVVVVVVVVVVVVVVVVVVVVVVVVVVVVVVVVVVVVVVVVVVVVVVVVVTEFNRTMu//NExKwAAANIAAAAADEwMFVVVVVVVVVVVVVVVVVVVVVVVVVVVVVVVVVVVVVVVVVVVVVVVVVVVVVVVVVVVVVVVVVVVVVVVVVVVVVVVVVVVVVVVVVVVVVVVVVVTEFNRTMu//NExKwAAANIAAAAADEwMFVVVVVVVVVVVVVVVVVVVVVVVVVVVVVVVVVVVVVVVVVVVVVVVVVVVVVVVVVVVVVVVVVVVVVVVVVVVVVVVVVVVVVVVVVVVVVVVVVVTEFNRTMu//NExKwAAANIAAAAADEwMFVVVVVVVVVVVVVVVVVVVVVVVVVVVVVVVVVVVVVVVVVVVVVVVVVVVVVVVVVVVVVVVVVVVVVVVVVVVVVVVVVVVVVVVVVVVVVVVVVVTEFNRTMu//NExKwAAANIAAAAADEwMFVVVVVVVVVVVVVVVVVVVVVVVVVVVVVVVVVVVVVVVVVVVVVVVVVVVVVVVVVVVVVVVVVVVVVVVVVVVVVVVVVVVVVVVVVVVVVVVVVVTEFNRTMu//NExKwAAANIAAAAADEwMFVVVVVVVVVVVVVVVVVVVVVVVVVVVVVVVVVVVVVVVVVVVVVVVVVVVVVVVVVVVVVVVVVVVVVVVVVVVVVVVVVVVVVVVVVVVVVVVVVVTEFNRTMu//NExKwAAANIAAAAADEwMFVVVVVVVVVVVVVVVVVVVVVVVVVVVVVVVVVVVVVVVVVVVVVVVVVVVVVVVVVVVVVVVVVVVVVVVVVVVVVVVVVVVVVVVVVVVVVVVVVVVVVVVVVV//NExKwAAANIAAAAAFVVVVVVVVVVVVVVVVVVVVVVVVVVVVVVVVVVVVVVVVVVVVVVVVVVVVVVVVVVVVVVVVVVVVVVVVVVVVVVVVVVVVVVVVVVVVVVVVVVVVVVVVVVVVVV//NExKwAAANIAAAAAFVVVVVVVVVVVVVVVVVVVVVVVVVVVVVVVVVVVVVVVVVVVVVVVVVVVVVVVVVVVVVVVVVVVVVVVVVVVVVVVVVVVVVVVVVVVVVVVVVVVVVVVVVVVVVV\" type=\"audio/mpeg\" />\n",
              "                    Your browser does not support the audio element.\n",
              "                </audio>\n",
              "              "
            ]
          },
          "metadata": {},
          "execution_count": 206
        }
      ]
    },
    {
      "cell_type": "code",
      "source": [],
      "metadata": {
        "id": "qZfO2lDnSOqL"
      },
      "execution_count": 197,
      "outputs": []
    }
  ]
}